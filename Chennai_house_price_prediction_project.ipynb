{
  "cells": [
    {
      "cell_type": "code",
      "execution_count": 1,
      "metadata": {
        "id": "sdLyuZtvRF7f"
      },
      "outputs": [],
      "source": [
        "#importing the required librariers\n",
        "import pandas as pd\n",
        "import matplotlib.pyplot as plt\n",
        "import numpy as np\n",
        "import seaborn as sns"
      ]
    },
    {
      "cell_type": "code",
      "execution_count": 2,
      "metadata": {
        "id": "_IWKOWKMRgZo"
      },
      "outputs": [],
      "source": [
        "#Read the data from the train Chennai sale csv file using pandas dataframe\n",
        "data = pd.read_csv(\"train-chennai-sale.csv\")"
      ]
    },
    {
      "cell_type": "markdown",
      "metadata": {
        "id": "w7jAE103_uMd"
      },
      "source": [
        "To take a closer look at the data, we take the help of “ .head()” function of pandas library which returns the first five observations of the data set. Similarly, “.tail()” returns last five observations of the data set."
      ]
    },
    {
      "cell_type": "code",
      "execution_count": 3,
      "metadata": {
        "colab": {
          "base_uri": "https://localhost:8080/",
          "height": 386
        },
        "id": "Uss5qVvr_tyg",
        "outputId": "f3b403fe-afeb-4f70-fbd8-e421e92d46ee"
      },
      "outputs": [
        {
          "output_type": "execute_result",
          "data": {
            "text/html": [
              "\n",
              "  <div id=\"df-ed8e7f49-c161-447d-b195-eb21fc73be6b\">\n",
              "    <div class=\"colab-df-container\">\n",
              "      <div>\n",
              "<style scoped>\n",
              "    .dataframe tbody tr th:only-of-type {\n",
              "        vertical-align: middle;\n",
              "    }\n",
              "\n",
              "    .dataframe tbody tr th {\n",
              "        vertical-align: top;\n",
              "    }\n",
              "\n",
              "    .dataframe thead th {\n",
              "        text-align: right;\n",
              "    }\n",
              "</style>\n",
              "<table border=\"1\" class=\"dataframe\">\n",
              "  <thead>\n",
              "    <tr style=\"text-align: right;\">\n",
              "      <th></th>\n",
              "      <th>PRT_ID</th>\n",
              "      <th>AREA</th>\n",
              "      <th>INT_SQFT</th>\n",
              "      <th>DATE_SALE</th>\n",
              "      <th>DIST_MAINROAD</th>\n",
              "      <th>N_BEDROOM</th>\n",
              "      <th>N_BATHROOM</th>\n",
              "      <th>N_ROOM</th>\n",
              "      <th>SALE_COND</th>\n",
              "      <th>PARK_FACIL</th>\n",
              "      <th>...</th>\n",
              "      <th>UTILITY_AVAIL</th>\n",
              "      <th>STREET</th>\n",
              "      <th>MZZONE</th>\n",
              "      <th>QS_ROOMS</th>\n",
              "      <th>QS_BATHROOM</th>\n",
              "      <th>QS_BEDROOM</th>\n",
              "      <th>QS_OVERALL</th>\n",
              "      <th>REG_FEE</th>\n",
              "      <th>COMMIS</th>\n",
              "      <th>SALES_PRICE</th>\n",
              "    </tr>\n",
              "  </thead>\n",
              "  <tbody>\n",
              "    <tr>\n",
              "      <th>0</th>\n",
              "      <td>P03210</td>\n",
              "      <td>Karapakkam</td>\n",
              "      <td>1004</td>\n",
              "      <td>04-05-2011</td>\n",
              "      <td>131</td>\n",
              "      <td>1.0</td>\n",
              "      <td>1.0</td>\n",
              "      <td>3</td>\n",
              "      <td>AbNormal</td>\n",
              "      <td>Yes</td>\n",
              "      <td>...</td>\n",
              "      <td>AllPub</td>\n",
              "      <td>Paved</td>\n",
              "      <td>A</td>\n",
              "      <td>4.0</td>\n",
              "      <td>3.9</td>\n",
              "      <td>4.9</td>\n",
              "      <td>4.330</td>\n",
              "      <td>380000</td>\n",
              "      <td>144400</td>\n",
              "      <td>7600000</td>\n",
              "    </tr>\n",
              "    <tr>\n",
              "      <th>1</th>\n",
              "      <td>P09411</td>\n",
              "      <td>Anna Nagar</td>\n",
              "      <td>1986</td>\n",
              "      <td>19-12-2006</td>\n",
              "      <td>26</td>\n",
              "      <td>2.0</td>\n",
              "      <td>1.0</td>\n",
              "      <td>5</td>\n",
              "      <td>AbNormal</td>\n",
              "      <td>No</td>\n",
              "      <td>...</td>\n",
              "      <td>AllPub</td>\n",
              "      <td>Gravel</td>\n",
              "      <td>RH</td>\n",
              "      <td>4.9</td>\n",
              "      <td>4.2</td>\n",
              "      <td>2.5</td>\n",
              "      <td>3.765</td>\n",
              "      <td>760122</td>\n",
              "      <td>304049</td>\n",
              "      <td>21717770</td>\n",
              "    </tr>\n",
              "    <tr>\n",
              "      <th>2</th>\n",
              "      <td>P01812</td>\n",
              "      <td>Adyar</td>\n",
              "      <td>909</td>\n",
              "      <td>04-02-2012</td>\n",
              "      <td>70</td>\n",
              "      <td>1.0</td>\n",
              "      <td>1.0</td>\n",
              "      <td>3</td>\n",
              "      <td>AbNormal</td>\n",
              "      <td>Yes</td>\n",
              "      <td>...</td>\n",
              "      <td>ELO</td>\n",
              "      <td>Gravel</td>\n",
              "      <td>RL</td>\n",
              "      <td>4.1</td>\n",
              "      <td>3.8</td>\n",
              "      <td>2.2</td>\n",
              "      <td>3.090</td>\n",
              "      <td>421094</td>\n",
              "      <td>92114</td>\n",
              "      <td>13159200</td>\n",
              "    </tr>\n",
              "    <tr>\n",
              "      <th>3</th>\n",
              "      <td>P05346</td>\n",
              "      <td>Velachery</td>\n",
              "      <td>1855</td>\n",
              "      <td>13-03-2010</td>\n",
              "      <td>14</td>\n",
              "      <td>3.0</td>\n",
              "      <td>2.0</td>\n",
              "      <td>5</td>\n",
              "      <td>Family</td>\n",
              "      <td>No</td>\n",
              "      <td>...</td>\n",
              "      <td>NoSewr</td>\n",
              "      <td>Paved</td>\n",
              "      <td>I</td>\n",
              "      <td>4.7</td>\n",
              "      <td>3.9</td>\n",
              "      <td>3.6</td>\n",
              "      <td>4.010</td>\n",
              "      <td>356321</td>\n",
              "      <td>77042</td>\n",
              "      <td>9630290</td>\n",
              "    </tr>\n",
              "    <tr>\n",
              "      <th>4</th>\n",
              "      <td>P06210</td>\n",
              "      <td>Karapakkam</td>\n",
              "      <td>1226</td>\n",
              "      <td>05-10-2009</td>\n",
              "      <td>84</td>\n",
              "      <td>1.0</td>\n",
              "      <td>1.0</td>\n",
              "      <td>3</td>\n",
              "      <td>AbNormal</td>\n",
              "      <td>Yes</td>\n",
              "      <td>...</td>\n",
              "      <td>AllPub</td>\n",
              "      <td>Gravel</td>\n",
              "      <td>C</td>\n",
              "      <td>3.0</td>\n",
              "      <td>2.5</td>\n",
              "      <td>4.1</td>\n",
              "      <td>3.290</td>\n",
              "      <td>237000</td>\n",
              "      <td>74063</td>\n",
              "      <td>7406250</td>\n",
              "    </tr>\n",
              "  </tbody>\n",
              "</table>\n",
              "<p>5 rows × 22 columns</p>\n",
              "</div>\n",
              "      <button class=\"colab-df-convert\" onclick=\"convertToInteractive('df-ed8e7f49-c161-447d-b195-eb21fc73be6b')\"\n",
              "              title=\"Convert this dataframe to an interactive table.\"\n",
              "              style=\"display:none;\">\n",
              "        \n",
              "  <svg xmlns=\"http://www.w3.org/2000/svg\" height=\"24px\"viewBox=\"0 0 24 24\"\n",
              "       width=\"24px\">\n",
              "    <path d=\"M0 0h24v24H0V0z\" fill=\"none\"/>\n",
              "    <path d=\"M18.56 5.44l.94 2.06.94-2.06 2.06-.94-2.06-.94-.94-2.06-.94 2.06-2.06.94zm-11 1L8.5 8.5l.94-2.06 2.06-.94-2.06-.94L8.5 2.5l-.94 2.06-2.06.94zm10 10l.94 2.06.94-2.06 2.06-.94-2.06-.94-.94-2.06-.94 2.06-2.06.94z\"/><path d=\"M17.41 7.96l-1.37-1.37c-.4-.4-.92-.59-1.43-.59-.52 0-1.04.2-1.43.59L10.3 9.45l-7.72 7.72c-.78.78-.78 2.05 0 2.83L4 21.41c.39.39.9.59 1.41.59.51 0 1.02-.2 1.41-.59l7.78-7.78 2.81-2.81c.8-.78.8-2.07 0-2.86zM5.41 20L4 18.59l7.72-7.72 1.47 1.35L5.41 20z\"/>\n",
              "  </svg>\n",
              "      </button>\n",
              "      \n",
              "  <style>\n",
              "    .colab-df-container {\n",
              "      display:flex;\n",
              "      flex-wrap:wrap;\n",
              "      gap: 12px;\n",
              "    }\n",
              "\n",
              "    .colab-df-convert {\n",
              "      background-color: #E8F0FE;\n",
              "      border: none;\n",
              "      border-radius: 50%;\n",
              "      cursor: pointer;\n",
              "      display: none;\n",
              "      fill: #1967D2;\n",
              "      height: 32px;\n",
              "      padding: 0 0 0 0;\n",
              "      width: 32px;\n",
              "    }\n",
              "\n",
              "    .colab-df-convert:hover {\n",
              "      background-color: #E2EBFA;\n",
              "      box-shadow: 0px 1px 2px rgba(60, 64, 67, 0.3), 0px 1px 3px 1px rgba(60, 64, 67, 0.15);\n",
              "      fill: #174EA6;\n",
              "    }\n",
              "\n",
              "    [theme=dark] .colab-df-convert {\n",
              "      background-color: #3B4455;\n",
              "      fill: #D2E3FC;\n",
              "    }\n",
              "\n",
              "    [theme=dark] .colab-df-convert:hover {\n",
              "      background-color: #434B5C;\n",
              "      box-shadow: 0px 1px 3px 1px rgba(0, 0, 0, 0.15);\n",
              "      filter: drop-shadow(0px 1px 2px rgba(0, 0, 0, 0.3));\n",
              "      fill: #FFFFFF;\n",
              "    }\n",
              "  </style>\n",
              "\n",
              "      <script>\n",
              "        const buttonEl =\n",
              "          document.querySelector('#df-ed8e7f49-c161-447d-b195-eb21fc73be6b button.colab-df-convert');\n",
              "        buttonEl.style.display =\n",
              "          google.colab.kernel.accessAllowed ? 'block' : 'none';\n",
              "\n",
              "        async function convertToInteractive(key) {\n",
              "          const element = document.querySelector('#df-ed8e7f49-c161-447d-b195-eb21fc73be6b');\n",
              "          const dataTable =\n",
              "            await google.colab.kernel.invokeFunction('convertToInteractive',\n",
              "                                                     [key], {});\n",
              "          if (!dataTable) return;\n",
              "\n",
              "          const docLinkHtml = 'Like what you see? Visit the ' +\n",
              "            '<a target=\"_blank\" href=https://colab.research.google.com/notebooks/data_table.ipynb>data table notebook</a>'\n",
              "            + ' to learn more about interactive tables.';\n",
              "          element.innerHTML = '';\n",
              "          dataTable['output_type'] = 'display_data';\n",
              "          await google.colab.output.renderOutput(dataTable, element);\n",
              "          const docLink = document.createElement('div');\n",
              "          docLink.innerHTML = docLinkHtml;\n",
              "          element.appendChild(docLink);\n",
              "        }\n",
              "      </script>\n",
              "    </div>\n",
              "  </div>\n",
              "  "
            ],
            "text/plain": [
              "   PRT_ID        AREA  INT_SQFT   DATE_SALE  DIST_MAINROAD  N_BEDROOM  \\\n",
              "0  P03210  Karapakkam      1004  04-05-2011            131        1.0   \n",
              "1  P09411  Anna Nagar      1986  19-12-2006             26        2.0   \n",
              "2  P01812       Adyar       909  04-02-2012             70        1.0   \n",
              "3  P05346   Velachery      1855  13-03-2010             14        3.0   \n",
              "4  P06210  Karapakkam      1226  05-10-2009             84        1.0   \n",
              "\n",
              "   N_BATHROOM  N_ROOM SALE_COND PARK_FACIL  ... UTILITY_AVAIL  STREET MZZONE  \\\n",
              "0         1.0       3  AbNormal        Yes  ...        AllPub   Paved      A   \n",
              "1         1.0       5  AbNormal         No  ...        AllPub  Gravel     RH   \n",
              "2         1.0       3  AbNormal        Yes  ...           ELO  Gravel     RL   \n",
              "3         2.0       5    Family         No  ...       NoSewr    Paved      I   \n",
              "4         1.0       3  AbNormal        Yes  ...        AllPub  Gravel      C   \n",
              "\n",
              "  QS_ROOMS QS_BATHROOM  QS_BEDROOM  QS_OVERALL  REG_FEE  COMMIS  SALES_PRICE  \n",
              "0      4.0         3.9         4.9       4.330   380000  144400      7600000  \n",
              "1      4.9         4.2         2.5       3.765   760122  304049     21717770  \n",
              "2      4.1         3.8         2.2       3.090   421094   92114     13159200  \n",
              "3      4.7         3.9         3.6       4.010   356321   77042      9630290  \n",
              "4      3.0         2.5         4.1       3.290   237000   74063      7406250  \n",
              "\n",
              "[5 rows x 22 columns]"
            ]
          },
          "metadata": {},
          "execution_count": 3
        }
      ],
      "source": [
        "data.head()"
      ]
    },
    {
      "cell_type": "code",
      "execution_count": 4,
      "metadata": {
        "colab": {
          "base_uri": "https://localhost:8080/"
        },
        "id": "PXNrGUem8kAg",
        "outputId": "b786ea5b-5459-46e3-baef-8f33f3449498"
      },
      "outputs": [
        {
          "output_type": "execute_result",
          "data": {
            "text/plain": [
              "Index(['PRT_ID', 'AREA', 'INT_SQFT', 'DATE_SALE', 'DIST_MAINROAD', 'N_BEDROOM',\n",
              "       'N_BATHROOM', 'N_ROOM', 'SALE_COND', 'PARK_FACIL', 'DATE_BUILD',\n",
              "       'BUILDTYPE', 'UTILITY_AVAIL', 'STREET', 'MZZONE', 'QS_ROOMS',\n",
              "       'QS_BATHROOM', 'QS_BEDROOM', 'QS_OVERALL', 'REG_FEE', 'COMMIS',\n",
              "       'SALES_PRICE'],\n",
              "      dtype='object')"
            ]
          },
          "metadata": {},
          "execution_count": 4
        }
      ],
      "source": [
        "data.columns#gives the columns present in the data"
      ]
    },
    {
      "cell_type": "markdown",
      "metadata": {
        "id": "zeYMnvAI74-S"
      },
      "source": [
        "**Observations:**\n",
        "\n",
        "1.  As REG_FEE and COMMIS columns does not much impact on the SALES_PRICE drop these two columns from it \n",
        "2.  Dropping PRT_ID column since it is a unique id given for each row does not impact much on the sales price"
      ]
    },
    {
      "cell_type": "code",
      "execution_count": 5,
      "metadata": {
        "id": "naW7Y73U7zQe"
      },
      "outputs": [],
      "source": [
        "data.drop([\"REG_FEE\",\"COMMIS\"],axis=1,inplace = True)\n",
        "data.drop(\"PRT_ID\",axis = 1,inplace=True)"
      ]
    },
    {
      "cell_type": "code",
      "execution_count": 6,
      "metadata": {
        "colab": {
          "base_uri": "https://localhost:8080/"
        },
        "id": "8k7Ool-YC7Aj",
        "outputId": "b75fcb6d-85e4-4610-e2c9-99deb0e83f04"
      },
      "outputs": [
        {
          "output_type": "execute_result",
          "data": {
            "text/plain": [
              "(7109, 19)"
            ]
          },
          "metadata": {},
          "execution_count": 6
        }
      ],
      "source": [
        "#Find out the total number of rows and columns in the dataset using “.shape”.\n",
        "data.shape"
      ]
    },
    {
      "cell_type": "markdown",
      "metadata": {
        "id": "a9oJnUDHDBb9"
      },
      "source": [
        "**Observations:**\n",
        "* After removing few columns Dataset comprises 7109 observations(rows) and 19 features(columns).\n",
        "* Out of the 19, one is the target variable and rest 18 are input variables."
      ]
    },
    {
      "cell_type": "code",
      "execution_count": 7,
      "metadata": {
        "colab": {
          "base_uri": "https://localhost:8080/"
        },
        "id": "ywGAbDEqZkpU",
        "outputId": "30d4740a-dc1c-41b9-d5d2-54a91bab0444"
      },
      "outputs": [
        {
          "output_type": "stream",
          "name": "stdout",
          "text": [
            "0\n"
          ]
        }
      ],
      "source": [
        "#Checking for the duplicate values present in the dataset\n",
        "print(data.duplicated().sum())"
      ]
    },
    {
      "cell_type": "markdown",
      "metadata": {
        "id": "fSeuEckS-jAV"
      },
      "source": [
        "**Observations:**\n",
        "\n",
        "As the sum is 0,there are no duplicate values present in the data set"
      ]
    },
    {
      "cell_type": "code",
      "execution_count": 8,
      "metadata": {
        "colab": {
          "base_uri": "https://localhost:8080/"
        },
        "id": "kjop8E4mTBHl",
        "outputId": "a634e671-c5bb-423e-8290-47f0b816f3dd"
      },
      "outputs": [
        {
          "output_type": "execute_result",
          "data": {
            "text/plain": [
              "AREA              0\n",
              "INT_SQFT          0\n",
              "DATE_SALE         0\n",
              "DIST_MAINROAD     0\n",
              "N_BEDROOM         1\n",
              "N_BATHROOM        5\n",
              "N_ROOM            0\n",
              "SALE_COND         0\n",
              "PARK_FACIL        0\n",
              "DATE_BUILD        0\n",
              "BUILDTYPE         0\n",
              "UTILITY_AVAIL     0\n",
              "STREET            0\n",
              "MZZONE            0\n",
              "QS_ROOMS          0\n",
              "QS_BATHROOM       0\n",
              "QS_BEDROOM        0\n",
              "QS_OVERALL       48\n",
              "SALES_PRICE       0\n",
              "dtype: int64"
            ]
          },
          "metadata": {},
          "execution_count": 8
        }
      ],
      "source": [
        "#Checking for null values using isna() function and sum() gives total number of null values in each columns\n",
        "data.isna().sum()"
      ]
    },
    {
      "cell_type": "markdown",
      "metadata": {
        "id": "CobP9auP7FsE"
      },
      "source": [
        "**Observations**\n",
        "\n",
        "N_BEDROOM,N_BATHROOM,QS_OVERALL have some missing values need to be dropped or filled with the correspoding values"
      ]
    },
    {
      "cell_type": "code",
      "execution_count": 9,
      "metadata": {
        "colab": {
          "base_uri": "https://localhost:8080/"
        },
        "id": "iolWF2bbED3i",
        "outputId": "2c73499e-22df-4525-883c-ee2e36d57840"
      },
      "outputs": [
        {
          "output_type": "stream",
          "name": "stdout",
          "text": [
            "<class 'pandas.core.frame.DataFrame'>\n",
            "RangeIndex: 7109 entries, 0 to 7108\n",
            "Data columns (total 19 columns):\n",
            " #   Column         Non-Null Count  Dtype  \n",
            "---  ------         --------------  -----  \n",
            " 0   AREA           7109 non-null   object \n",
            " 1   INT_SQFT       7109 non-null   int64  \n",
            " 2   DATE_SALE      7109 non-null   object \n",
            " 3   DIST_MAINROAD  7109 non-null   int64  \n",
            " 4   N_BEDROOM      7108 non-null   float64\n",
            " 5   N_BATHROOM     7104 non-null   float64\n",
            " 6   N_ROOM         7109 non-null   int64  \n",
            " 7   SALE_COND      7109 non-null   object \n",
            " 8   PARK_FACIL     7109 non-null   object \n",
            " 9   DATE_BUILD     7109 non-null   object \n",
            " 10  BUILDTYPE      7109 non-null   object \n",
            " 11  UTILITY_AVAIL  7109 non-null   object \n",
            " 12  STREET         7109 non-null   object \n",
            " 13  MZZONE         7109 non-null   object \n",
            " 14  QS_ROOMS       7109 non-null   float64\n",
            " 15  QS_BATHROOM    7109 non-null   float64\n",
            " 16  QS_BEDROOM     7109 non-null   float64\n",
            " 17  QS_OVERALL     7061 non-null   float64\n",
            " 18  SALES_PRICE    7109 non-null   int64  \n",
            "dtypes: float64(6), int64(4), object(9)\n",
            "memory usage: 1.0+ MB\n"
          ]
        }
      ],
      "source": [
        "#info gives the Column, non null count and datatype of the columns\n",
        "data.info()"
      ]
    },
    {
      "cell_type": "code",
      "execution_count": 10,
      "metadata": {
        "colab": {
          "base_uri": "https://localhost:8080/",
          "height": 298
        },
        "id": "rMf2mSu413E4",
        "outputId": "af758a45-cf63-464d-8567-cd848a0bedf6"
      },
      "outputs": [
        {
          "output_type": "execute_result",
          "data": {
            "text/plain": [
              "<matplotlib.axes._subplots.AxesSubplot at 0x7f7c43932390>"
            ]
          },
          "metadata": {},
          "execution_count": 10
        },
        {
          "output_type": "display_data",
          "data": {
            "image/png": "[encoded data removed]",
            "text/plain": [
              "<Figure size 432x288 with 1 Axes>"
            ]
          },
          "metadata": {
            "needs_background": "light"
          }
        }
      ],
      "source": [
        "#checking for the QS_OVERALL column have any outliers in it\n",
        "import seaborn as sns\n",
        "sns.boxplot(x = 'QS_OVERALL', data = data)"
      ]
    },
    {
      "cell_type": "markdown",
      "metadata": {
        "id": "oncVDdvWErPv"
      },
      "source": [
        "There are no outliers present in the QS_OVERALL replace the null values with the mean of QS_OVERALL"
      ]
    },
    {
      "cell_type": "code",
      "execution_count": 11,
      "metadata": {
        "colab": {
          "base_uri": "https://localhost:8080/"
        },
        "id": "YqzBOEM7-nlT",
        "outputId": "31ff4f77-04f3-495a-f944-ddf0f7e330ec"
      },
      "outputs": [
        {
          "output_type": "execute_result",
          "data": {
            "text/plain": [
              "array([4.33 , 3.765, 3.09 , 4.01 , 3.29 , 3.32 , 2.67 , 3.26 , 3.55 ,\n",
              "       3.16 , 3.83 , 2.89 , 2.26 , 3.19 , 3.66 ,   nan, 3.57 , 4.3  ,\n",
              "       3.35 , 4.76 , 3.39 , 3.43 , 3.73 , 3.59 , 3.74 , 2.29 , 3.17 ,\n",
              "       4.18 , 2.755, 2.11 , 2.605, 4.58 , 4.2  , 3.27 , 4.19 , 2.98 ,\n",
              "       3.12 , 3.08 , 3.85 , 3.42 , 3.2  , 4.   , 3.34 , 2.825, 3.46 ,\n",
              "       4.07 , 3.68 , 2.95 , 3.505, 2.97 , 3.63 , 3.76 , 3.77 , 2.78 ,\n",
              "       3.985, 3.04 , 2.88 , 4.21 , 2.42 , 3.8  , 2.54 , 3.84 , 2.395,\n",
              "       3.14 , 2.49 , 3.175, 2.84 , 4.17 , 3.13 , 3.98 , 3.36 , 3.735,\n",
              "       2.62 , 4.61 , 2.6  , 4.09 , 3.18 , 3.425, 3.71 , 3.21 , 3.61 ,\n",
              "       2.9  , 3.94 , 4.145, 4.26 , 4.16 , 3.5  , 3.22 , 3.99 , 4.12 ,\n",
              "       2.475, 2.28 , 2.725, 4.03 , 3.07 , 2.81 , 3.45 , 3.9  , 3.87 ,\n",
              "       3.1  , 2.93 , 3.05 , 3.54 , 2.63 , 3.11 , 3.89 , 3.33 , 3.96 ,\n",
              "       3.56 , 4.39 , 3.58 , 3.47 , 3.88 , 4.04 , 3.6  , 4.53 , 3.72 ,\n",
              "       2.96 , 3.4  , 3.51 , 4.215, 3.055, 3.06 , 3.53 , 3.435, 3.41 ,\n",
              "       3.86 , 3.62 , 4.5  , 4.42 , 4.14 , 3.01 , 4.24 , 2.53 , 3.535,\n",
              "       2.665, 3.49 , 3.52 , 3.25 , 4.465, 4.66 , 3.7  , 2.495, 4.13 ,\n",
              "       4.37 , 2.66 , 2.3  , 2.85 , 3.31 , 3.03 , 3.97 , 2.75 , 3.355,\n",
              "       3.75 , 2.775, 4.68 , 3.15 , 3.91 , 2.94 , 3.24 , 4.475, 3.67 ,\n",
              "       3.38 , 4.38 , 4.59 , 3.295, 3.82 , 4.64 , 4.1  , 2.55 , 3.37 ,\n",
              "       3.48 , 2.73 , 3.945, 3.285, 3.93 , 4.27 , 4.28 , 2.34 , 3.815,\n",
              "       2.79 , 4.035, 3.44 , 4.325, 3.95 , 2.785, 3.02 , 3.64 , 4.22 ,\n",
              "       2.82 , 3.755, 3.78 , 3.81 , 3.92 , 4.375, 3.3  , 3.035, 3.575,\n",
              "       2.83 , 2.92 , 4.08 , 4.43 , 2.58 , 3.28 , 3.705, 3.935, 3.23 ,\n",
              "       4.06 , 4.46 , 4.6  , 2.8  , 2.61 , 2.69 , 2.35 , 2.87 , 3.79 ,\n",
              "       3.485, 2.91 , 2.99 , 3.825, 4.445, 2.985, 2.37 , 3.745, 2.995,\n",
              "       3.65 , 2.33 , 2.895, 3.69 , 2.52 , 2.51 , 4.02 , 4.54 , 3.255,\n",
              "       2.595, 3.615, 4.34 , 4.05 , 4.35 , 4.41 , 2.71 , 3.475, 4.015,\n",
              "       4.31 , 2.955, 2.72 , 4.48 , 3.605, 3.415, 4.32 , 2.965, 3.655,\n",
              "       4.7  , 2.57 , 4.15 , 3.885, 2.7  , 2.36 , 2.68 , 2.74 , 3.315,\n",
              "       4.005, 2.65 , 4.71 , 4.25 , 3.   , 3.585, 3.075, 3.105, 2.255,\n",
              "       3.185, 4.44 , 2.47 , 4.47 , 3.135, 4.9  , 4.52 , 4.57 , 3.595,\n",
              "       3.495, 4.56 , 2.4  , 4.11 , 3.165, 3.395, 4.29 , 3.275, 2.39 ,\n",
              "       3.875, 3.555, 3.855, 2.44 , 2.64 , 3.095, 3.915, 2.5  , 2.345,\n",
              "       2.615, 2.76 , 4.125, 3.025, 3.205, 3.465, 3.895, 2.48 , 4.49 ,\n",
              "       2.77 , 2.24 , 2.86 , 3.235, 2.46 , 2.59 , 3.445, 2.45 , 2.25 ,\n",
              "       4.435, 3.715, 2.735, 4.4  , 4.63 , 3.835, 3.305, 2.375, 4.69 ,\n",
              "       4.155, 3.455, 4.23 , 2.655, 3.685, 3.625, 4.025, 2.885, 4.36 ,\n",
              "       2.945, 2.855, 4.115, 2.09 , 3.795, 3.045, 3.645, 2.975, 3.775,\n",
              "       2.21 , 4.85 , 2.795, 4.135, 4.78 , 2.635, 4.095, 2.625, 3.725,\n",
              "       2.835, 4.79 , 3.115, 4.87 , 2.245, 4.865, 4.495, 3.375, 2.43 ,\n",
              "       4.395, 3.545, 4.585, 4.705, 4.83 , 4.195, 3.365, 2.06 , 3.995,\n",
              "       3.965, 3.635, 3.695, 4.405, 3.785, 3.515, 3.385, 4.515, 4.95 ,\n",
              "       4.255, 4.72 , 4.65 , 4.045, 2.32 , 4.73 , 4.075, 3.145, 2.715,\n",
              "       3.565, 4.655, 2.525, 2.565, 2.31 , 4.165, 2.925, 2.41 , 4.085,\n",
              "       3.525, 3.015, 2.22 , 4.275, 3.905, 2.515, 3.955, 3.845, 4.345,\n",
              "       2.585, 4.75 , 3.335, 2.18 , 2.23 , 4.67 , 2.455, 4.455, 2.805,\n",
              "       3.345, 4.62 , 4.105, 3.405, 4.615, 4.185, 2.815, 4.45 , 4.97 ,\n",
              "       4.415, 4.055, 2.645, 2.685, 4.315, 2.845, 4.82 , 4.225, 3.155,\n",
              "       4.205, 4.51 , 2.865, 2.765, 4.605, 3.065, 2.545, 3.265, 4.425,\n",
              "       2.56 , 2.745, 4.065, 4.295, 2.   , 4.55 , 3.975, 3.675, 2.915,\n",
              "       2.2  , 3.005, 2.385, 2.38 , 3.665, 2.535, 3.325, 3.925, 3.125,\n",
              "       4.335, 4.385, 2.27 , 4.93 , 3.805, 4.77 , 2.195, 4.175, 2.675,\n",
              "       4.695, 2.445, 4.265, 4.765, 2.335, 2.465, 4.81 , 2.905, 3.195,\n",
              "       3.245, 4.675, 4.94 ])"
            ]
          },
          "metadata": {},
          "execution_count": 11
        }
      ],
      "source": [
        "#Checking for the number of unique values present in QS_OVERALL col\n",
        "data[\"QS_OVERALL\"].unique()"
      ]
    },
    {
      "cell_type": "code",
      "execution_count": 12,
      "metadata": {
        "id": "NzMzPYTfKxX-"
      },
      "outputs": [],
      "source": [
        "#Replacing the null values of QS_OVERALL with there respective mean values\n",
        "QS_OVERALL_mean = data[\"QS_OVERALL\"].mean()\n",
        "data[\"QS_OVERALL\"].fillna(QS_OVERALL_mean,inplace = True)"
      ]
    },
    {
      "cell_type": "code",
      "source": [
        "#Replacing the null values of N_BEDROOM,N_BATHROOM with there respective mode values\n",
        "data[\"N_BEDROOM\"].fillna(data['N_BEDROOM'].mode()[0],inplace = True)\n",
        "data[\"N_BATHROOM\"].fillna(data['N_BATHROOM'].mode()[0],inplace = True)"
      ],
      "metadata": {
        "id": "D01UpWkYW6wX"
      },
      "execution_count": 13,
      "outputs": []
    },
    {
      "cell_type": "code",
      "source": [
        "#Checking for the number of unique values present in N_BATHROOM col\n",
        "print(data[\"N_BATHROOM\"].unique())\n",
        "#Checking for the number of unique values present in N_BEDROOM col\n",
        "print(data[\"N_BEDROOM\"].unique())\n"
      ],
      "metadata": {
        "colab": {
          "base_uri": "https://localhost:8080/"
        },
        "id": "b2p0Wimoc0Vw",
        "outputId": "5d09a873-76f9-4d8d-e4d7-aa910fe381bf"
      },
      "execution_count": 14,
      "outputs": [
        {
          "output_type": "stream",
          "name": "stdout",
          "text": [
            "[1. 2.]\n",
            "[1. 2. 3. 4.]\n"
          ]
        }
      ]
    },
    {
      "cell_type": "markdown",
      "source": [
        "**Observation:**\\\n",
        "As N_BATHROOM,N_BEDROOM values have only integer values there are no floating value present convert it to the numeric column using astype method"
      ],
      "metadata": {
        "id": "1rnCLcE_c4fG"
      }
    },
    {
      "cell_type": "code",
      "source": [
        "#Conerting type from floating to integer type\n",
        "data[\"N_BATHROOM\"] = data[\"N_BATHROOM\"].astype(int)\n",
        "data[\"N_BEDROOM\"] = data[\"N_BEDROOM\"].astype(int)\n",
        "#data.info()"
      ],
      "metadata": {
        "id": "uPCHdDhodS2a"
      },
      "execution_count": 15,
      "outputs": []
    },
    {
      "cell_type": "code",
      "execution_count": 16,
      "metadata": {
        "colab": {
          "base_uri": "https://localhost:8080/"
        },
        "id": "yT6_teEhLQS-",
        "outputId": "959dc4ff-df02-411f-c663-d163db8636b3"
      },
      "outputs": [
        {
          "output_type": "execute_result",
          "data": {
            "text/plain": [
              "AREA             0\n",
              "INT_SQFT         0\n",
              "DATE_SALE        0\n",
              "DIST_MAINROAD    0\n",
              "N_BEDROOM        0\n",
              "N_BATHROOM       0\n",
              "N_ROOM           0\n",
              "SALE_COND        0\n",
              "PARK_FACIL       0\n",
              "DATE_BUILD       0\n",
              "BUILDTYPE        0\n",
              "UTILITY_AVAIL    0\n",
              "STREET           0\n",
              "MZZONE           0\n",
              "QS_ROOMS         0\n",
              "QS_BATHROOM      0\n",
              "QS_BEDROOM       0\n",
              "QS_OVERALL       0\n",
              "SALES_PRICE      0\n",
              "dtype: int64"
            ]
          },
          "metadata": {},
          "execution_count": 16
        }
      ],
      "source": [
        "#After replacing the null values with there respective mean rechecking any null values present in the data\n",
        "data.isna().sum()"
      ]
    },
    {
      "cell_type": "markdown",
      "metadata": {
        "id": "jOwNX4GeFE1P"
      },
      "source": [
        "After replacing the null values the data doesnot have any null values"
      ]
    },
    {
      "cell_type": "code",
      "execution_count": 17,
      "metadata": {
        "colab": {
          "base_uri": "https://localhost:8080/"
        },
        "id": "oA66R2c1Cm1h",
        "outputId": "af168abf-0c33-4510-e62b-0a3b66887d13"
      },
      "outputs": [
        {
          "output_type": "execute_result",
          "data": {
            "text/plain": [
              "AREA              object\n",
              "INT_SQFT           int64\n",
              "DATE_SALE         object\n",
              "DIST_MAINROAD      int64\n",
              "N_BEDROOM          int64\n",
              "N_BATHROOM         int64\n",
              "N_ROOM             int64\n",
              "SALE_COND         object\n",
              "PARK_FACIL        object\n",
              "DATE_BUILD        object\n",
              "BUILDTYPE         object\n",
              "UTILITY_AVAIL     object\n",
              "STREET            object\n",
              "MZZONE            object\n",
              "QS_ROOMS         float64\n",
              "QS_BATHROOM      float64\n",
              "QS_BEDROOM       float64\n",
              "QS_OVERALL       float64\n",
              "SALES_PRICE        int64\n",
              "dtype: object"
            ]
          },
          "metadata": {},
          "execution_count": 17
        }
      ],
      "source": [
        "#Checking for the datatypes of each column\n",
        "data.dtypes"
      ]
    },
    {
      "cell_type": "code",
      "execution_count": 18,
      "metadata": {
        "colab": {
          "base_uri": "https://localhost:8080/"
        },
        "id": "D7SKfns5CIh5",
        "outputId": "7078c35a-1120-4f3e-e97c-34568bb3ed4d"
      },
      "outputs": [
        {
          "output_type": "execute_result",
          "data": {
            "text/plain": [
              "array(['Karapakkam', 'Anna Nagar', 'Adyar', 'Velachery', 'Chrompet',\n",
              "       'KK Nagar', 'TNagar', 'T Nagar', 'Chrompt', 'Chrmpet', 'Karapakam',\n",
              "       'Ana Nagar', 'Chormpet', 'Adyr', 'Velchery', 'Ann Nagar',\n",
              "       'KKNagar'], dtype=object)"
            ]
          },
          "metadata": {},
          "execution_count": 18
        }
      ],
      "source": [
        "data[\"AREA\"].unique()"
      ]
    },
    {
      "cell_type": "markdown",
      "metadata": {
        "id": "3GGHpN1gHk3X"
      },
      "source": [
        "**Observations:**\n",
        "AREA columns have lots of misspelled words i,e Karapakkam and Karapakam, KK Nagar and KKNagar,Chormpet,chormpt and chrmpet,Adyar and adyr,T Nagar and TNagar because of spelling mistakes they are considered as unique need to be replace these values with correct spelled Areas."
      ]
    },
    {
      "cell_type": "code",
      "execution_count": 19,
      "metadata": {
        "id": "Ud2nHe71JU58"
      },
      "outputs": [],
      "source": [
        "data[\"AREA\"].replace({\"Karapakam\": \"Karapakkam\", \"Ana Nagar\": \"Anna Nagar\",\"Ann Nagar\": \"Anna Nagar\",\"Adyr\":\"Adyar\",\"KKNagar\":\"KK Nagar\",\"TNagar\":\"T Nagar\",\"Chrompt\":\"Chromepet\",\"Chrompet\":\"Chromepet\",\"Chrmpet\":\"Chromepet\",\"Chormpet\":\"Chromepet\",\"Velchery\":\"Velachery\"}, inplace=True)"
      ]
    },
    {
      "cell_type": "code",
      "execution_count": 20,
      "metadata": {
        "colab": {
          "base_uri": "https://localhost:8080/"
        },
        "id": "4CTa7mSzMja6",
        "outputId": "cc86774d-d5bb-4544-ca65-224cdfa9548e"
      },
      "outputs": [
        {
          "output_type": "execute_result",
          "data": {
            "text/plain": [
              "array(['Karapakkam', 'Anna Nagar', 'Adyar', 'Velachery', 'Chromepet',\n",
              "       'KK Nagar', 'T Nagar'], dtype=object)"
            ]
          },
          "metadata": {},
          "execution_count": 20
        }
      ],
      "source": [
        "data[\"AREA\"].unique()"
      ]
    },
    {
      "cell_type": "markdown",
      "metadata": {
        "id": "FD-Y_5u7Lsyf"
      },
      "source": [
        "**Visualization of the DATASET**"
      ]
    },
    {
      "cell_type": "markdown",
      "metadata": {
        "id": "kZWtxDpNMcAA"
      },
      "source": [
        "For various data like AREA,BUILDTYPE,SALE_COND,N_ROOMS,N_BEDROOMS,MZZONE how the SALES_PRICE getting Impacting is visualized using barplot from the seaborn library"
      ]
    },
    {
      "cell_type": "code",
      "execution_count": 21,
      "metadata": {
        "colab": {
          "base_uri": "https://localhost:8080/",
          "height": 364
        },
        "id": "XwJZO9-CEcTi",
        "outputId": "2e9ead92-21d3-4e63-a9bc-200c4845e6b0"
      },
      "outputs": [
        {
          "output_type": "execute_result",
          "data": {
            "text/plain": [
              "<matplotlib.axes._subplots.AxesSubplot at 0x7f7c439b5f10>"
            ]
          },
          "metadata": {},
          "execution_count": 21
        },
        {
          "output_type": "display_data",
          "data": {
            "image/png": "[encoded data removed]",
            "text/plain": [
              "<Figure size 720x360 with 1 Axes>"
            ]
          },
          "metadata": {
            "needs_background": "light"
          }
        }
      ],
      "source": [
        "result = data.groupby([\"AREA\"])[\"SALES_PRICE\"].aggregate(np.mean).reset_index().sort_values(\"SALES_PRICE\")\n",
        "plt.figure(figsize=(10,5))\n",
        "sns.barplot(x=data.AREA,y=data.SALES_PRICE,data=data,order=result[\"AREA\"])"
      ]
    },
    {
      "cell_type": "markdown",
      "source": [
        "**Observations:**\n",
        "From the above plot \"T Nagar\" has highest \"Sales_Price\" and  \"Karapakkam\" has least \"Sales_Price\" compare to the other Areas.\n",
        "\n",
        "There is a linear relationship between Area and Sales Price.\n",
        "\n",
        "Label encoding can be done since there is a linearrelationship\n"
      ],
      "metadata": {
        "id": "q7jZtGU7_Si8"
      }
    },
    {
      "cell_type": "code",
      "execution_count": 22,
      "metadata": {
        "colab": {
          "base_uri": "https://localhost:8080/",
          "height": 364
        },
        "id": "VpL1C2lzEcxK",
        "outputId": "5b6487c8-05ea-4823-f185-71b40082d1ad"
      },
      "outputs": [
        {
          "output_type": "execute_result",
          "data": {
            "text/plain": [
              "<matplotlib.axes._subplots.AxesSubplot at 0x7f7c434092d0>"
            ]
          },
          "metadata": {},
          "execution_count": 22
        },
        {
          "output_type": "display_data",
          "data": {
            "image/png": "[encoded data removed]",
            "text/plain": [
              "<Figure size 720x360 with 1 Axes>"
            ]
          },
          "metadata": {
            "needs_background": "light"
          }
        }
      ],
      "source": [
        "mzzone = data.groupby([\"MZZONE\"])[\"SALES_PRICE\"].aggregate(np.mean).reset_index().sort_values(\"SALES_PRICE\")\n",
        "plt.figure(figsize=(10,5))\n",
        "sns.barplot(x=data.MZZONE,y=data.SALES_PRICE,data=data,order=mzzone[\"MZZONE\"])"
      ]
    },
    {
      "cell_type": "markdown",
      "source": [
        "**Observations:**\n",
        "From the above plot MZZONE \"RM\" has highest \"Sales_Price\" and  MZZONE \"A\" has least \"Sales_Price\" compare to the other MZZONE.\n",
        "\n",
        "There is a linear relationship between MZZONE and Sales Price.\n",
        "\n",
        "Label encoding can be done since there is a linearrelationship"
      ],
      "metadata": {
        "id": "ojAwIbtcASXz"
      }
    },
    {
      "cell_type": "code",
      "execution_count": 23,
      "metadata": {
        "colab": {
          "base_uri": "https://localhost:8080/",
          "height": 309
        },
        "id": "isYIdd8nIkd1",
        "outputId": "94aea6ea-0ae6-4b98-cd79-d1a5c9da38ff"
      },
      "outputs": [
        {
          "output_type": "execute_result",
          "data": {
            "text/plain": [
              "<matplotlib.axes._subplots.AxesSubplot at 0x7f7c432c1310>"
            ]
          },
          "metadata": {},
          "execution_count": 23
        },
        {
          "output_type": "display_data",
          "data": {
            "image/png": "[encoded data removed]",
            "text/plain": [
              "<Figure size 432x288 with 1 Axes>"
            ]
          },
          "metadata": {
            "needs_background": "light"
          }
        }
      ],
      "source": [
        "sns.barplot(x=data.N_BEDROOM,y=data.SALES_PRICE)"
      ]
    },
    {
      "cell_type": "markdown",
      "source": [
        "**Observations:**\n",
        "From the above plot Sales_Price increases as the number of Bedrooms increases.There is a linear relationship between no of bedroom vs sales price"
      ],
      "metadata": {
        "id": "Pn26J2JnAqpa"
      }
    },
    {
      "cell_type": "code",
      "execution_count": 24,
      "metadata": {
        "colab": {
          "base_uri": "https://localhost:8080/",
          "height": 365
        },
        "id": "hm0EfWDlItNj",
        "outputId": "aa0c9eed-ed61-4c4b-8c88-6bc397c2eb7f"
      },
      "outputs": [
        {
          "output_type": "stream",
          "name": "stderr",
          "text": [
            "/usr/local/lib/python3.7/dist-packages/seaborn/_decorators.py:43: FutureWarning: Pass the following variables as keyword args: x, y. From version 0.12, the only valid positional argument will be `data`, and passing other arguments without an explicit keyword will result in an error or misinterpretation.\n",
            "  FutureWarning\n"
          ]
        },
        {
          "output_type": "execute_result",
          "data": {
            "text/plain": [
              "<matplotlib.axes._subplots.AxesSubplot at 0x7f7c432b5510>"
            ]
          },
          "metadata": {},
          "execution_count": 24
        },
        {
          "output_type": "display_data",
          "data": {
            "image/png": "[encoded data removed]",
            "text/plain": [
              "<Figure size 432x288 with 1 Axes>"
            ]
          },
          "metadata": {
            "needs_background": "light"
          }
        }
      ],
      "source": [
        "sns.barplot(data.N_ROOM,data.SALES_PRICE)"
      ]
    },
    {
      "cell_type": "markdown",
      "source": [
        "**Observations:**\n",
        "From the above plot Sales_Price increases as the number of Rooms increases. House with 6 rooms as highest sales and House with 2 rooms has less sales price."
      ],
      "metadata": {
        "id": "1byEHbU_BfGa"
      }
    },
    {
      "cell_type": "code",
      "execution_count": 25,
      "metadata": {
        "colab": {
          "base_uri": "https://localhost:8080/",
          "height": 365
        },
        "id": "roRQ6w5tI8sL",
        "outputId": "7926bd33-e94c-463c-e9e6-4be323efbb38"
      },
      "outputs": [
        {
          "output_type": "stream",
          "name": "stderr",
          "text": [
            "/usr/local/lib/python3.7/dist-packages/seaborn/_decorators.py:43: FutureWarning: Pass the following variables as keyword args: x, y. From version 0.12, the only valid positional argument will be `data`, and passing other arguments without an explicit keyword will result in an error or misinterpretation.\n",
            "  FutureWarning\n"
          ]
        },
        {
          "output_type": "execute_result",
          "data": {
            "text/plain": [
              "<matplotlib.axes._subplots.AxesSubplot at 0x7f7c431b7450>"
            ]
          },
          "metadata": {},
          "execution_count": 25
        },
        {
          "output_type": "display_data",
          "data": {
            "image/png": "[encoded data removed]",
            "text/plain": [
              "<Figure size 432x288 with 1 Axes>"
            ]
          },
          "metadata": {
            "needs_background": "light"
          }
        }
      ],
      "source": [
        "sns.barplot(data.N_BATHROOM,data.SALES_PRICE)"
      ]
    },
    {
      "cell_type": "markdown",
      "source": [
        "**Observations:**\n",
        "From the above plot House with 2 Bathrooms have highest sales_price compared to house having 1 Bathroom."
      ],
      "metadata": {
        "id": "rvJ3SDqBCI3l"
      }
    },
    {
      "cell_type": "code",
      "execution_count": 26,
      "metadata": {
        "colab": {
          "base_uri": "https://localhost:8080/",
          "height": 365
        },
        "id": "xi9Np0uBJMqq",
        "outputId": "f4c80dc0-84d3-4624-aa86-c9c6935aed30"
      },
      "outputs": [
        {
          "output_type": "stream",
          "name": "stderr",
          "text": [
            "/usr/local/lib/python3.7/dist-packages/seaborn/_decorators.py:43: FutureWarning: Pass the following variables as keyword args: x, y. From version 0.12, the only valid positional argument will be `data`, and passing other arguments without an explicit keyword will result in an error or misinterpretation.\n",
            "  FutureWarning\n"
          ]
        },
        {
          "output_type": "execute_result",
          "data": {
            "text/plain": [
              "<matplotlib.axes._subplots.AxesSubplot at 0x7f7c431b7150>"
            ]
          },
          "metadata": {},
          "execution_count": 26
        },
        {
          "output_type": "display_data",
          "data": {
            "image/png": "[encoded data removed]",
            "text/plain": [
              "<Figure size 432x288 with 1 Axes>"
            ]
          },
          "metadata": {
            "needs_background": "light"
          }
        }
      ],
      "source": [
        "data[\"BUILDTYPE\"].replace({\"Comercial\":\"Commercial\",\"Others\":\"Other\"},inplace=True)\n",
        "sns.barplot(data.BUILDTYPE,data.SALES_PRICE)"
      ]
    },
    {
      "cell_type": "markdown",
      "source": [
        "**Observations:**\n",
        "From the above plot House of \"Commercial\" Buildtype have highest sales price \"House\" Buildtype have least sales price."
      ],
      "metadata": {
        "id": "o66tlPIJHjJM"
      }
    },
    {
      "cell_type": "code",
      "execution_count": 27,
      "metadata": {
        "colab": {
          "base_uri": "https://localhost:8080/",
          "height": 365
        },
        "id": "Psb4bi2rJeCn",
        "outputId": "3b5b791f-a27c-48a7-9c66-9dffffab0199"
      },
      "outputs": [
        {
          "output_type": "stream",
          "name": "stderr",
          "text": [
            "/usr/local/lib/python3.7/dist-packages/seaborn/_decorators.py:43: FutureWarning: Pass the following variables as keyword args: x, y. From version 0.12, the only valid positional argument will be `data`, and passing other arguments without an explicit keyword will result in an error or misinterpretation.\n",
            "  FutureWarning\n"
          ]
        },
        {
          "output_type": "execute_result",
          "data": {
            "text/plain": [
              "<matplotlib.axes._subplots.AxesSubplot at 0x7f7c43096b10>"
            ]
          },
          "metadata": {},
          "execution_count": 27
        },
        {
          "output_type": "display_data",
          "data": {
            "image/png": "[encoded data removed]",
            "text/plain": [
              "<Figure size 432x288 with 1 Axes>"
            ]
          },
          "metadata": {
            "needs_background": "light"
          }
        }
      ],
      "source": [
        "data[\"PARK_FACIL\"].replace({\"Noo\":\"No\"},inplace=True)\n",
        "sns.barplot(data.PARK_FACIL,data.SALES_PRICE)"
      ]
    },
    {
      "cell_type": "markdown",
      "source": [
        "**Observations:**\n",
        "From the above plot House with Parking Facity have highest sales_price compared to house with no Parking Facility."
      ],
      "metadata": {
        "id": "4xd9IJCMHQSA"
      }
    },
    {
      "cell_type": "code",
      "execution_count": 28,
      "metadata": {
        "colab": {
          "base_uri": "https://localhost:8080/",
          "height": 365
        },
        "id": "PKaFA9C7JjE-",
        "outputId": "db76bb77-af3e-4749-b0be-a9f5ec1ea2d4"
      },
      "outputs": [
        {
          "output_type": "execute_result",
          "data": {
            "text/plain": [
              "<matplotlib.axes._subplots.AxesSubplot at 0x7f7c43409850>"
            ]
          },
          "metadata": {},
          "execution_count": 28
        },
        {
          "output_type": "display_data",
          "data": {
            "image/png": "[encoded data removed]",
            "text/plain": [
              "<Figure size 720x360 with 1 Axes>"
            ]
          },
          "metadata": {
            "needs_background": "light"
          }
        }
      ],
      "source": [
        "data[\"SALE_COND\"].replace({\"Ab Normal\":\"AbNormal\",\"Partiall\":\"Partial\",\"PartiaLl\":\"Partial\",\"Adj Land\":\"AdjLand\"},inplace=True)\n",
        "plt.figure(figsize = (10,5))\n",
        "sale = data.groupby([\"SALE_COND\"])[\"SALES_PRICE\"].aggregate(np.mean).reset_index().sort_values(\"SALES_PRICE\")\n",
        "sns.barplot(x=data.SALE_COND,y=data.SALES_PRICE,data=data,order=sale[\"SALE_COND\"])"
      ]
    },
    {
      "cell_type": "markdown",
      "source": [
        "**Observations:**\n",
        "From the above plot There is a linear relationship e with the target label encoding can be done for SALE_COND\n",
        "\n",
        "SALE_COND is not much affecting the Sales Price only slight variations with each type of SaleCondition, SALE_COND AdjLAnd have highest salesprice compared to others. AbNormal and Normale sale condition have almost equal Sales Price.\n"
      ],
      "metadata": {
        "id": "5tOboknRH8WE"
      }
    },
    {
      "cell_type": "code",
      "source": [
        "data[\"UTILITY_AVAIL\"].unique()"
      ],
      "metadata": {
        "colab": {
          "base_uri": "https://localhost:8080/"
        },
        "id": "yWHC52XBKiBN",
        "outputId": "27f7ee75-d0c6-4021-bd71-9896a4d3f93d"
      },
      "execution_count": 29,
      "outputs": [
        {
          "output_type": "execute_result",
          "data": {
            "text/plain": [
              "array(['AllPub', 'ELO', 'NoSewr ', 'NoSeWa', 'All Pub'], dtype=object)"
            ]
          },
          "metadata": {},
          "execution_count": 29
        }
      ]
    },
    {
      "cell_type": "markdown",
      "source": [
        "**Observations**:\n",
        "\n",
        "Allpub and All Pub, NoSewr and NoSeWa are few mispelled UTILITY_AVAIL contents replace these with the correct spelled words."
      ],
      "metadata": {
        "id": "hgo4OIUqKfis"
      }
    },
    {
      "cell_type": "code",
      "execution_count": 30,
      "metadata": {
        "colab": {
          "base_uri": "https://localhost:8080/",
          "height": 365
        },
        "id": "lSXh49-aKJdb",
        "outputId": "dda6f524-5127-47ce-b503-962c96319ccd"
      },
      "outputs": [
        {
          "output_type": "stream",
          "name": "stderr",
          "text": [
            "/usr/local/lib/python3.7/dist-packages/seaborn/_decorators.py:43: FutureWarning: Pass the following variables as keyword args: x, y. From version 0.12, the only valid positional argument will be `data`, and passing other arguments without an explicit keyword will result in an error or misinterpretation.\n",
            "  FutureWarning\n"
          ]
        },
        {
          "output_type": "execute_result",
          "data": {
            "text/plain": [
              "<matplotlib.axes._subplots.AxesSubplot at 0x7f7c42f9b8d0>"
            ]
          },
          "metadata": {},
          "execution_count": 30
        },
        {
          "output_type": "display_data",
          "data": {
            "image/png": "[encoded data removed]",
            "text/plain": [
              "<Figure size 432x288 with 1 Axes>"
            ]
          },
          "metadata": {
            "needs_background": "light"
          }
        }
      ],
      "source": [
        "data[\"UTILITY_AVAIL\"].replace({\"All Pub\":\"AllPub\",\"NoSewr \":\"NoSeWa\"},inplace = True)\n",
        "sns.barplot(data.UTILITY_AVAIL,data.SALES_PRICE)\n",
        "utility = data.groupby([\"UTILITY_AVAIL\"])[\"SALES_PRICE\"].aggregate(np.median).reset_index().sort_values(\"SALES_PRICE\",ascending=False)\n",
        "sns.barplot(x=data.UTILITY_AVAIL,y=data.SALES_PRICE,data=data,order=utility[\"UTILITY_AVAIL\"])"
      ]
    },
    {
      "cell_type": "markdown",
      "source": [
        "**Observations**:\n",
        "\n",
        "AllPub have highest sales price where as NoSeWa and ELO have equal sales price"
      ],
      "metadata": {
        "id": "RYFZo91ACs7Y"
      }
    },
    {
      "cell_type": "code",
      "execution_count": 31,
      "metadata": {
        "id": "pePoQpGkKUPQ",
        "colab": {
          "base_uri": "https://localhost:8080/",
          "height": 365
        },
        "outputId": "0c668480-1efd-458f-d6d0-eb6352229838"
      },
      "outputs": [
        {
          "output_type": "stream",
          "name": "stderr",
          "text": [
            "/usr/local/lib/python3.7/dist-packages/seaborn/_decorators.py:43: FutureWarning: Pass the following variables as keyword args: x, y. From version 0.12, the only valid positional argument will be `data`, and passing other arguments without an explicit keyword will result in an error or misinterpretation.\n",
            "  FutureWarning\n"
          ]
        },
        {
          "output_type": "execute_result",
          "data": {
            "text/plain": [
              "<matplotlib.axes._subplots.AxesSubplot at 0x7f7c42f19390>"
            ]
          },
          "metadata": {},
          "execution_count": 31
        },
        {
          "output_type": "display_data",
          "data": {
            "image/png": "[encoded data removed]",
            "text/plain": [
              "<Figure size 432x288 with 1 Axes>"
            ]
          },
          "metadata": {
            "needs_background": "light"
          }
        }
      ],
      "source": [
        "data[\"STREET\"].replace({\"Pavd\":\"Paved\",\"No Access\":\"NoAccess\"},inplace = True)\n",
        "sns.barplot(data.STREET,data.SALES_PRICE)\n",
        "utility = data.groupby([\"STREET\"])[\"SALES_PRICE\"].aggregate(np.mean).reset_index().sort_values(\"SALES_PRICE\",ascending=True)\n",
        "sns.barplot(x=data.STREET,y=data.SALES_PRICE,data=data,order=utility[\"STREET\"])"
      ]
    },
    {
      "cell_type": "markdown",
      "source": [
        "**Observation:**\n",
        "\n",
        "Street with NoAccess have less sales price compared tothe Paved and Gravel.\n",
        "\n",
        "street with paved and Gravel have equal sales price,there is no linearity so for UTILITY_AVAIL one hot encoding can be done"
      ],
      "metadata": {
        "id": "xgkWP3XCh1DN"
      }
    },
    {
      "cell_type": "code",
      "source": [
        "sns.histplot(data = data.INT_SQFT, kde = True)"
      ],
      "metadata": {
        "colab": {
          "base_uri": "https://localhost:8080/",
          "height": 298
        },
        "id": "4tKshWD0m39p",
        "outputId": "142664a7-8dfc-4b43-f839-59e26cfb90fe"
      },
      "execution_count": 32,
      "outputs": [
        {
          "output_type": "execute_result",
          "data": {
            "text/plain": [
              "<matplotlib.axes._subplots.AxesSubplot at 0x7f7c42ee5750>"
            ]
          },
          "metadata": {},
          "execution_count": 32
        },
        {
          "output_type": "display_data",
          "data": {
            "image/png": "[encoded data removed]",
            "text/plain": [
              "<Figure size 432x288 with 1 Axes>"
            ]
          },
          "metadata": {
            "needs_background": "light"
          }
        }
      ]
    },
    {
      "cell_type": "markdown",
      "metadata": {
        "id": "Lh9ELauqK6_j"
      },
      "source": [
        "**Encoding the categorical Variables**"
      ]
    },
    {
      "cell_type": "markdown",
      "metadata": {
        "id": "6pyrDNVDJ6Le"
      },
      "source": [
        "**Observation**\n",
        "AREA,DATE_SALE,SALE_COND,PARK_FACIL,DATE_BUILD,BUILDTYPE,UTILITY_AVAIL,STREET,MZZONE all are of type Object convert these to numerical type and there is a linear trend in each of these feature."
      ]
    },
    {
      "cell_type": "markdown",
      "metadata": {
        "id": "N7n5I7p9L7Ol"
      },
      "source": [
        "Using Lable encoding convert categorical to numerical  "
      ]
    },
    {
      "cell_type": "code",
      "execution_count": 33,
      "metadata": {
        "id": "9nRZFk7cXtpZ"
      },
      "outputs": [],
      "source": [
        "#Label encoding using map function\n",
        "Area_dict = {'Karapakkam':0,'Adyar':1,'Chromepet':2,'Velachery':3,'Anna Nagar':5,'KK Nagar':4,'T Nagar':6}\n",
        "data[\"AREA\"] = data[\"AREA\"].map(Area_dict)\n",
        "\n",
        "Sale_cond_dict = {\"Partial\":0,\"Family\":1,\"AbNormal\":2,\"Normal Sale\":3,\"AdjLand\":4}\n",
        "data[\"SALE_COND\"] = data[\"SALE_COND\"].map(Sale_cond_dict)\n",
        "\n",
        "Buildtype_cond_dict = {\"House\":0,\"Other\":1,\"Commercial\":2}\n",
        "data[\"BUILDTYPE\"] = data[\"BUILDTYPE\"].map(Buildtype_cond_dict)\n",
        "\n",
        "Mzzone_cond_dict = {\"A\":0,\"C\":1,\"I\":2,\"RH\":3,\"RL\":4,\"RM\":5}\n",
        "data[\"MZZONE\"] = data[\"MZZONE\"].map(Mzzone_cond_dict)\n",
        "\n",
        "Park_dict = {\"No\":0,\"Yes\":1}\n",
        "data[\"PARK_FACIL\"] = data[\"PARK_FACIL\"].map(Park_dict)\n"
      ]
    },
    {
      "cell_type": "code",
      "source": [
        "#Oe hot encoding\n",
        "dummy_UTILITY_AVAIL = pd.get_dummies(data[\"UTILITY_AVAIL\"])\n",
        "dummy_STREET = pd.get_dummies(data[\"STREET\"])\n",
        "#Merging these encode data into actuall DataFrame\n",
        "data = pd.merge(left=data,right=dummy_UTILITY_AVAIL,left_index=True, right_index=True)\n",
        "data = pd.merge(left=data,right=dummy_STREET,left_index=True, right_index=True)\n",
        "data.drop([\"UTILITY_AVAIL\"],axis = 1,inplace = True)\n",
        "data.drop([\"STREET\"],axis = 1,inplace = True)\n",
        "data.head()"
      ],
      "metadata": {
        "id": "HZvhmhNtD2X3",
        "colab": {
          "base_uri": "https://localhost:8080/",
          "height": 386
        },
        "outputId": "3a494b59-6198-4fe4-f4f0-0ec0738ebad1"
      },
      "execution_count": 34,
      "outputs": [
        {
          "output_type": "execute_result",
          "data": {
            "text/html": [
              "\n",
              "  <div id=\"df-e1c6dcf3-75e4-4472-a435-f97cbe17adc3\">\n",
              "    <div class=\"colab-df-container\">\n",
              "      <div>\n",
              "<style scoped>\n",
              "    .dataframe tbody tr th:only-of-type {\n",
              "        vertical-align: middle;\n",
              "    }\n",
              "\n",
              "    .dataframe tbody tr th {\n",
              "        vertical-align: top;\n",
              "    }\n",
              "\n",
              "    .dataframe thead th {\n",
              "        text-align: right;\n",
              "    }\n",
              "</style>\n",
              "<table border=\"1\" class=\"dataframe\">\n",
              "  <thead>\n",
              "    <tr style=\"text-align: right;\">\n",
              "      <th></th>\n",
              "      <th>AREA</th>\n",
              "      <th>INT_SQFT</th>\n",
              "      <th>DATE_SALE</th>\n",
              "      <th>DIST_MAINROAD</th>\n",
              "      <th>N_BEDROOM</th>\n",
              "      <th>N_BATHROOM</th>\n",
              "      <th>N_ROOM</th>\n",
              "      <th>SALE_COND</th>\n",
              "      <th>PARK_FACIL</th>\n",
              "      <th>DATE_BUILD</th>\n",
              "      <th>...</th>\n",
              "      <th>QS_BATHROOM</th>\n",
              "      <th>QS_BEDROOM</th>\n",
              "      <th>QS_OVERALL</th>\n",
              "      <th>SALES_PRICE</th>\n",
              "      <th>AllPub</th>\n",
              "      <th>ELO</th>\n",
              "      <th>NoSeWa</th>\n",
              "      <th>Gravel</th>\n",
              "      <th>NoAccess</th>\n",
              "      <th>Paved</th>\n",
              "    </tr>\n",
              "  </thead>\n",
              "  <tbody>\n",
              "    <tr>\n",
              "      <th>0</th>\n",
              "      <td>0</td>\n",
              "      <td>1004</td>\n",
              "      <td>04-05-2011</td>\n",
              "      <td>131</td>\n",
              "      <td>1</td>\n",
              "      <td>1</td>\n",
              "      <td>3</td>\n",
              "      <td>2</td>\n",
              "      <td>1</td>\n",
              "      <td>15-05-1967</td>\n",
              "      <td>...</td>\n",
              "      <td>3.9</td>\n",
              "      <td>4.9</td>\n",
              "      <td>4.330</td>\n",
              "      <td>7600000</td>\n",
              "      <td>1</td>\n",
              "      <td>0</td>\n",
              "      <td>0</td>\n",
              "      <td>0</td>\n",
              "      <td>0</td>\n",
              "      <td>1</td>\n",
              "    </tr>\n",
              "    <tr>\n",
              "      <th>1</th>\n",
              "      <td>5</td>\n",
              "      <td>1986</td>\n",
              "      <td>19-12-2006</td>\n",
              "      <td>26</td>\n",
              "      <td>2</td>\n",
              "      <td>1</td>\n",
              "      <td>5</td>\n",
              "      <td>2</td>\n",
              "      <td>0</td>\n",
              "      <td>22-12-1995</td>\n",
              "      <td>...</td>\n",
              "      <td>4.2</td>\n",
              "      <td>2.5</td>\n",
              "      <td>3.765</td>\n",
              "      <td>21717770</td>\n",
              "      <td>1</td>\n",
              "      <td>0</td>\n",
              "      <td>0</td>\n",
              "      <td>1</td>\n",
              "      <td>0</td>\n",
              "      <td>0</td>\n",
              "    </tr>\n",
              "    <tr>\n",
              "      <th>2</th>\n",
              "      <td>1</td>\n",
              "      <td>909</td>\n",
              "      <td>04-02-2012</td>\n",
              "      <td>70</td>\n",
              "      <td>1</td>\n",
              "      <td>1</td>\n",
              "      <td>3</td>\n",
              "      <td>2</td>\n",
              "      <td>1</td>\n",
              "      <td>09-02-1992</td>\n",
              "      <td>...</td>\n",
              "      <td>3.8</td>\n",
              "      <td>2.2</td>\n",
              "      <td>3.090</td>\n",
              "      <td>13159200</td>\n",
              "      <td>0</td>\n",
              "      <td>1</td>\n",
              "      <td>0</td>\n",
              "      <td>1</td>\n",
              "      <td>0</td>\n",
              "      <td>0</td>\n",
              "    </tr>\n",
              "    <tr>\n",
              "      <th>3</th>\n",
              "      <td>3</td>\n",
              "      <td>1855</td>\n",
              "      <td>13-03-2010</td>\n",
              "      <td>14</td>\n",
              "      <td>3</td>\n",
              "      <td>2</td>\n",
              "      <td>5</td>\n",
              "      <td>1</td>\n",
              "      <td>0</td>\n",
              "      <td>18-03-1988</td>\n",
              "      <td>...</td>\n",
              "      <td>3.9</td>\n",
              "      <td>3.6</td>\n",
              "      <td>4.010</td>\n",
              "      <td>9630290</td>\n",
              "      <td>0</td>\n",
              "      <td>0</td>\n",
              "      <td>1</td>\n",
              "      <td>0</td>\n",
              "      <td>0</td>\n",
              "      <td>1</td>\n",
              "    </tr>\n",
              "    <tr>\n",
              "      <th>4</th>\n",
              "      <td>0</td>\n",
              "      <td>1226</td>\n",
              "      <td>05-10-2009</td>\n",
              "      <td>84</td>\n",
              "      <td>1</td>\n",
              "      <td>1</td>\n",
              "      <td>3</td>\n",
              "      <td>2</td>\n",
              "      <td>1</td>\n",
              "      <td>13-10-1979</td>\n",
              "      <td>...</td>\n",
              "      <td>2.5</td>\n",
              "      <td>4.1</td>\n",
              "      <td>3.290</td>\n",
              "      <td>7406250</td>\n",
              "      <td>1</td>\n",
              "      <td>0</td>\n",
              "      <td>0</td>\n",
              "      <td>1</td>\n",
              "      <td>0</td>\n",
              "      <td>0</td>\n",
              "    </tr>\n",
              "  </tbody>\n",
              "</table>\n",
              "<p>5 rows × 23 columns</p>\n",
              "</div>\n",
              "      <button class=\"colab-df-convert\" onclick=\"convertToInteractive('df-e1c6dcf3-75e4-4472-a435-f97cbe17adc3')\"\n",
              "              title=\"Convert this dataframe to an interactive table.\"\n",
              "              style=\"display:none;\">\n",
              "        \n",
              "  <svg xmlns=\"http://www.w3.org/2000/svg\" height=\"24px\"viewBox=\"0 0 24 24\"\n",
              "       width=\"24px\">\n",
              "    <path d=\"M0 0h24v24H0V0z\" fill=\"none\"/>\n",
              "    <path d=\"M18.56 5.44l.94 2.06.94-2.06 2.06-.94-2.06-.94-.94-2.06-.94 2.06-2.06.94zm-11 1L8.5 8.5l.94-2.06 2.06-.94-2.06-.94L8.5 2.5l-.94 2.06-2.06.94zm10 10l.94 2.06.94-2.06 2.06-.94-2.06-.94-.94-2.06-.94 2.06-2.06.94z\"/><path d=\"M17.41 7.96l-1.37-1.37c-.4-.4-.92-.59-1.43-.59-.52 0-1.04.2-1.43.59L10.3 9.45l-7.72 7.72c-.78.78-.78 2.05 0 2.83L4 21.41c.39.39.9.59 1.41.59.51 0 1.02-.2 1.41-.59l7.78-7.78 2.81-2.81c.8-.78.8-2.07 0-2.86zM5.41 20L4 18.59l7.72-7.72 1.47 1.35L5.41 20z\"/>\n",
              "  </svg>\n",
              "      </button>\n",
              "      \n",
              "  <style>\n",
              "    .colab-df-container {\n",
              "      display:flex;\n",
              "      flex-wrap:wrap;\n",
              "      gap: 12px;\n",
              "    }\n",
              "\n",
              "    .colab-df-convert {\n",
              "      background-color: #E8F0FE;\n",
              "      border: none;\n",
              "      border-radius: 50%;\n",
              "      cursor: pointer;\n",
              "      display: none;\n",
              "      fill: #1967D2;\n",
              "      height: 32px;\n",
              "      padding: 0 0 0 0;\n",
              "      width: 32px;\n",
              "    }\n",
              "\n",
              "    .colab-df-convert:hover {\n",
              "      background-color: #E2EBFA;\n",
              "      box-shadow: 0px 1px 2px rgba(60, 64, 67, 0.3), 0px 1px 3px 1px rgba(60, 64, 67, 0.15);\n",
              "      fill: #174EA6;\n",
              "    }\n",
              "\n",
              "    [theme=dark] .colab-df-convert {\n",
              "      background-color: #3B4455;\n",
              "      fill: #D2E3FC;\n",
              "    }\n",
              "\n",
              "    [theme=dark] .colab-df-convert:hover {\n",
              "      background-color: #434B5C;\n",
              "      box-shadow: 0px 1px 3px 1px rgba(0, 0, 0, 0.15);\n",
              "      filter: drop-shadow(0px 1px 2px rgba(0, 0, 0, 0.3));\n",
              "      fill: #FFFFFF;\n",
              "    }\n",
              "  </style>\n",
              "\n",
              "      <script>\n",
              "        const buttonEl =\n",
              "          document.querySelector('#df-e1c6dcf3-75e4-4472-a435-f97cbe17adc3 button.colab-df-convert');\n",
              "        buttonEl.style.display =\n",
              "          google.colab.kernel.accessAllowed ? 'block' : 'none';\n",
              "\n",
              "        async function convertToInteractive(key) {\n",
              "          const element = document.querySelector('#df-e1c6dcf3-75e4-4472-a435-f97cbe17adc3');\n",
              "          const dataTable =\n",
              "            await google.colab.kernel.invokeFunction('convertToInteractive',\n",
              "                                                     [key], {});\n",
              "          if (!dataTable) return;\n",
              "\n",
              "          const docLinkHtml = 'Like what you see? Visit the ' +\n",
              "            '<a target=\"_blank\" href=https://colab.research.google.com/notebooks/data_table.ipynb>data table notebook</a>'\n",
              "            + ' to learn more about interactive tables.';\n",
              "          element.innerHTML = '';\n",
              "          dataTable['output_type'] = 'display_data';\n",
              "          await google.colab.output.renderOutput(dataTable, element);\n",
              "          const docLink = document.createElement('div');\n",
              "          docLink.innerHTML = docLinkHtml;\n",
              "          element.appendChild(docLink);\n",
              "        }\n",
              "      </script>\n",
              "    </div>\n",
              "  </div>\n",
              "  "
            ],
            "text/plain": [
              "   AREA  INT_SQFT   DATE_SALE  DIST_MAINROAD  N_BEDROOM  N_BATHROOM  N_ROOM  \\\n",
              "0     0      1004  04-05-2011            131          1           1       3   \n",
              "1     5      1986  19-12-2006             26          2           1       5   \n",
              "2     1       909  04-02-2012             70          1           1       3   \n",
              "3     3      1855  13-03-2010             14          3           2       5   \n",
              "4     0      1226  05-10-2009             84          1           1       3   \n",
              "\n",
              "   SALE_COND  PARK_FACIL  DATE_BUILD  ...  QS_BATHROOM  QS_BEDROOM  \\\n",
              "0          2           1  15-05-1967  ...          3.9         4.9   \n",
              "1          2           0  22-12-1995  ...          4.2         2.5   \n",
              "2          2           1  09-02-1992  ...          3.8         2.2   \n",
              "3          1           0  18-03-1988  ...          3.9         3.6   \n",
              "4          2           1  13-10-1979  ...          2.5         4.1   \n",
              "\n",
              "   QS_OVERALL  SALES_PRICE  AllPub  ELO  NoSeWa  Gravel  NoAccess  Paved  \n",
              "0       4.330      7600000       1    0       0       0         0      1  \n",
              "1       3.765     21717770       1    0       0       1         0      0  \n",
              "2       3.090     13159200       0    1       0       1         0      0  \n",
              "3       4.010      9630290       0    0       1       0         0      1  \n",
              "4       3.290      7406250       1    0       0       1         0      0  \n",
              "\n",
              "[5 rows x 23 columns]"
            ]
          },
          "metadata": {},
          "execution_count": 34
        }
      ]
    },
    {
      "cell_type": "markdown",
      "metadata": {
        "id": "rJKDJ9DPZz0D"
      },
      "source": [
        "DATE_SALE and DATE_BUILD datatype of these columns is 'Object' type Convert these columns to datatime datatype."
      ]
    },
    {
      "cell_type": "code",
      "execution_count": 35,
      "metadata": {
        "id": "pO2x7Yq7ao3Q"
      },
      "outputs": [],
      "source": [
        "data[\"DATE_SALE\"]=pd.to_datetime(data[\"DATE_SALE\"],infer_datetime_format =True)\n",
        "data[\"DATE_BUILD\"]=pd.to_datetime(data[\"DATE_BUILD\"],infer_datetime_format =True)"
      ]
    },
    {
      "cell_type": "code",
      "source": [
        "from datetime import timedelta\n",
        "#df[\"diff_in_days\"] / timedelta(days=365)\n",
        "data[\"BUILD_AGE\"] = (data[\"DATE_SALE\"]-data[\"DATE_BUILD\"])/ np.timedelta64(1,'Y')\n",
        "type(data[\"BUILD_AGE\"])"
      ],
      "metadata": {
        "id": "ea8jzXo3fiAV",
        "colab": {
          "base_uri": "https://localhost:8080/"
        },
        "outputId": "429b87fa-143d-4fc3-d037-7488cd7bad34"
      },
      "execution_count": 36,
      "outputs": [
        {
          "output_type": "execute_result",
          "data": {
            "text/plain": [
              "pandas.core.series.Series"
            ]
          },
          "metadata": {},
          "execution_count": 36
        }
      ]
    },
    {
      "cell_type": "code",
      "source": [
        "data[\"BUILD_AGE\"]"
      ],
      "metadata": {
        "colab": {
          "base_uri": "https://localhost:8080/"
        },
        "id": "R-JfpQTChBAs",
        "outputId": "756177d2-ae21-499b-f456-ee03df606661"
      },
      "execution_count": 37,
      "outputs": [
        {
          "output_type": "execute_result",
          "data": {
            "text/plain": [
              "0       43.891387\n",
              "1       10.992697\n",
              "2       20.145520\n",
              "3       21.985393\n",
              "4       29.574871\n",
              "          ...    \n",
              "7104    49.123528\n",
              "7105     9.317098\n",
              "7106    27.981410\n",
              "7107    31.573544\n",
              "7108    43.970787\n",
              "Name: BUILD_AGE, Length: 7109, dtype: float64"
            ]
          },
          "metadata": {},
          "execution_count": 37
        }
      ]
    },
    {
      "cell_type": "code",
      "source": [
        "data.drop([\"DATE_SALE\"],axis = 1,inplace = True)\n",
        "data.drop([\"DATE_BUILD\"],axis = 1,inplace = True)"
      ],
      "metadata": {
        "id": "stEo9CLOgk7s"
      },
      "execution_count": 38,
      "outputs": []
    },
    {
      "cell_type": "code",
      "execution_count": 39,
      "metadata": {
        "id": "66bOOZg7ZLGn",
        "colab": {
          "base_uri": "https://localhost:8080/"
        },
        "outputId": "44e47c80-cfc9-4ed0-fbda-0b6f9c259abb"
      },
      "outputs": [
        {
          "output_type": "execute_result",
          "data": {
            "text/plain": [
              "AREA               int64\n",
              "INT_SQFT           int64\n",
              "DIST_MAINROAD      int64\n",
              "N_BEDROOM          int64\n",
              "N_BATHROOM         int64\n",
              "N_ROOM             int64\n",
              "SALE_COND          int64\n",
              "PARK_FACIL         int64\n",
              "BUILDTYPE          int64\n",
              "MZZONE             int64\n",
              "QS_ROOMS         float64\n",
              "QS_BATHROOM      float64\n",
              "QS_BEDROOM       float64\n",
              "QS_OVERALL       float64\n",
              "SALES_PRICE        int64\n",
              "AllPub             uint8\n",
              "ELO                uint8\n",
              "NoSeWa             uint8\n",
              "Gravel             uint8\n",
              "NoAccess           uint8\n",
              "Paved              uint8\n",
              "BUILD_AGE        float64\n",
              "dtype: object"
            ]
          },
          "metadata": {},
          "execution_count": 39
        }
      ],
      "source": [
        "#Rechecking for the datatypes of the data after convertion\n",
        "data.dtypes"
      ]
    },
    {
      "cell_type": "code",
      "source": [
        "data.head()"
      ],
      "metadata": {
        "id": "xZ-XZK3KgPoR",
        "colab": {
          "base_uri": "https://localhost:8080/",
          "height": 299
        },
        "outputId": "0f3afb6d-f3d1-4f47-fb4c-c13975a2b652"
      },
      "execution_count": 40,
      "outputs": [
        {
          "output_type": "execute_result",
          "data": {
            "text/html": [
              "\n",
              "  <div id=\"df-7c116536-1075-4a6d-aead-6574e11189a0\">\n",
              "    <div class=\"colab-df-container\">\n",
              "      <div>\n",
              "<style scoped>\n",
              "    .dataframe tbody tr th:only-of-type {\n",
              "        vertical-align: middle;\n",
              "    }\n",
              "\n",
              "    .dataframe tbody tr th {\n",
              "        vertical-align: top;\n",
              "    }\n",
              "\n",
              "    .dataframe thead th {\n",
              "        text-align: right;\n",
              "    }\n",
              "</style>\n",
              "<table border=\"1\" class=\"dataframe\">\n",
              "  <thead>\n",
              "    <tr style=\"text-align: right;\">\n",
              "      <th></th>\n",
              "      <th>AREA</th>\n",
              "      <th>INT_SQFT</th>\n",
              "      <th>DIST_MAINROAD</th>\n",
              "      <th>N_BEDROOM</th>\n",
              "      <th>N_BATHROOM</th>\n",
              "      <th>N_ROOM</th>\n",
              "      <th>SALE_COND</th>\n",
              "      <th>PARK_FACIL</th>\n",
              "      <th>BUILDTYPE</th>\n",
              "      <th>MZZONE</th>\n",
              "      <th>...</th>\n",
              "      <th>QS_BEDROOM</th>\n",
              "      <th>QS_OVERALL</th>\n",
              "      <th>SALES_PRICE</th>\n",
              "      <th>AllPub</th>\n",
              "      <th>ELO</th>\n",
              "      <th>NoSeWa</th>\n",
              "      <th>Gravel</th>\n",
              "      <th>NoAccess</th>\n",
              "      <th>Paved</th>\n",
              "      <th>BUILD_AGE</th>\n",
              "    </tr>\n",
              "  </thead>\n",
              "  <tbody>\n",
              "    <tr>\n",
              "      <th>0</th>\n",
              "      <td>0</td>\n",
              "      <td>1004</td>\n",
              "      <td>131</td>\n",
              "      <td>1</td>\n",
              "      <td>1</td>\n",
              "      <td>3</td>\n",
              "      <td>2</td>\n",
              "      <td>1</td>\n",
              "      <td>2</td>\n",
              "      <td>0</td>\n",
              "      <td>...</td>\n",
              "      <td>4.9</td>\n",
              "      <td>4.330</td>\n",
              "      <td>7600000</td>\n",
              "      <td>1</td>\n",
              "      <td>0</td>\n",
              "      <td>0</td>\n",
              "      <td>0</td>\n",
              "      <td>0</td>\n",
              "      <td>1</td>\n",
              "      <td>43.891387</td>\n",
              "    </tr>\n",
              "    <tr>\n",
              "      <th>1</th>\n",
              "      <td>5</td>\n",
              "      <td>1986</td>\n",
              "      <td>26</td>\n",
              "      <td>2</td>\n",
              "      <td>1</td>\n",
              "      <td>5</td>\n",
              "      <td>2</td>\n",
              "      <td>0</td>\n",
              "      <td>2</td>\n",
              "      <td>3</td>\n",
              "      <td>...</td>\n",
              "      <td>2.5</td>\n",
              "      <td>3.765</td>\n",
              "      <td>21717770</td>\n",
              "      <td>1</td>\n",
              "      <td>0</td>\n",
              "      <td>0</td>\n",
              "      <td>1</td>\n",
              "      <td>0</td>\n",
              "      <td>0</td>\n",
              "      <td>10.992697</td>\n",
              "    </tr>\n",
              "    <tr>\n",
              "      <th>2</th>\n",
              "      <td>1</td>\n",
              "      <td>909</td>\n",
              "      <td>70</td>\n",
              "      <td>1</td>\n",
              "      <td>1</td>\n",
              "      <td>3</td>\n",
              "      <td>2</td>\n",
              "      <td>1</td>\n",
              "      <td>2</td>\n",
              "      <td>4</td>\n",
              "      <td>...</td>\n",
              "      <td>2.2</td>\n",
              "      <td>3.090</td>\n",
              "      <td>13159200</td>\n",
              "      <td>0</td>\n",
              "      <td>1</td>\n",
              "      <td>0</td>\n",
              "      <td>1</td>\n",
              "      <td>0</td>\n",
              "      <td>0</td>\n",
              "      <td>20.145520</td>\n",
              "    </tr>\n",
              "    <tr>\n",
              "      <th>3</th>\n",
              "      <td>3</td>\n",
              "      <td>1855</td>\n",
              "      <td>14</td>\n",
              "      <td>3</td>\n",
              "      <td>2</td>\n",
              "      <td>5</td>\n",
              "      <td>1</td>\n",
              "      <td>0</td>\n",
              "      <td>1</td>\n",
              "      <td>2</td>\n",
              "      <td>...</td>\n",
              "      <td>3.6</td>\n",
              "      <td>4.010</td>\n",
              "      <td>9630290</td>\n",
              "      <td>0</td>\n",
              "      <td>0</td>\n",
              "      <td>1</td>\n",
              "      <td>0</td>\n",
              "      <td>0</td>\n",
              "      <td>1</td>\n",
              "      <td>21.985393</td>\n",
              "    </tr>\n",
              "    <tr>\n",
              "      <th>4</th>\n",
              "      <td>0</td>\n",
              "      <td>1226</td>\n",
              "      <td>84</td>\n",
              "      <td>1</td>\n",
              "      <td>1</td>\n",
              "      <td>3</td>\n",
              "      <td>2</td>\n",
              "      <td>1</td>\n",
              "      <td>1</td>\n",
              "      <td>1</td>\n",
              "      <td>...</td>\n",
              "      <td>4.1</td>\n",
              "      <td>3.290</td>\n",
              "      <td>7406250</td>\n",
              "      <td>1</td>\n",
              "      <td>0</td>\n",
              "      <td>0</td>\n",
              "      <td>1</td>\n",
              "      <td>0</td>\n",
              "      <td>0</td>\n",
              "      <td>29.574871</td>\n",
              "    </tr>\n",
              "  </tbody>\n",
              "</table>\n",
              "<p>5 rows × 22 columns</p>\n",
              "</div>\n",
              "      <button class=\"colab-df-convert\" onclick=\"convertToInteractive('df-7c116536-1075-4a6d-aead-6574e11189a0')\"\n",
              "              title=\"Convert this dataframe to an interactive table.\"\n",
              "              style=\"display:none;\">\n",
              "        \n",
              "  <svg xmlns=\"http://www.w3.org/2000/svg\" height=\"24px\"viewBox=\"0 0 24 24\"\n",
              "       width=\"24px\">\n",
              "    <path d=\"M0 0h24v24H0V0z\" fill=\"none\"/>\n",
              "    <path d=\"M18.56 5.44l.94 2.06.94-2.06 2.06-.94-2.06-.94-.94-2.06-.94 2.06-2.06.94zm-11 1L8.5 8.5l.94-2.06 2.06-.94-2.06-.94L8.5 2.5l-.94 2.06-2.06.94zm10 10l.94 2.06.94-2.06 2.06-.94-2.06-.94-.94-2.06-.94 2.06-2.06.94z\"/><path d=\"M17.41 7.96l-1.37-1.37c-.4-.4-.92-.59-1.43-.59-.52 0-1.04.2-1.43.59L10.3 9.45l-7.72 7.72c-.78.78-.78 2.05 0 2.83L4 21.41c.39.39.9.59 1.41.59.51 0 1.02-.2 1.41-.59l7.78-7.78 2.81-2.81c.8-.78.8-2.07 0-2.86zM5.41 20L4 18.59l7.72-7.72 1.47 1.35L5.41 20z\"/>\n",
              "  </svg>\n",
              "      </button>\n",
              "      \n",
              "  <style>\n",
              "    .colab-df-container {\n",
              "      display:flex;\n",
              "      flex-wrap:wrap;\n",
              "      gap: 12px;\n",
              "    }\n",
              "\n",
              "    .colab-df-convert {\n",
              "      background-color: #E8F0FE;\n",
              "      border: none;\n",
              "      border-radius: 50%;\n",
              "      cursor: pointer;\n",
              "      display: none;\n",
              "      fill: #1967D2;\n",
              "      height: 32px;\n",
              "      padding: 0 0 0 0;\n",
              "      width: 32px;\n",
              "    }\n",
              "\n",
              "    .colab-df-convert:hover {\n",
              "      background-color: #E2EBFA;\n",
              "      box-shadow: 0px 1px 2px rgba(60, 64, 67, 0.3), 0px 1px 3px 1px rgba(60, 64, 67, 0.15);\n",
              "      fill: #174EA6;\n",
              "    }\n",
              "\n",
              "    [theme=dark] .colab-df-convert {\n",
              "      background-color: #3B4455;\n",
              "      fill: #D2E3FC;\n",
              "    }\n",
              "\n",
              "    [theme=dark] .colab-df-convert:hover {\n",
              "      background-color: #434B5C;\n",
              "      box-shadow: 0px 1px 3px 1px rgba(0, 0, 0, 0.15);\n",
              "      filter: drop-shadow(0px 1px 2px rgba(0, 0, 0, 0.3));\n",
              "      fill: #FFFFFF;\n",
              "    }\n",
              "  </style>\n",
              "\n",
              "      <script>\n",
              "        const buttonEl =\n",
              "          document.querySelector('#df-7c116536-1075-4a6d-aead-6574e11189a0 button.colab-df-convert');\n",
              "        buttonEl.style.display =\n",
              "          google.colab.kernel.accessAllowed ? 'block' : 'none';\n",
              "\n",
              "        async function convertToInteractive(key) {\n",
              "          const element = document.querySelector('#df-7c116536-1075-4a6d-aead-6574e11189a0');\n",
              "          const dataTable =\n",
              "            await google.colab.kernel.invokeFunction('convertToInteractive',\n",
              "                                                     [key], {});\n",
              "          if (!dataTable) return;\n",
              "\n",
              "          const docLinkHtml = 'Like what you see? Visit the ' +\n",
              "            '<a target=\"_blank\" href=https://colab.research.google.com/notebooks/data_table.ipynb>data table notebook</a>'\n",
              "            + ' to learn more about interactive tables.';\n",
              "          element.innerHTML = '';\n",
              "          dataTable['output_type'] = 'display_data';\n",
              "          await google.colab.output.renderOutput(dataTable, element);\n",
              "          const docLink = document.createElement('div');\n",
              "          docLink.innerHTML = docLinkHtml;\n",
              "          element.appendChild(docLink);\n",
              "        }\n",
              "      </script>\n",
              "    </div>\n",
              "  </div>\n",
              "  "
            ],
            "text/plain": [
              "   AREA  INT_SQFT  DIST_MAINROAD  N_BEDROOM  N_BATHROOM  N_ROOM  SALE_COND  \\\n",
              "0     0      1004            131          1           1       3          2   \n",
              "1     5      1986             26          2           1       5          2   \n",
              "2     1       909             70          1           1       3          2   \n",
              "3     3      1855             14          3           2       5          1   \n",
              "4     0      1226             84          1           1       3          2   \n",
              "\n",
              "   PARK_FACIL  BUILDTYPE  MZZONE  ...  QS_BEDROOM  QS_OVERALL  SALES_PRICE  \\\n",
              "0           1          2       0  ...         4.9       4.330      7600000   \n",
              "1           0          2       3  ...         2.5       3.765     21717770   \n",
              "2           1          2       4  ...         2.2       3.090     13159200   \n",
              "3           0          1       2  ...         3.6       4.010      9630290   \n",
              "4           1          1       1  ...         4.1       3.290      7406250   \n",
              "\n",
              "   AllPub  ELO  NoSeWa  Gravel  NoAccess  Paved  BUILD_AGE  \n",
              "0       1    0       0       0         0      1  43.891387  \n",
              "1       1    0       0       1         0      0  10.992697  \n",
              "2       0    1       0       1         0      0  20.145520  \n",
              "3       0    0       1       0         0      1  21.985393  \n",
              "4       1    0       0       1         0      0  29.574871  \n",
              "\n",
              "[5 rows x 22 columns]"
            ]
          },
          "metadata": {},
          "execution_count": 40
        }
      ]
    },
    {
      "cell_type": "code",
      "execution_count": 41,
      "metadata": {
        "id": "eVCwKDvnjZI_",
        "colab": {
          "base_uri": "https://localhost:8080/",
          "height": 625
        },
        "outputId": "6ceffa16-4f39-4e1b-aec3-db67eb77e97b"
      },
      "outputs": [
        {
          "output_type": "display_data",
          "data": {
            "image/png": "[encoded data removed]",
            "text/plain": [
              "<Figure size 1152x864 with 25 Axes>"
            ]
          },
          "metadata": {
            "needs_background": "light"
          }
        }
      ],
      "source": [
        "#Graphical repesentation of Distribution of each column of the data \n",
        "data.hist(bins=10,figsize=(16,12))\n",
        "plt.show()"
      ]
    },
    {
      "cell_type": "markdown",
      "metadata": {
        "id": "v8lgl9I2nAgL"
      },
      "source": [
        "**Correlation Matrix with Heatmap**"
      ]
    },
    {
      "cell_type": "markdown",
      "metadata": {
        "id": "iruSmvl1n_EZ"
      },
      "source": [
        "We can check how each feature is related to others using corr() function."
      ]
    },
    {
      "cell_type": "code",
      "execution_count": 42,
      "metadata": {
        "id": "fXn-wXYBn-zk",
        "colab": {
          "base_uri": "https://localhost:8080/",
          "height": 832
        },
        "outputId": "2a752a72-bd02-4b5d-8323-199534d74ac0"
      },
      "outputs": [
        {
          "output_type": "execute_result",
          "data": {
            "text/html": [
              "\n",
              "  <div id=\"df-3573a5af-09ff-427b-9733-91e7a2e905c5\">\n",
              "    <div class=\"colab-df-container\">\n",
              "      <div>\n",
              "<style scoped>\n",
              "    .dataframe tbody tr th:only-of-type {\n",
              "        vertical-align: middle;\n",
              "    }\n",
              "\n",
              "    .dataframe tbody tr th {\n",
              "        vertical-align: top;\n",
              "    }\n",
              "\n",
              "    .dataframe thead th {\n",
              "        text-align: right;\n",
              "    }\n",
              "</style>\n",
              "<table border=\"1\" class=\"dataframe\">\n",
              "  <thead>\n",
              "    <tr style=\"text-align: right;\">\n",
              "      <th></th>\n",
              "      <th>AREA</th>\n",
              "      <th>INT_SQFT</th>\n",
              "      <th>DIST_MAINROAD</th>\n",
              "      <th>N_BEDROOM</th>\n",
              "      <th>N_BATHROOM</th>\n",
              "      <th>N_ROOM</th>\n",
              "      <th>SALE_COND</th>\n",
              "      <th>PARK_FACIL</th>\n",
              "      <th>BUILDTYPE</th>\n",
              "      <th>MZZONE</th>\n",
              "      <th>...</th>\n",
              "      <th>QS_BEDROOM</th>\n",
              "      <th>QS_OVERALL</th>\n",
              "      <th>SALES_PRICE</th>\n",
              "      <th>AllPub</th>\n",
              "      <th>ELO</th>\n",
              "      <th>NoSeWa</th>\n",
              "      <th>Gravel</th>\n",
              "      <th>NoAccess</th>\n",
              "      <th>Paved</th>\n",
              "      <th>BUILD_AGE</th>\n",
              "    </tr>\n",
              "  </thead>\n",
              "  <tbody>\n",
              "    <tr>\n",
              "      <th>AREA</th>\n",
              "      <td>1.000000</td>\n",
              "      <td>0.685243</td>\n",
              "      <td>0.003487</td>\n",
              "      <td>0.320889</td>\n",
              "      <td>-0.044401</td>\n",
              "      <td>0.644971</td>\n",
              "      <td>-0.001571</td>\n",
              "      <td>0.007916</td>\n",
              "      <td>0.014790</td>\n",
              "      <td>0.346385</td>\n",
              "      <td>...</td>\n",
              "      <td>0.004147</td>\n",
              "      <td>0.017745</td>\n",
              "      <td>0.694149</td>\n",
              "      <td>0.024412</td>\n",
              "      <td>-0.063226</td>\n",
              "      <td>0.030337</td>\n",
              "      <td>0.037557</td>\n",
              "      <td>-0.086284</td>\n",
              "      <td>0.043560</td>\n",
              "      <td>-0.072211</td>\n",
              "    </tr>\n",
              "    <tr>\n",
              "      <th>INT_SQFT</th>\n",
              "      <td>0.685243</td>\n",
              "      <td>1.000000</td>\n",
              "      <td>0.002022</td>\n",
              "      <td>0.786263</td>\n",
              "      <td>0.515290</td>\n",
              "      <td>0.951279</td>\n",
              "      <td>0.004029</td>\n",
              "      <td>0.004618</td>\n",
              "      <td>0.009084</td>\n",
              "      <td>0.143226</td>\n",
              "      <td>...</td>\n",
              "      <td>0.008865</td>\n",
              "      <td>0.013989</td>\n",
              "      <td>0.612125</td>\n",
              "      <td>0.027580</td>\n",
              "      <td>-0.089793</td>\n",
              "      <td>0.049350</td>\n",
              "      <td>0.045943</td>\n",
              "      <td>-0.113160</td>\n",
              "      <td>0.060426</td>\n",
              "      <td>-0.012815</td>\n",
              "    </tr>\n",
              "    <tr>\n",
              "      <th>DIST_MAINROAD</th>\n",
              "      <td>0.003487</td>\n",
              "      <td>0.002022</td>\n",
              "      <td>1.000000</td>\n",
              "      <td>-0.002723</td>\n",
              "      <td>0.001850</td>\n",
              "      <td>0.002301</td>\n",
              "      <td>-0.009342</td>\n",
              "      <td>-0.009448</td>\n",
              "      <td>0.023924</td>\n",
              "      <td>0.007334</td>\n",
              "      <td>...</td>\n",
              "      <td>0.001554</td>\n",
              "      <td>-0.017255</td>\n",
              "      <td>0.018783</td>\n",
              "      <td>-0.008859</td>\n",
              "      <td>0.012707</td>\n",
              "      <td>-0.002604</td>\n",
              "      <td>-0.005461</td>\n",
              "      <td>-0.009223</td>\n",
              "      <td>0.014090</td>\n",
              "      <td>-0.003717</td>\n",
              "    </tr>\n",
              "    <tr>\n",
              "      <th>N_BEDROOM</th>\n",
              "      <td>0.320889</td>\n",
              "      <td>0.786263</td>\n",
              "      <td>-0.002723</td>\n",
              "      <td>1.000000</td>\n",
              "      <td>0.755207</td>\n",
              "      <td>0.840209</td>\n",
              "      <td>0.006868</td>\n",
              "      <td>-0.009357</td>\n",
              "      <td>-0.003155</td>\n",
              "      <td>0.049928</td>\n",
              "      <td>...</td>\n",
              "      <td>0.015752</td>\n",
              "      <td>0.014245</td>\n",
              "      <td>0.330987</td>\n",
              "      <td>0.033766</td>\n",
              "      <td>-0.111240</td>\n",
              "      <td>0.061491</td>\n",
              "      <td>0.062603</td>\n",
              "      <td>-0.140196</td>\n",
              "      <td>0.069205</td>\n",
              "      <td>-0.045935</td>\n",
              "    </tr>\n",
              "    <tr>\n",
              "      <th>N_BATHROOM</th>\n",
              "      <td>-0.044401</td>\n",
              "      <td>0.515290</td>\n",
              "      <td>0.001850</td>\n",
              "      <td>0.755207</td>\n",
              "      <td>1.000000</td>\n",
              "      <td>0.568541</td>\n",
              "      <td>0.010695</td>\n",
              "      <td>-0.014033</td>\n",
              "      <td>-0.014043</td>\n",
              "      <td>-0.047164</td>\n",
              "      <td>...</td>\n",
              "      <td>0.013191</td>\n",
              "      <td>0.007961</td>\n",
              "      <td>0.108834</td>\n",
              "      <td>0.013895</td>\n",
              "      <td>-0.071477</td>\n",
              "      <td>0.046407</td>\n",
              "      <td>0.045213</td>\n",
              "      <td>-0.078364</td>\n",
              "      <td>0.028509</td>\n",
              "      <td>-0.020321</td>\n",
              "    </tr>\n",
              "    <tr>\n",
              "      <th>N_ROOM</th>\n",
              "      <td>0.644971</td>\n",
              "      <td>0.951279</td>\n",
              "      <td>0.002301</td>\n",
              "      <td>0.840209</td>\n",
              "      <td>0.568541</td>\n",
              "      <td>1.000000</td>\n",
              "      <td>0.000969</td>\n",
              "      <td>-0.000934</td>\n",
              "      <td>0.008122</td>\n",
              "      <td>0.163697</td>\n",
              "      <td>...</td>\n",
              "      <td>0.015072</td>\n",
              "      <td>0.015418</td>\n",
              "      <td>0.602760</td>\n",
              "      <td>0.023263</td>\n",
              "      <td>-0.083528</td>\n",
              "      <td>0.048021</td>\n",
              "      <td>0.049769</td>\n",
              "      <td>-0.105984</td>\n",
              "      <td>0.049886</td>\n",
              "      <td>-0.033529</td>\n",
              "    </tr>\n",
              "    <tr>\n",
              "      <th>SALE_COND</th>\n",
              "      <td>-0.001571</td>\n",
              "      <td>0.004029</td>\n",
              "      <td>-0.009342</td>\n",
              "      <td>0.006868</td>\n",
              "      <td>0.010695</td>\n",
              "      <td>0.000969</td>\n",
              "      <td>1.000000</td>\n",
              "      <td>0.003936</td>\n",
              "      <td>-0.002842</td>\n",
              "      <td>0.000122</td>\n",
              "      <td>...</td>\n",
              "      <td>0.003840</td>\n",
              "      <td>0.001542</td>\n",
              "      <td>0.054370</td>\n",
              "      <td>-0.006846</td>\n",
              "      <td>0.002936</td>\n",
              "      <td>0.003640</td>\n",
              "      <td>-0.005252</td>\n",
              "      <td>-0.001117</td>\n",
              "      <td>0.006276</td>\n",
              "      <td>0.011065</td>\n",
              "    </tr>\n",
              "    <tr>\n",
              "      <th>PARK_FACIL</th>\n",
              "      <td>0.007916</td>\n",
              "      <td>0.004618</td>\n",
              "      <td>-0.009448</td>\n",
              "      <td>-0.009357</td>\n",
              "      <td>-0.014033</td>\n",
              "      <td>-0.000934</td>\n",
              "      <td>0.003936</td>\n",
              "      <td>1.000000</td>\n",
              "      <td>0.012029</td>\n",
              "      <td>-0.007192</td>\n",
              "      <td>...</td>\n",
              "      <td>-0.001165</td>\n",
              "      <td>-0.009601</td>\n",
              "      <td>0.146428</td>\n",
              "      <td>-0.016010</td>\n",
              "      <td>0.026092</td>\n",
              "      <td>-0.007273</td>\n",
              "      <td>-0.005011</td>\n",
              "      <td>-0.003570</td>\n",
              "      <td>0.008339</td>\n",
              "      <td>-0.009206</td>\n",
              "    </tr>\n",
              "    <tr>\n",
              "      <th>BUILDTYPE</th>\n",
              "      <td>0.014790</td>\n",
              "      <td>0.009084</td>\n",
              "      <td>0.023924</td>\n",
              "      <td>-0.003155</td>\n",
              "      <td>-0.014043</td>\n",
              "      <td>0.008122</td>\n",
              "      <td>-0.002842</td>\n",
              "      <td>0.012029</td>\n",
              "      <td>1.000000</td>\n",
              "      <td>0.004869</td>\n",
              "      <td>...</td>\n",
              "      <td>0.003118</td>\n",
              "      <td>0.007476</td>\n",
              "      <td>0.515717</td>\n",
              "      <td>0.020036</td>\n",
              "      <td>-0.016065</td>\n",
              "      <td>-0.004518</td>\n",
              "      <td>-0.027006</td>\n",
              "      <td>-0.000522</td>\n",
              "      <td>0.027374</td>\n",
              "      <td>-0.012288</td>\n",
              "    </tr>\n",
              "    <tr>\n",
              "      <th>MZZONE</th>\n",
              "      <td>0.346385</td>\n",
              "      <td>0.143226</td>\n",
              "      <td>0.007334</td>\n",
              "      <td>0.049928</td>\n",
              "      <td>-0.047164</td>\n",
              "      <td>0.163697</td>\n",
              "      <td>0.000122</td>\n",
              "      <td>-0.007192</td>\n",
              "      <td>0.004869</td>\n",
              "      <td>1.000000</td>\n",
              "      <td>...</td>\n",
              "      <td>0.003635</td>\n",
              "      <td>-0.005553</td>\n",
              "      <td>0.427789</td>\n",
              "      <td>0.006626</td>\n",
              "      <td>-0.039813</td>\n",
              "      <td>0.026833</td>\n",
              "      <td>0.023995</td>\n",
              "      <td>-0.047071</td>\n",
              "      <td>0.020273</td>\n",
              "      <td>-0.111018</td>\n",
              "    </tr>\n",
              "    <tr>\n",
              "      <th>QS_ROOMS</th>\n",
              "      <td>0.022620</td>\n",
              "      <td>0.019850</td>\n",
              "      <td>0.002237</td>\n",
              "      <td>0.014948</td>\n",
              "      <td>0.013376</td>\n",
              "      <td>0.016524</td>\n",
              "      <td>-0.007720</td>\n",
              "      <td>-0.008128</td>\n",
              "      <td>0.015595</td>\n",
              "      <td>0.002429</td>\n",
              "      <td>...</td>\n",
              "      <td>0.007789</td>\n",
              "      <td>0.516147</td>\n",
              "      <td>0.021967</td>\n",
              "      <td>0.001226</td>\n",
              "      <td>-0.018183</td>\n",
              "      <td>0.013846</td>\n",
              "      <td>-0.006471</td>\n",
              "      <td>-0.011349</td>\n",
              "      <td>0.017089</td>\n",
              "      <td>0.019634</td>\n",
              "    </tr>\n",
              "    <tr>\n",
              "      <th>QS_BATHROOM</th>\n",
              "      <td>0.002351</td>\n",
              "      <td>-0.008337</td>\n",
              "      <td>-0.029468</td>\n",
              "      <td>-0.007534</td>\n",
              "      <td>-0.012043</td>\n",
              "      <td>-0.007545</td>\n",
              "      <td>0.004049</td>\n",
              "      <td>-0.011935</td>\n",
              "      <td>-0.006898</td>\n",
              "      <td>-0.017181</td>\n",
              "      <td>...</td>\n",
              "      <td>-0.011745</td>\n",
              "      <td>0.549056</td>\n",
              "      <td>-0.011377</td>\n",
              "      <td>-0.012196</td>\n",
              "      <td>0.015155</td>\n",
              "      <td>-0.001664</td>\n",
              "      <td>-0.005226</td>\n",
              "      <td>-0.011821</td>\n",
              "      <td>0.016293</td>\n",
              "      <td>0.021852</td>\n",
              "    </tr>\n",
              "    <tr>\n",
              "      <th>QS_BEDROOM</th>\n",
              "      <td>0.004147</td>\n",
              "      <td>0.008865</td>\n",
              "      <td>0.001554</td>\n",
              "      <td>0.015752</td>\n",
              "      <td>0.013191</td>\n",
              "      <td>0.015072</td>\n",
              "      <td>0.003840</td>\n",
              "      <td>-0.001165</td>\n",
              "      <td>0.003118</td>\n",
              "      <td>0.003635</td>\n",
              "      <td>...</td>\n",
              "      <td>1.000000</td>\n",
              "      <td>0.628168</td>\n",
              "      <td>0.018804</td>\n",
              "      <td>0.002132</td>\n",
              "      <td>-0.021965</td>\n",
              "      <td>0.016150</td>\n",
              "      <td>0.024011</td>\n",
              "      <td>-0.016548</td>\n",
              "      <td>-0.008378</td>\n",
              "      <td>-0.018001</td>\n",
              "    </tr>\n",
              "    <tr>\n",
              "      <th>QS_OVERALL</th>\n",
              "      <td>0.017745</td>\n",
              "      <td>0.013989</td>\n",
              "      <td>-0.017255</td>\n",
              "      <td>0.014245</td>\n",
              "      <td>0.007961</td>\n",
              "      <td>0.015418</td>\n",
              "      <td>0.001542</td>\n",
              "      <td>-0.009601</td>\n",
              "      <td>0.007476</td>\n",
              "      <td>-0.005553</td>\n",
              "      <td>...</td>\n",
              "      <td>0.628168</td>\n",
              "      <td>1.000000</td>\n",
              "      <td>0.020485</td>\n",
              "      <td>-0.003540</td>\n",
              "      <td>-0.014539</td>\n",
              "      <td>0.015067</td>\n",
              "      <td>0.004736</td>\n",
              "      <td>-0.021478</td>\n",
              "      <td>0.015434</td>\n",
              "      <td>0.012531</td>\n",
              "    </tr>\n",
              "    <tr>\n",
              "      <th>SALES_PRICE</th>\n",
              "      <td>0.694149</td>\n",
              "      <td>0.612125</td>\n",
              "      <td>0.018783</td>\n",
              "      <td>0.330987</td>\n",
              "      <td>0.108834</td>\n",
              "      <td>0.602760</td>\n",
              "      <td>0.054370</td>\n",
              "      <td>0.146428</td>\n",
              "      <td>0.515717</td>\n",
              "      <td>0.427789</td>\n",
              "      <td>...</td>\n",
              "      <td>0.018804</td>\n",
              "      <td>0.020485</td>\n",
              "      <td>1.000000</td>\n",
              "      <td>0.050266</td>\n",
              "      <td>-0.058934</td>\n",
              "      <td>0.003960</td>\n",
              "      <td>0.108100</td>\n",
              "      <td>-0.149341</td>\n",
              "      <td>0.032493</td>\n",
              "      <td>-0.119141</td>\n",
              "    </tr>\n",
              "    <tr>\n",
              "      <th>AllPub</th>\n",
              "      <td>0.024412</td>\n",
              "      <td>0.027580</td>\n",
              "      <td>-0.008859</td>\n",
              "      <td>0.033766</td>\n",
              "      <td>0.013895</td>\n",
              "      <td>0.023263</td>\n",
              "      <td>-0.006846</td>\n",
              "      <td>-0.016010</td>\n",
              "      <td>0.020036</td>\n",
              "      <td>0.006626</td>\n",
              "      <td>...</td>\n",
              "      <td>0.002132</td>\n",
              "      <td>-0.003540</td>\n",
              "      <td>0.050266</td>\n",
              "      <td>1.000000</td>\n",
              "      <td>-0.313751</td>\n",
              "      <td>-0.626260</td>\n",
              "      <td>0.012717</td>\n",
              "      <td>-0.002395</td>\n",
              "      <td>-0.010413</td>\n",
              "      <td>-0.021247</td>\n",
              "    </tr>\n",
              "    <tr>\n",
              "      <th>ELO</th>\n",
              "      <td>-0.063226</td>\n",
              "      <td>-0.089793</td>\n",
              "      <td>0.012707</td>\n",
              "      <td>-0.111240</td>\n",
              "      <td>-0.071477</td>\n",
              "      <td>-0.083528</td>\n",
              "      <td>0.002936</td>\n",
              "      <td>0.026092</td>\n",
              "      <td>-0.016065</td>\n",
              "      <td>-0.039813</td>\n",
              "      <td>...</td>\n",
              "      <td>-0.021965</td>\n",
              "      <td>-0.014539</td>\n",
              "      <td>-0.058934</td>\n",
              "      <td>-0.313751</td>\n",
              "      <td>1.000000</td>\n",
              "      <td>-0.543758</td>\n",
              "      <td>-0.035500</td>\n",
              "      <td>0.060225</td>\n",
              "      <td>-0.021161</td>\n",
              "      <td>0.046846</td>\n",
              "    </tr>\n",
              "    <tr>\n",
              "      <th>NoSeWa</th>\n",
              "      <td>0.030337</td>\n",
              "      <td>0.049350</td>\n",
              "      <td>-0.002604</td>\n",
              "      <td>0.061491</td>\n",
              "      <td>0.046407</td>\n",
              "      <td>0.048021</td>\n",
              "      <td>0.003640</td>\n",
              "      <td>-0.007273</td>\n",
              "      <td>-0.004518</td>\n",
              "      <td>0.026833</td>\n",
              "      <td>...</td>\n",
              "      <td>0.016150</td>\n",
              "      <td>0.015067</td>\n",
              "      <td>0.003960</td>\n",
              "      <td>-0.626260</td>\n",
              "      <td>-0.543758</td>\n",
              "      <td>1.000000</td>\n",
              "      <td>0.017908</td>\n",
              "      <td>-0.047333</td>\n",
              "      <td>0.026579</td>\n",
              "      <td>-0.019684</td>\n",
              "    </tr>\n",
              "    <tr>\n",
              "      <th>Gravel</th>\n",
              "      <td>0.037557</td>\n",
              "      <td>0.045943</td>\n",
              "      <td>-0.005461</td>\n",
              "      <td>0.062603</td>\n",
              "      <td>0.045213</td>\n",
              "      <td>0.049769</td>\n",
              "      <td>-0.005252</td>\n",
              "      <td>-0.005011</td>\n",
              "      <td>-0.027006</td>\n",
              "      <td>0.023995</td>\n",
              "      <td>...</td>\n",
              "      <td>0.024011</td>\n",
              "      <td>0.004736</td>\n",
              "      <td>0.108100</td>\n",
              "      <td>0.012717</td>\n",
              "      <td>-0.035500</td>\n",
              "      <td>0.017908</td>\n",
              "      <td>1.000000</td>\n",
              "      <td>-0.466391</td>\n",
              "      <td>-0.557946</td>\n",
              "      <td>-0.024296</td>\n",
              "    </tr>\n",
              "    <tr>\n",
              "      <th>NoAccess</th>\n",
              "      <td>-0.086284</td>\n",
              "      <td>-0.113160</td>\n",
              "      <td>-0.009223</td>\n",
              "      <td>-0.140196</td>\n",
              "      <td>-0.078364</td>\n",
              "      <td>-0.105984</td>\n",
              "      <td>-0.001117</td>\n",
              "      <td>-0.003570</td>\n",
              "      <td>-0.000522</td>\n",
              "      <td>-0.047071</td>\n",
              "      <td>...</td>\n",
              "      <td>-0.016548</td>\n",
              "      <td>-0.021478</td>\n",
              "      <td>-0.149341</td>\n",
              "      <td>-0.002395</td>\n",
              "      <td>0.060225</td>\n",
              "      <td>-0.047333</td>\n",
              "      <td>-0.466391</td>\n",
              "      <td>1.000000</td>\n",
              "      <td>-0.473871</td>\n",
              "      <td>0.043518</td>\n",
              "    </tr>\n",
              "    <tr>\n",
              "      <th>Paved</th>\n",
              "      <td>0.043560</td>\n",
              "      <td>0.060426</td>\n",
              "      <td>0.014090</td>\n",
              "      <td>0.069205</td>\n",
              "      <td>0.028509</td>\n",
              "      <td>0.049886</td>\n",
              "      <td>0.006276</td>\n",
              "      <td>0.008339</td>\n",
              "      <td>0.027374</td>\n",
              "      <td>0.020273</td>\n",
              "      <td>...</td>\n",
              "      <td>-0.008378</td>\n",
              "      <td>0.015434</td>\n",
              "      <td>0.032493</td>\n",
              "      <td>-0.010413</td>\n",
              "      <td>-0.021161</td>\n",
              "      <td>0.026579</td>\n",
              "      <td>-0.557946</td>\n",
              "      <td>-0.473871</td>\n",
              "      <td>1.000000</td>\n",
              "      <td>-0.016640</td>\n",
              "    </tr>\n",
              "    <tr>\n",
              "      <th>BUILD_AGE</th>\n",
              "      <td>-0.072211</td>\n",
              "      <td>-0.012815</td>\n",
              "      <td>-0.003717</td>\n",
              "      <td>-0.045935</td>\n",
              "      <td>-0.020321</td>\n",
              "      <td>-0.033529</td>\n",
              "      <td>0.011065</td>\n",
              "      <td>-0.009206</td>\n",
              "      <td>-0.012288</td>\n",
              "      <td>-0.111018</td>\n",
              "      <td>...</td>\n",
              "      <td>-0.018001</td>\n",
              "      <td>0.012531</td>\n",
              "      <td>-0.119141</td>\n",
              "      <td>-0.021247</td>\n",
              "      <td>0.046846</td>\n",
              "      <td>-0.019684</td>\n",
              "      <td>-0.024296</td>\n",
              "      <td>0.043518</td>\n",
              "      <td>-0.016640</td>\n",
              "      <td>1.000000</td>\n",
              "    </tr>\n",
              "  </tbody>\n",
              "</table>\n",
              "<p>22 rows × 22 columns</p>\n",
              "</div>\n",
              "      <button class=\"colab-df-convert\" onclick=\"convertToInteractive('df-3573a5af-09ff-427b-9733-91e7a2e905c5')\"\n",
              "              title=\"Convert this dataframe to an interactive table.\"\n",
              "              style=\"display:none;\">\n",
              "        \n",
              "  <svg xmlns=\"http://www.w3.org/2000/svg\" height=\"24px\"viewBox=\"0 0 24 24\"\n",
              "       width=\"24px\">\n",
              "    <path d=\"M0 0h24v24H0V0z\" fill=\"none\"/>\n",
              "    <path d=\"M18.56 5.44l.94 2.06.94-2.06 2.06-.94-2.06-.94-.94-2.06-.94 2.06-2.06.94zm-11 1L8.5 8.5l.94-2.06 2.06-.94-2.06-.94L8.5 2.5l-.94 2.06-2.06.94zm10 10l.94 2.06.94-2.06 2.06-.94-2.06-.94-.94-2.06-.94 2.06-2.06.94z\"/><path d=\"M17.41 7.96l-1.37-1.37c-.4-.4-.92-.59-1.43-.59-.52 0-1.04.2-1.43.59L10.3 9.45l-7.72 7.72c-.78.78-.78 2.05 0 2.83L4 21.41c.39.39.9.59 1.41.59.51 0 1.02-.2 1.41-.59l7.78-7.78 2.81-2.81c.8-.78.8-2.07 0-2.86zM5.41 20L4 18.59l7.72-7.72 1.47 1.35L5.41 20z\"/>\n",
              "  </svg>\n",
              "      </button>\n",
              "      \n",
              "  <style>\n",
              "    .colab-df-container {\n",
              "      display:flex;\n",
              "      flex-wrap:wrap;\n",
              "      gap: 12px;\n",
              "    }\n",
              "\n",
              "    .colab-df-convert {\n",
              "      background-color: #E8F0FE;\n",
              "      border: none;\n",
              "      border-radius: 50%;\n",
              "      cursor: pointer;\n",
              "      display: none;\n",
              "      fill: #1967D2;\n",
              "      height: 32px;\n",
              "      padding: 0 0 0 0;\n",
              "      width: 32px;\n",
              "    }\n",
              "\n",
              "    .colab-df-convert:hover {\n",
              "      background-color: #E2EBFA;\n",
              "      box-shadow: 0px 1px 2px rgba(60, 64, 67, 0.3), 0px 1px 3px 1px rgba(60, 64, 67, 0.15);\n",
              "      fill: #174EA6;\n",
              "    }\n",
              "\n",
              "    [theme=dark] .colab-df-convert {\n",
              "      background-color: #3B4455;\n",
              "      fill: #D2E3FC;\n",
              "    }\n",
              "\n",
              "    [theme=dark] .colab-df-convert:hover {\n",
              "      background-color: #434B5C;\n",
              "      box-shadow: 0px 1px 3px 1px rgba(0, 0, 0, 0.15);\n",
              "      filter: drop-shadow(0px 1px 2px rgba(0, 0, 0, 0.3));\n",
              "      fill: #FFFFFF;\n",
              "    }\n",
              "  </style>\n",
              "\n",
              "      <script>\n",
              "        const buttonEl =\n",
              "          document.querySelector('#df-3573a5af-09ff-427b-9733-91e7a2e905c5 button.colab-df-convert');\n",
              "        buttonEl.style.display =\n",
              "          google.colab.kernel.accessAllowed ? 'block' : 'none';\n",
              "\n",
              "        async function convertToInteractive(key) {\n",
              "          const element = document.querySelector('#df-3573a5af-09ff-427b-9733-91e7a2e905c5');\n",
              "          const dataTable =\n",
              "            await google.colab.kernel.invokeFunction('convertToInteractive',\n",
              "                                                     [key], {});\n",
              "          if (!dataTable) return;\n",
              "\n",
              "          const docLinkHtml = 'Like what you see? Visit the ' +\n",
              "            '<a target=\"_blank\" href=https://colab.research.google.com/notebooks/data_table.ipynb>data table notebook</a>'\n",
              "            + ' to learn more about interactive tables.';\n",
              "          element.innerHTML = '';\n",
              "          dataTable['output_type'] = 'display_data';\n",
              "          await google.colab.output.renderOutput(dataTable, element);\n",
              "          const docLink = document.createElement('div');\n",
              "          docLink.innerHTML = docLinkHtml;\n",
              "          element.appendChild(docLink);\n",
              "        }\n",
              "      </script>\n",
              "    </div>\n",
              "  </div>\n",
              "  "
            ],
            "text/plain": [
              "                   AREA  INT_SQFT  DIST_MAINROAD  N_BEDROOM  N_BATHROOM  \\\n",
              "AREA           1.000000  0.685243       0.003487   0.320889   -0.044401   \n",
              "INT_SQFT       0.685243  1.000000       0.002022   0.786263    0.515290   \n",
              "DIST_MAINROAD  0.003487  0.002022       1.000000  -0.002723    0.001850   \n",
              "N_BEDROOM      0.320889  0.786263      -0.002723   1.000000    0.755207   \n",
              "N_BATHROOM    -0.044401  0.515290       0.001850   0.755207    1.000000   \n",
              "N_ROOM         0.644971  0.951279       0.002301   0.840209    0.568541   \n",
              "SALE_COND     -0.001571  0.004029      -0.009342   0.006868    0.010695   \n",
              "PARK_FACIL     0.007916  0.004618      -0.009448  -0.009357   -0.014033   \n",
              "BUILDTYPE      0.014790  0.009084       0.023924  -0.003155   -0.014043   \n",
              "MZZONE         0.346385  0.143226       0.007334   0.049928   -0.047164   \n",
              "QS_ROOMS       0.022620  0.019850       0.002237   0.014948    0.013376   \n",
              "QS_BATHROOM    0.002351 -0.008337      -0.029468  -0.007534   -0.012043   \n",
              "QS_BEDROOM     0.004147  0.008865       0.001554   0.015752    0.013191   \n",
              "QS_OVERALL     0.017745  0.013989      -0.017255   0.014245    0.007961   \n",
              "SALES_PRICE    0.694149  0.612125       0.018783   0.330987    0.108834   \n",
              "AllPub         0.024412  0.027580      -0.008859   0.033766    0.013895   \n",
              "ELO           -0.063226 -0.089793       0.012707  -0.111240   -0.071477   \n",
              "NoSeWa         0.030337  0.049350      -0.002604   0.061491    0.046407   \n",
              "Gravel         0.037557  0.045943      -0.005461   0.062603    0.045213   \n",
              "NoAccess      -0.086284 -0.113160      -0.009223  -0.140196   -0.078364   \n",
              "Paved          0.043560  0.060426       0.014090   0.069205    0.028509   \n",
              "BUILD_AGE     -0.072211 -0.012815      -0.003717  -0.045935   -0.020321   \n",
              "\n",
              "                 N_ROOM  SALE_COND  PARK_FACIL  BUILDTYPE    MZZONE  ...  \\\n",
              "AREA           0.644971  -0.001571    0.007916   0.014790  0.346385  ...   \n",
              "INT_SQFT       0.951279   0.004029    0.004618   0.009084  0.143226  ...   \n",
              "DIST_MAINROAD  0.002301  -0.009342   -0.009448   0.023924  0.007334  ...   \n",
              "N_BEDROOM      0.840209   0.006868   -0.009357  -0.003155  0.049928  ...   \n",
              "N_BATHROOM     0.568541   0.010695   -0.014033  -0.014043 -0.047164  ...   \n",
              "N_ROOM         1.000000   0.000969   -0.000934   0.008122  0.163697  ...   \n",
              "SALE_COND      0.000969   1.000000    0.003936  -0.002842  0.000122  ...   \n",
              "PARK_FACIL    -0.000934   0.003936    1.000000   0.012029 -0.007192  ...   \n",
              "BUILDTYPE      0.008122  -0.002842    0.012029   1.000000  0.004869  ...   \n",
              "MZZONE         0.163697   0.000122   -0.007192   0.004869  1.000000  ...   \n",
              "QS_ROOMS       0.016524  -0.007720   -0.008128   0.015595  0.002429  ...   \n",
              "QS_BATHROOM   -0.007545   0.004049   -0.011935  -0.006898 -0.017181  ...   \n",
              "QS_BEDROOM     0.015072   0.003840   -0.001165   0.003118  0.003635  ...   \n",
              "QS_OVERALL     0.015418   0.001542   -0.009601   0.007476 -0.005553  ...   \n",
              "SALES_PRICE    0.602760   0.054370    0.146428   0.515717  0.427789  ...   \n",
              "AllPub         0.023263  -0.006846   -0.016010   0.020036  0.006626  ...   \n",
              "ELO           -0.083528   0.002936    0.026092  -0.016065 -0.039813  ...   \n",
              "NoSeWa         0.048021   0.003640   -0.007273  -0.004518  0.026833  ...   \n",
              "Gravel         0.049769  -0.005252   -0.005011  -0.027006  0.023995  ...   \n",
              "NoAccess      -0.105984  -0.001117   -0.003570  -0.000522 -0.047071  ...   \n",
              "Paved          0.049886   0.006276    0.008339   0.027374  0.020273  ...   \n",
              "BUILD_AGE     -0.033529   0.011065   -0.009206  -0.012288 -0.111018  ...   \n",
              "\n",
              "               QS_BEDROOM  QS_OVERALL  SALES_PRICE    AllPub       ELO  \\\n",
              "AREA             0.004147    0.017745     0.694149  0.024412 -0.063226   \n",
              "INT_SQFT         0.008865    0.013989     0.612125  0.027580 -0.089793   \n",
              "DIST_MAINROAD    0.001554   -0.017255     0.018783 -0.008859  0.012707   \n",
              "N_BEDROOM        0.015752    0.014245     0.330987  0.033766 -0.111240   \n",
              "N_BATHROOM       0.013191    0.007961     0.108834  0.013895 -0.071477   \n",
              "N_ROOM           0.015072    0.015418     0.602760  0.023263 -0.083528   \n",
              "SALE_COND        0.003840    0.001542     0.054370 -0.006846  0.002936   \n",
              "PARK_FACIL      -0.001165   -0.009601     0.146428 -0.016010  0.026092   \n",
              "BUILDTYPE        0.003118    0.007476     0.515717  0.020036 -0.016065   \n",
              "MZZONE           0.003635   -0.005553     0.427789  0.006626 -0.039813   \n",
              "QS_ROOMS         0.007789    0.516147     0.021967  0.001226 -0.018183   \n",
              "QS_BATHROOM     -0.011745    0.549056    -0.011377 -0.012196  0.015155   \n",
              "QS_BEDROOM       1.000000    0.628168     0.018804  0.002132 -0.021965   \n",
              "QS_OVERALL       0.628168    1.000000     0.020485 -0.003540 -0.014539   \n",
              "SALES_PRICE      0.018804    0.020485     1.000000  0.050266 -0.058934   \n",
              "AllPub           0.002132   -0.003540     0.050266  1.000000 -0.313751   \n",
              "ELO             -0.021965   -0.014539    -0.058934 -0.313751  1.000000   \n",
              "NoSeWa           0.016150    0.015067     0.003960 -0.626260 -0.543758   \n",
              "Gravel           0.024011    0.004736     0.108100  0.012717 -0.035500   \n",
              "NoAccess        -0.016548   -0.021478    -0.149341 -0.002395  0.060225   \n",
              "Paved           -0.008378    0.015434     0.032493 -0.010413 -0.021161   \n",
              "BUILD_AGE       -0.018001    0.012531    -0.119141 -0.021247  0.046846   \n",
              "\n",
              "                 NoSeWa    Gravel  NoAccess     Paved  BUILD_AGE  \n",
              "AREA           0.030337  0.037557 -0.086284  0.043560  -0.072211  \n",
              "INT_SQFT       0.049350  0.045943 -0.113160  0.060426  -0.012815  \n",
              "DIST_MAINROAD -0.002604 -0.005461 -0.009223  0.014090  -0.003717  \n",
              "N_BEDROOM      0.061491  0.062603 -0.140196  0.069205  -0.045935  \n",
              "N_BATHROOM     0.046407  0.045213 -0.078364  0.028509  -0.020321  \n",
              "N_ROOM         0.048021  0.049769 -0.105984  0.049886  -0.033529  \n",
              "SALE_COND      0.003640 -0.005252 -0.001117  0.006276   0.011065  \n",
              "PARK_FACIL    -0.007273 -0.005011 -0.003570  0.008339  -0.009206  \n",
              "BUILDTYPE     -0.004518 -0.027006 -0.000522  0.027374  -0.012288  \n",
              "MZZONE         0.026833  0.023995 -0.047071  0.020273  -0.111018  \n",
              "QS_ROOMS       0.013846 -0.006471 -0.011349  0.017089   0.019634  \n",
              "QS_BATHROOM   -0.001664 -0.005226 -0.011821  0.016293   0.021852  \n",
              "QS_BEDROOM     0.016150  0.024011 -0.016548 -0.008378  -0.018001  \n",
              "QS_OVERALL     0.015067  0.004736 -0.021478  0.015434   0.012531  \n",
              "SALES_PRICE    0.003960  0.108100 -0.149341  0.032493  -0.119141  \n",
              "AllPub        -0.626260  0.012717 -0.002395 -0.010413  -0.021247  \n",
              "ELO           -0.543758 -0.035500  0.060225 -0.021161   0.046846  \n",
              "NoSeWa         1.000000  0.017908 -0.047333  0.026579  -0.019684  \n",
              "Gravel         0.017908  1.000000 -0.466391 -0.557946  -0.024296  \n",
              "NoAccess      -0.047333 -0.466391  1.000000 -0.473871   0.043518  \n",
              "Paved          0.026579 -0.557946 -0.473871  1.000000  -0.016640  \n",
              "BUILD_AGE     -0.019684 -0.024296  0.043518 -0.016640   1.000000  \n",
              "\n",
              "[22 rows x 22 columns]"
            ]
          },
          "metadata": {},
          "execution_count": 42
        }
      ],
      "source": [
        "data.corr()"
      ]
    },
    {
      "cell_type": "code",
      "execution_count": 43,
      "metadata": {
        "id": "YPIa4aARxMw6",
        "colab": {
          "base_uri": "https://localhost:8080/"
        },
        "outputId": "95badce4-e1e5-4151-9253-032ec08283af"
      },
      "outputs": [
        {
          "output_type": "execute_result",
          "data": {
            "text/plain": [
              "SALES_PRICE      1.000000\n",
              "AREA             0.694149\n",
              "INT_SQFT         0.612125\n",
              "N_ROOM           0.602760\n",
              "BUILDTYPE        0.515717\n",
              "MZZONE           0.427789\n",
              "N_BEDROOM        0.330987\n",
              "PARK_FACIL       0.146428\n",
              "N_BATHROOM       0.108834\n",
              "Gravel           0.108100\n",
              "SALE_COND        0.054370\n",
              "AllPub           0.050266\n",
              "Paved            0.032493\n",
              "QS_ROOMS         0.021967\n",
              "QS_OVERALL       0.020485\n",
              "QS_BEDROOM       0.018804\n",
              "DIST_MAINROAD    0.018783\n",
              "NoSeWa           0.003960\n",
              "QS_BATHROOM     -0.011377\n",
              "ELO             -0.058934\n",
              "BUILD_AGE       -0.119141\n",
              "NoAccess        -0.149341\n",
              "Name: SALES_PRICE, dtype: float64"
            ]
          },
          "metadata": {},
          "execution_count": 43
        }
      ],
      "source": [
        "data.corr()[\"SALES_PRICE\"].sort_values(ascending = False)"
      ]
    },
    {
      "cell_type": "markdown",
      "metadata": {
        "id": "pcTxatZ6oKHD"
      },
      "source": [
        "Creating a pictorial visualisation of the above correlation matrix using a heatmap helps in better understanding. We can do that using Seaborn's Heatmap function.Creating a pictorial visualisation of the above correlation matrix using a heatmap helps in better understanding."
      ]
    },
    {
      "cell_type": "code",
      "execution_count": 44,
      "metadata": {
        "id": "miMAObtJoMYK",
        "colab": {
          "base_uri": "https://localhost:8080/",
          "height": 706
        },
        "outputId": "a76fd0c4-1ee9-436e-c352-9533ccb8e134"
      },
      "outputs": [
        {
          "output_type": "execute_result",
          "data": {
            "text/plain": [
              "<matplotlib.axes._subplots.AxesSubplot at 0x7f7c4032bb90>"
            ]
          },
          "metadata": {},
          "execution_count": 44
        },
        {
          "output_type": "display_data",
          "data": {
            "image/png": "[encoded data removed]",
            "text/plain": [
              "<Figure size 1152x864 with 2 Axes>"
            ]
          },
          "metadata": {
            "needs_background": "light"
          }
        }
      ],
      "source": [
        "plt.figure(figsize=(16,12))\n",
        "sns.heatmap(data.corr(),cmap='bwr',annot=True)"
      ]
    },
    {
      "cell_type": "markdown",
      "metadata": {
        "id": "TfwDf2ABp-H1"
      },
      "source": [
        "**Observation:**\n",
        "\n",
        "There is a relatively high positive correlation between INT_SQFT,N_BEDROOM',N_BATHROOM,N_ROOM\n",
        "\n",
        "There is a relatively high positive correlation between QS_ROOMS,QS_BATHROOM,QS_BEDROOM, 'QS_OVERALL\n",
        "\n",
        "SALES_PRICE has highest positive correlation with MZZON,N_ROOM and INT_SQFT\n",
        "\n",
        "SALES_PRICE has negetive correlation with BUILDTYPE\n"
      ]
    },
    {
      "cell_type": "markdown",
      "source": [
        "**MODELLING**"
      ],
      "metadata": {
        "id": "e0WiiDXHiad2"
      }
    },
    {
      "cell_type": "code",
      "source": [
        "#Setting up the target and the dependent features \n",
        "X = data.drop(['SALES_PRICE'],axis=1)\n",
        "y = data.SALES_PRICE"
      ],
      "metadata": {
        "id": "6cXFQkIYltNo"
      },
      "execution_count": 45,
      "outputs": []
    },
    {
      "cell_type": "code",
      "source": [
        "#creating dataset split for prediction \n",
        "from sklearn.model_selection import train_test_split\n",
        "X_train,X_test,y_train,y_test = train_test_split(X,y,random_state = 0,test_size=0.3)"
      ],
      "metadata": {
        "id": "bQEuoQrQlAPX"
      },
      "execution_count": 46,
      "outputs": []
    },
    {
      "cell_type": "markdown",
      "source": [
        "**Linear reggression**"
      ],
      "metadata": {
        "id": "4Pb0uKE1ivoc"
      }
    },
    {
      "cell_type": "code",
      "source": [
        "from sklearn.linear_model import LinearRegression #importing all the required functions\n",
        "regressor = LinearRegression() #initialise my Linear Regression predictedScore = m * Hours + c\n",
        "regressor.fit(X_train, y_train) "
      ],
      "metadata": {
        "colab": {
          "base_uri": "https://localhost:8080/"
        },
        "id": "4fduCQvEl47A",
        "outputId": "1bf12612-8e1a-46b9-beea-3525ae5fe080"
      },
      "execution_count": 47,
      "outputs": [
        {
          "output_type": "execute_result",
          "data": {
            "text/plain": [
              "LinearRegression()"
            ]
          },
          "metadata": {},
          "execution_count": 47
        }
      ]
    },
    {
      "cell_type": "code",
      "source": [
        "y_pred = regressor.predict(X_test)"
      ],
      "metadata": {
        "id": "arB9VT0Wmi4Z"
      },
      "execution_count": 48,
      "outputs": []
    },
    {
      "cell_type": "code",
      "source": [
        "from sklearn import metrics \n",
        "#Import scikit-learn metrics module for accuracy calculation\n",
        "#from sklearn.metrics import accuracy_score \n",
        "print('Mean Absolute Error:', metrics.mean_absolute_error(y_test, y_pred))\n",
        "print('Mean Squared Error:', metrics.mean_squared_error(y_test, y_pred))\n",
        "\n",
        "linear_reg_R2_score = round(metrics.r2_score(y_test,y_pred)* 100,2)\n",
        "print(linear_reg_R2_score)"
      ],
      "metadata": {
        "colab": {
          "base_uri": "https://localhost:8080/"
        },
        "id": "Kqc676ZHmqhq",
        "outputId": "5c364d7d-7ec2-4aa9-db62-00e687e9b087"
      },
      "execution_count": 49,
      "outputs": [
        {
          "output_type": "stream",
          "name": "stdout",
          "text": [
            "Mean Absolute Error: 1020640.4280233289\n",
            "Mean Squared Error: 1631757201472.265\n",
            "87.93\n"
          ]
        }
      ]
    },
    {
      "cell_type": "markdown",
      "source": [
        "**DECISION TREE REGGRESSOR**"
      ],
      "metadata": {
        "id": "IBo2XhXdi1d6"
      }
    },
    {
      "cell_type": "code",
      "source": [
        "# import the regressor\n",
        "from sklearn.tree import DecisionTreeRegressor \n",
        "  \n",
        "# create a regressor object\n",
        "regressor = DecisionTreeRegressor(random_state = 0) \n",
        "  \n",
        "# fit the regressor with X and Y data\n",
        "regressor.fit(X_train, y_train)"
      ],
      "metadata": {
        "colab": {
          "base_uri": "https://localhost:8080/"
        },
        "id": "dMUjwUuOp8UO",
        "outputId": "bedfd053-2eeb-4171-ac3d-25563898cd9e"
      },
      "execution_count": 50,
      "outputs": [
        {
          "output_type": "execute_result",
          "data": {
            "text/plain": [
              "DecisionTreeRegressor(random_state=0)"
            ]
          },
          "metadata": {},
          "execution_count": 50
        }
      ]
    },
    {
      "cell_type": "code",
      "source": [
        "# predicting a new value\n",
        "  \n",
        "# test the output by changing values, like 3750\n",
        "y_pred = regressor.predict(X_test)\n",
        "# print the predicted price\n",
        "data2 = pd.DataFrame({'Actual': y_test, 'Predicted': y_pred})"
      ],
      "metadata": {
        "id": "aZ8offMqqDLb"
      },
      "execution_count": 59,
      "outputs": []
    },
    {
      "cell_type": "code",
      "source": [
        "print('Mean Absolute Error:', metrics.mean_absolute_error(y_test, y_pred))\n",
        "print('Mean Squared Error:', metrics.mean_squared_error(y_test, y_pred))\n",
        "decision_tree_R2_score = round(metrics.r2_score(y_test,y_pred)*100,2)\n",
        "print(decision_tree_R2_score)"
      ],
      "metadata": {
        "colab": {
          "base_uri": "https://localhost:8080/"
        },
        "id": "8fjJl1i0vwUv",
        "outputId": "37cbadc8-1353-4e49-8f06-1ae9893b2d06"
      },
      "execution_count": 52,
      "outputs": [
        {
          "output_type": "stream",
          "name": "stdout",
          "text": [
            "Mean Absolute Error: 555805.0703234881\n",
            "Mean Squared Error: 516841122995.08905\n",
            "96.18\n"
          ]
        }
      ]
    },
    {
      "cell_type": "code",
      "source": [
        "import xgboost as xg\n",
        "# Instantiation\n",
        "xgb_r = xg.XGBRegressor()\n",
        "# Fitting the model\n",
        "xgb_r.fit(X_train, y_train)\n",
        "# Predict the model\n",
        "y_pred = xgb_r.predict(X_test)\n",
        "\n",
        "from sklearn.metrics import mean_squared_error as MSE\n",
        "  \n",
        "# RMSE Computation\n",
        "rmse = np.sqrt(MSE(y_test, y_pred))\n",
        "print(\"RMSE : % f\" %(rmse))\n",
        "XGB_Reggressor_R2_score = round(metrics.r2_score(y_test,y_pred)*100,2)\n",
        "print(XGB_Reggressor_R2_score)"
      ],
      "metadata": {
        "id": "ViPttL_0wTpC",
        "colab": {
          "base_uri": "https://localhost:8080/"
        },
        "outputId": "6d7eee70-bf16-471d-b477-9ad79c7736f3"
      },
      "execution_count": 53,
      "outputs": [
        {
          "output_type": "stream",
          "name": "stdout",
          "text": [
            "[17:08:48] WARNING: /workspace/src/objective/regression_obj.cu:152: reg:linear is now deprecated in favor of reg:squarederror.\n",
            "RMSE :  335846.141229\n",
            "99.17\n"
          ]
        }
      ]
    },
    {
      "cell_type": "code",
      "source": [
        "# Fitting Random Forest Regression to the dataset\n",
        "# import the regressor\n",
        "from sklearn.ensemble import RandomForestRegressor\n",
        " \n",
        "# create regressor object\n",
        "regressor = RandomForestRegressor(n_estimators = 100, random_state = 0)\n",
        " \n",
        "# fit the regressor with x and y data\n",
        "regressor.fit(X_train, y_train) \n",
        "y_pred = regressor.predict(X_test)\n",
        "# Check R2 score \n",
        "random_forest_Reggressor_R2_score = round(metrics.r2_score(y_test,y_pred)*100,2)\n",
        "print(random_forest_Reggressor_R2_score)"
      ],
      "metadata": {
        "colab": {
          "base_uri": "https://localhost:8080/"
        },
        "id": "SYXvK8m5EnVm",
        "outputId": "99c4f876-8b4b-4ef9-eba3-4c0a3a6f3d23"
      },
      "execution_count": 54,
      "outputs": [
        {
          "output_type": "stream",
          "name": "stdout",
          "text": [
            "98.43\n"
          ]
        }
      ]
    },
    {
      "cell_type": "code",
      "source": [
        "# Fitting Gradient Boosting Regression to the dataset\n",
        "# import the regressor\n",
        "from sklearn.ensemble import GradientBoostingRegressor\n",
        "grad_reggressor = GradientBoostingRegressor(n_estimators=100,max_depth=3, random_state=0)\n",
        "grad_reggressor.fit(X_train, y_train) \n",
        "\n",
        "y_pred = grad_reggressor.predict(X_test)\n",
        "# Check accuracy score \n",
        "GradientB_Reggressor_R2_score = round(metrics.r2_score(y_test,y_pred)*100,2)\n",
        "print(GradientB_Reggressor_R2_score)"
      ],
      "metadata": {
        "colab": {
          "base_uri": "https://localhost:8080/"
        },
        "id": "rPgtL4OoG3W9",
        "outputId": "a1c139ac-74d7-44b2-de30-0445bb2d8aea"
      },
      "execution_count": 55,
      "outputs": [
        {
          "output_type": "stream",
          "name": "stdout",
          "text": [
            "99.19\n"
          ]
        }
      ]
    },
    {
      "cell_type": "markdown",
      "source": [
        "**Visualizing all the models R2_score**"
      ],
      "metadata": {
        "id": "ol1sL9-4kkRn"
      }
    },
    {
      "cell_type": "code",
      "source": [
        "# visualizing accuracies for all ML Algorithms using Matplotlib\n",
        "predictors_group = ('linear Reggresion', 'decision tree', 'XGB_Reggressor','random_forest','GradientBoost')\n",
        "x_pos = np.arange(len(predictors_group))\n",
        "accuracies1 = [linear_reg_R2_score, decision_tree_R2_score, XGB_Reggressor_R2_score,random_forest_Reggressor_R2_score,GradientB_Reggressor_R2_score]\n",
        "    \n",
        "plt.bar(x_pos, accuracies1, align='center', alpha=0.5, color='purple')\n",
        "plt.xticks(x_pos, predictors_group, rotation='vertical')\n",
        "plt.ylabel('R2_Score (%)')\n",
        "plt.title('Reggressor R2_score')\n",
        "plt.show()"
      ],
      "metadata": {
        "id": "tBCah3q9MUjy",
        "colab": {
          "base_uri": "https://localhost:8080/",
          "height": 359
        },
        "outputId": "428a3047-b968-47e5-c22f-2f3f34bd1407"
      },
      "execution_count": 56,
      "outputs": [
        {
          "output_type": "display_data",
          "data": {
            "image/png": "[encoded data removed]",
            "text/plain": [
              "<Figure size 432x288 with 1 Axes>"
            ]
          },
          "metadata": {
            "needs_background": "light"
          }
        }
      ]
    },
    {
      "cell_type": "markdown",
      "source": [
        "**Observation:**\n",
        "\n",
        "XGB_reggressor and Gradient boosting reggressor are giving almost equal R2 score just varies in points\n"
      ],
      "metadata": {
        "id": "CtWYU0Z-k0Dj"
      }
    },
    {
      "cell_type": "code",
      "source": [
        "from sklearn.tree import DecisionTreeRegressor \n",
        "from sklearn.ensemble import RandomForestRegressor\n",
        "from xgboost import XGBRegressor\n",
        "from sklearn.linear_model import LinearRegression\n",
        "from sklearn.ensemble import GradientBoostingRegressor\n",
        "# creating list of tuple wth model and its name  \n",
        "models = []\n",
        "models.append(('LR',LinearRegression()))\n",
        "models.append(('DT',DecisionTreeRegressor()))\n",
        "models.append(('XGB',XGBRegressor()))\n",
        "models.append(('RF',RandomForestRegressor()))\n",
        "models.append(('GDB',GradientBoostingRegressor()))\n",
        "\n",
        "# Import Cross Validation \n",
        "from sklearn.model_selection import cross_val_score\n",
        "\n",
        "# simulate splitting a dataset of 1000 observations into 5 folds\n",
        "from sklearn.model_selection import KFold\n",
        "kf = KFold(n_splits=5, random_state=42, shuffle=True)\n",
        "kf.get_n_splits(X)\n",
        "# print(kf)\n",
        "\n",
        "acc = []   # All Algorithm/model accuracies\n",
        "names = []    # All model name\n",
        "\n",
        "for name, model in models:\n",
        "    \n",
        "    acc_of_model = cross_val_score(model, X_train, y_train, cv=kf, scoring='r2') # kFolds =5 without shuffling\n",
        "    \n",
        "    acc.append(acc_of_model) # appending Accuray of different model to acc List\n",
        "    \n",
        "    names.append(name)# appending name of models\n",
        "    Acc =name,round(acc_of_model.mean()*100,2) # printing Output \n",
        "    print(Acc)"
      ],
      "metadata": {
        "colab": {
          "base_uri": "https://localhost:8080/"
        },
        "id": "vSpkAjzuzCxQ",
        "outputId": "7efa0072-ff2d-4849-a611-6dfb2caaee9c"
      },
      "execution_count": 60,
      "outputs": [
        {
          "output_type": "stream",
          "name": "stdout",
          "text": [
            "('LR', 88.22)\n",
            "('DT', 95.94)\n",
            "[17:15:54] WARNING: /workspace/src/objective/regression_obj.cu:152: reg:linear is now deprecated in favor of reg:squarederror.\n",
            "[17:15:55] WARNING: /workspace/src/objective/regression_obj.cu:152: reg:linear is now deprecated in favor of reg:squarederror.\n",
            "[17:15:55] WARNING: /workspace/src/objective/regression_obj.cu:152: reg:linear is now deprecated in favor of reg:squarederror.\n",
            "[17:15:56] WARNING: /workspace/src/objective/regression_obj.cu:152: reg:linear is now deprecated in favor of reg:squarederror.\n",
            "[17:15:56] WARNING: /workspace/src/objective/regression_obj.cu:152: reg:linear is now deprecated in favor of reg:squarederror.\n",
            "('XGB', 99.05)\n",
            "('RF', 98.25)\n",
            "('GDB', 99.09)\n"
          ]
        }
      ]
    },
    {
      "cell_type": "code",
      "source": [
        "# Plotting all accuracies together for comparison\n",
        "\n",
        "labels = ['Linear Regression','Decision Tree','XGBoost','Random Forest','Gradient decent']\n",
        "\n",
        "NoCV =[87.93,96.18,99.17,98.43,99.19] # accuracy before Cross Validation\n",
        "CV=[88.22,95.94,99.05,98.25,99.09] # accuracy after Cross Validation\n",
        "\n",
        "x = np.arange(len(labels))  # the label locations\n",
        "width = 0.25  # the width of the bars\n",
        "\n",
        "f, ax = plt.subplots(figsize=(8,6)) \n",
        "p1 = ax.bar(x - width/2, CV, width, label='After Cross Validation', color='purple')\n",
        "p2 = ax.bar(x + width/2, NoCV, width, label='Before Cross Validation', color='m')\n",
        "\n",
        "# Add some text for labels and title \n",
        "ax.set_ylabel('R2_Score')\n",
        "ax.set_title('R2_Score comparison')\n",
        "ax.set_xticks(x)\n",
        "plt.xticks()\n",
        "ax.set_xticklabels(labels)\n",
        "ax.legend(loc='top right')\n",
        "plt.show()"
      ],
      "metadata": {
        "colab": {
          "base_uri": "https://localhost:8080/",
          "height": 647
        },
        "id": "QDqJ_BKe1EOK",
        "outputId": "eea67e87-1557-4e6f-b15e-0019dbc17428"
      },
      "execution_count": 61,
      "outputs": [
        {
          "output_type": "stream",
          "name": "stderr",
          "text": [
            "/usr/local/lib/python3.7/dist-packages/ipykernel_launcher.py:21: MatplotlibDeprecationWarning: Unrecognized location 'top right'. Falling back on 'best'; valid locations are\n",
            "\tbest\n",
            "\tupper right\n",
            "\tupper left\n",
            "\tlower left\n",
            "\tlower right\n",
            "\tright\n",
            "\tcenter left\n",
            "\tcenter right\n",
            "\tlower center\n",
            "\tupper center\n",
            "\tcenter\n",
            "This will raise an exception in 3.3.\n"
          ]
        },
        {
          "output_type": "display_data",
          "data": {
            "image/png": "[encoded data removed]",
            "text/plain": [
              "<Figure size 576x432 with 1 Axes>"
            ]
          },
          "metadata": {
            "needs_background": "light"
          }
        }
      ]
    },
    {
      "cell_type": "markdown",
      "source": [
        "**Observations**\n",
        "\n",
        "There are not much variation in the results of models befor cross validation and after cross validation.\n",
        "\n",
        "The best models for the sales price prediction is XGBoost and the GradentBoosting models"
      ],
      "metadata": {
        "id": "4wFg3XbhmDLT"
      }
    }
  ],
  "metadata": {
    "colab": {
      "collapsed_sections": [],
      "name": "Chennai_house_price_prediction_project.ipynb",
      "provenance": []
    },
    "kernelspec": {
      "display_name": "Python 3",
      "name": "python3"
    },
    "language_info": {
      "name": "python"
    }
  },
  "nbformat": 4,
  "nbformat_minor": 0
}