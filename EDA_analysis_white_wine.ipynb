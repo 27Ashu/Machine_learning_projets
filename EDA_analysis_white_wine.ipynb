{
  "nbformat": 4,
  "nbformat_minor": 0,
  "metadata": {
    "colab": {
      "name": "EDA_analysis_white_wine.ipynb",
      "provenance": [],
      "collapsed_sections": []
    },
    "kernelspec": {
      "name": "python3",
      "display_name": "Python 3"
    },
    "language_info": {
      "name": "python"
    }
  },
  "cells": [
    {
      "cell_type": "markdown",
      "metadata": {
        "id": "luHkicuYpU2p"
      },
      "source": [
        "In this module we are performing EDA analysis on White wine data\n"
      ]
    },
    {
      "cell_type": "code",
      "metadata": {
        "id": "ULX6nTCUpjSi"
      },
      "source": [
        "#Importing the required libraries\n",
        "import pandas as pd\n",
        "import numpy as np\n",
        "import warnings#ignore warnings\n",
        "warnings.filterwarnings('ignore')"
      ],
      "execution_count": 1,
      "outputs": []
    },
    {
      "cell_type": "markdown",
      "metadata": {
        "id": "19W01qjAqZcq"
      },
      "source": [
        "Read the white wine data"
      ]
    },
    {
      "cell_type": "code",
      "metadata": {
        "id": "ZpPrCnNDqTPf"
      },
      "source": [
        "white_wine_data = pd.read_csv(\"https://raw.githubusercontent.com/btkhimsar/DataSets/master/winequality-white.csv\",sep=\";\")"
      ],
      "execution_count": 2,
      "outputs": []
    },
    {
      "cell_type": "markdown",
      "metadata": {
        "id": "gWGS8Z-iq3ap"
      },
      "source": [
        "1.Head\n",
        "To take a closer look at the data, we take the help of “ .head()” function of pandas library which returns the first five observations of the data set. Similarly, “.tail()” returns last five observations of the data set."
      ]
    },
    {
      "cell_type": "code",
      "metadata": {
        "colab": {
          "base_uri": "https://localhost:8080/",
          "height": 206
        },
        "id": "8gc2ZPy7rH8H",
        "outputId": "53531e3d-ff43-4b06-adc7-51bd0fed7cb1"
      },
      "source": [
        "white_wine_data.head()"
      ],
      "execution_count": 3,
      "outputs": [
        {
          "output_type": "execute_result",
          "data": {
            "text/html": [
              "<div>\n",
              "<style scoped>\n",
              "    .dataframe tbody tr th:only-of-type {\n",
              "        vertical-align: middle;\n",
              "    }\n",
              "\n",
              "    .dataframe tbody tr th {\n",
              "        vertical-align: top;\n",
              "    }\n",
              "\n",
              "    .dataframe thead th {\n",
              "        text-align: right;\n",
              "    }\n",
              "</style>\n",
              "<table border=\"1\" class=\"dataframe\">\n",
              "  <thead>\n",
              "    <tr style=\"text-align: right;\">\n",
              "      <th></th>\n",
              "      <th>fixed acidity</th>\n",
              "      <th>volatile acidity</th>\n",
              "      <th>citric acid</th>\n",
              "      <th>residual sugar</th>\n",
              "      <th>chlorides</th>\n",
              "      <th>free sulfur dioxide</th>\n",
              "      <th>total sulfur dioxide</th>\n",
              "      <th>density</th>\n",
              "      <th>pH</th>\n",
              "      <th>sulphates</th>\n",
              "      <th>alcohol</th>\n",
              "      <th>quality</th>\n",
              "    </tr>\n",
              "  </thead>\n",
              "  <tbody>\n",
              "    <tr>\n",
              "      <th>0</th>\n",
              "      <td>7.0</td>\n",
              "      <td>0.27</td>\n",
              "      <td>0.36</td>\n",
              "      <td>20.7</td>\n",
              "      <td>0.045</td>\n",
              "      <td>45.0</td>\n",
              "      <td>170.0</td>\n",
              "      <td>1.0010</td>\n",
              "      <td>3.00</td>\n",
              "      <td>0.45</td>\n",
              "      <td>8.8</td>\n",
              "      <td>6</td>\n",
              "    </tr>\n",
              "    <tr>\n",
              "      <th>1</th>\n",
              "      <td>6.3</td>\n",
              "      <td>0.30</td>\n",
              "      <td>0.34</td>\n",
              "      <td>1.6</td>\n",
              "      <td>0.049</td>\n",
              "      <td>14.0</td>\n",
              "      <td>132.0</td>\n",
              "      <td>0.9940</td>\n",
              "      <td>3.30</td>\n",
              "      <td>0.49</td>\n",
              "      <td>9.5</td>\n",
              "      <td>6</td>\n",
              "    </tr>\n",
              "    <tr>\n",
              "      <th>2</th>\n",
              "      <td>8.1</td>\n",
              "      <td>0.28</td>\n",
              "      <td>0.40</td>\n",
              "      <td>6.9</td>\n",
              "      <td>0.050</td>\n",
              "      <td>30.0</td>\n",
              "      <td>97.0</td>\n",
              "      <td>0.9951</td>\n",
              "      <td>3.26</td>\n",
              "      <td>0.44</td>\n",
              "      <td>10.1</td>\n",
              "      <td>6</td>\n",
              "    </tr>\n",
              "    <tr>\n",
              "      <th>3</th>\n",
              "      <td>7.2</td>\n",
              "      <td>0.23</td>\n",
              "      <td>0.32</td>\n",
              "      <td>8.5</td>\n",
              "      <td>0.058</td>\n",
              "      <td>47.0</td>\n",
              "      <td>186.0</td>\n",
              "      <td>0.9956</td>\n",
              "      <td>3.19</td>\n",
              "      <td>0.40</td>\n",
              "      <td>9.9</td>\n",
              "      <td>6</td>\n",
              "    </tr>\n",
              "    <tr>\n",
              "      <th>4</th>\n",
              "      <td>7.2</td>\n",
              "      <td>0.23</td>\n",
              "      <td>0.32</td>\n",
              "      <td>8.5</td>\n",
              "      <td>0.058</td>\n",
              "      <td>47.0</td>\n",
              "      <td>186.0</td>\n",
              "      <td>0.9956</td>\n",
              "      <td>3.19</td>\n",
              "      <td>0.40</td>\n",
              "      <td>9.9</td>\n",
              "      <td>6</td>\n",
              "    </tr>\n",
              "  </tbody>\n",
              "</table>\n",
              "</div>"
            ],
            "text/plain": [
              "   fixed acidity  volatile acidity  citric acid  ...  sulphates  alcohol  quality\n",
              "0            7.0              0.27         0.36  ...       0.45      8.8        6\n",
              "1            6.3              0.30         0.34  ...       0.49      9.5        6\n",
              "2            8.1              0.28         0.40  ...       0.44     10.1        6\n",
              "3            7.2              0.23         0.32  ...       0.40      9.9        6\n",
              "4            7.2              0.23         0.32  ...       0.40      9.9        6\n",
              "\n",
              "[5 rows x 12 columns]"
            ]
          },
          "metadata": {},
          "execution_count": 3
        }
      ]
    },
    {
      "cell_type": "markdown",
      "metadata": {
        "id": "HvsWCIV_rpTF"
      },
      "source": [
        "**2**. Shape Find out the total number of rows and columns in the dataset using “.shape”."
      ]
    },
    {
      "cell_type": "code",
      "metadata": {
        "colab": {
          "base_uri": "https://localhost:8080/"
        },
        "id": "rXzl7Uurry1w",
        "outputId": "685b7d2d-7d14-4851-bc5c-53a4b3a42411"
      },
      "source": [
        "white_wine_data.shape"
      ],
      "execution_count": 4,
      "outputs": [
        {
          "output_type": "execute_result",
          "data": {
            "text/plain": [
              "(4898, 12)"
            ]
          },
          "metadata": {},
          "execution_count": 4
        }
      ]
    },
    {
      "cell_type": "markdown",
      "metadata": {
        "id": "j3EyaLbPsUXm"
      },
      "source": [
        "**Observations**\n",
        "*   Dataset comprises of 4898(observations)rows and 12 features(coloumns).\n",
        "*   Out of 12, 1 variable is target variable and rest 11 are input variables.\n",
        "\n"
      ]
    },
    {
      "cell_type": "markdown",
      "metadata": {
        "id": "CZXZx4c8s_ui"
      },
      "source": [
        "**3**.Get the statistical overview of the data using Describe function of pandas library.This returs the mean,count,standard deviation,min,max and quantile details of the data."
      ]
    },
    {
      "cell_type": "code",
      "metadata": {
        "colab": {
          "base_uri": "https://localhost:8080/",
          "height": 318
        },
        "id": "eazd01WKtlKm",
        "outputId": "80d17b08-5222-44c8-9b33-813844893b64"
      },
      "source": [
        "white_wine_data.describe()"
      ],
      "execution_count": 5,
      "outputs": [
        {
          "output_type": "execute_result",
          "data": {
            "text/html": [
              "<div>\n",
              "<style scoped>\n",
              "    .dataframe tbody tr th:only-of-type {\n",
              "        vertical-align: middle;\n",
              "    }\n",
              "\n",
              "    .dataframe tbody tr th {\n",
              "        vertical-align: top;\n",
              "    }\n",
              "\n",
              "    .dataframe thead th {\n",
              "        text-align: right;\n",
              "    }\n",
              "</style>\n",
              "<table border=\"1\" class=\"dataframe\">\n",
              "  <thead>\n",
              "    <tr style=\"text-align: right;\">\n",
              "      <th></th>\n",
              "      <th>fixed acidity</th>\n",
              "      <th>volatile acidity</th>\n",
              "      <th>citric acid</th>\n",
              "      <th>residual sugar</th>\n",
              "      <th>chlorides</th>\n",
              "      <th>free sulfur dioxide</th>\n",
              "      <th>total sulfur dioxide</th>\n",
              "      <th>density</th>\n",
              "      <th>pH</th>\n",
              "      <th>sulphates</th>\n",
              "      <th>alcohol</th>\n",
              "      <th>quality</th>\n",
              "    </tr>\n",
              "  </thead>\n",
              "  <tbody>\n",
              "    <tr>\n",
              "      <th>count</th>\n",
              "      <td>4898.000000</td>\n",
              "      <td>4898.000000</td>\n",
              "      <td>4898.000000</td>\n",
              "      <td>4898.000000</td>\n",
              "      <td>4898.000000</td>\n",
              "      <td>4898.000000</td>\n",
              "      <td>4898.000000</td>\n",
              "      <td>4898.000000</td>\n",
              "      <td>4898.000000</td>\n",
              "      <td>4898.000000</td>\n",
              "      <td>4898.000000</td>\n",
              "      <td>4898.000000</td>\n",
              "    </tr>\n",
              "    <tr>\n",
              "      <th>mean</th>\n",
              "      <td>6.854788</td>\n",
              "      <td>0.278241</td>\n",
              "      <td>0.334192</td>\n",
              "      <td>6.391415</td>\n",
              "      <td>0.045772</td>\n",
              "      <td>35.308085</td>\n",
              "      <td>138.360657</td>\n",
              "      <td>0.994027</td>\n",
              "      <td>3.188267</td>\n",
              "      <td>0.489847</td>\n",
              "      <td>10.514267</td>\n",
              "      <td>5.877909</td>\n",
              "    </tr>\n",
              "    <tr>\n",
              "      <th>std</th>\n",
              "      <td>0.843868</td>\n",
              "      <td>0.100795</td>\n",
              "      <td>0.121020</td>\n",
              "      <td>5.072058</td>\n",
              "      <td>0.021848</td>\n",
              "      <td>17.007137</td>\n",
              "      <td>42.498065</td>\n",
              "      <td>0.002991</td>\n",
              "      <td>0.151001</td>\n",
              "      <td>0.114126</td>\n",
              "      <td>1.230621</td>\n",
              "      <td>0.885639</td>\n",
              "    </tr>\n",
              "    <tr>\n",
              "      <th>min</th>\n",
              "      <td>3.800000</td>\n",
              "      <td>0.080000</td>\n",
              "      <td>0.000000</td>\n",
              "      <td>0.600000</td>\n",
              "      <td>0.009000</td>\n",
              "      <td>2.000000</td>\n",
              "      <td>9.000000</td>\n",
              "      <td>0.987110</td>\n",
              "      <td>2.720000</td>\n",
              "      <td>0.220000</td>\n",
              "      <td>8.000000</td>\n",
              "      <td>3.000000</td>\n",
              "    </tr>\n",
              "    <tr>\n",
              "      <th>25%</th>\n",
              "      <td>6.300000</td>\n",
              "      <td>0.210000</td>\n",
              "      <td>0.270000</td>\n",
              "      <td>1.700000</td>\n",
              "      <td>0.036000</td>\n",
              "      <td>23.000000</td>\n",
              "      <td>108.000000</td>\n",
              "      <td>0.991723</td>\n",
              "      <td>3.090000</td>\n",
              "      <td>0.410000</td>\n",
              "      <td>9.500000</td>\n",
              "      <td>5.000000</td>\n",
              "    </tr>\n",
              "    <tr>\n",
              "      <th>50%</th>\n",
              "      <td>6.800000</td>\n",
              "      <td>0.260000</td>\n",
              "      <td>0.320000</td>\n",
              "      <td>5.200000</td>\n",
              "      <td>0.043000</td>\n",
              "      <td>34.000000</td>\n",
              "      <td>134.000000</td>\n",
              "      <td>0.993740</td>\n",
              "      <td>3.180000</td>\n",
              "      <td>0.470000</td>\n",
              "      <td>10.400000</td>\n",
              "      <td>6.000000</td>\n",
              "    </tr>\n",
              "    <tr>\n",
              "      <th>75%</th>\n",
              "      <td>7.300000</td>\n",
              "      <td>0.320000</td>\n",
              "      <td>0.390000</td>\n",
              "      <td>9.900000</td>\n",
              "      <td>0.050000</td>\n",
              "      <td>46.000000</td>\n",
              "      <td>167.000000</td>\n",
              "      <td>0.996100</td>\n",
              "      <td>3.280000</td>\n",
              "      <td>0.550000</td>\n",
              "      <td>11.400000</td>\n",
              "      <td>6.000000</td>\n",
              "    </tr>\n",
              "    <tr>\n",
              "      <th>max</th>\n",
              "      <td>14.200000</td>\n",
              "      <td>1.100000</td>\n",
              "      <td>1.660000</td>\n",
              "      <td>65.800000</td>\n",
              "      <td>0.346000</td>\n",
              "      <td>289.000000</td>\n",
              "      <td>440.000000</td>\n",
              "      <td>1.038980</td>\n",
              "      <td>3.820000</td>\n",
              "      <td>1.080000</td>\n",
              "      <td>14.200000</td>\n",
              "      <td>9.000000</td>\n",
              "    </tr>\n",
              "  </tbody>\n",
              "</table>\n",
              "</div>"
            ],
            "text/plain": [
              "       fixed acidity  volatile acidity  ...      alcohol      quality\n",
              "count    4898.000000       4898.000000  ...  4898.000000  4898.000000\n",
              "mean        6.854788          0.278241  ...    10.514267     5.877909\n",
              "std         0.843868          0.100795  ...     1.230621     0.885639\n",
              "min         3.800000          0.080000  ...     8.000000     3.000000\n",
              "25%         6.300000          0.210000  ...     9.500000     5.000000\n",
              "50%         6.800000          0.260000  ...    10.400000     6.000000\n",
              "75%         7.300000          0.320000  ...    11.400000     6.000000\n",
              "max        14.200000          1.100000  ...    14.200000     9.000000\n",
              "\n",
              "[8 rows x 12 columns]"
            ]
          },
          "metadata": {},
          "execution_count": 5
        }
      ]
    },
    {
      "cell_type": "markdown",
      "metadata": {
        "id": "YH5dUKcIt4hq"
      },
      "source": [
        "Lets explore the different statistical measures that we got from describe\n",
        "Note: 25%, 50%, and 75% are nothing but corresponding percentile values\n",
        "\n",
        "*   count: total count of non-null values in the column\n",
        "*   mean: the average of all the values in that column\n",
        "*   min: the minimum value in the column\n",
        "*   max: the maximum value in the column\n",
        "*   25%: first quartile in the column after we arrange those values in ascending order\n",
        "*   50%: this is the median or the second quartile\n",
        "*   75%: the third quartile\n",
        "*   std: this is the standard deviation (i.e. measure of depreciation, you must have read in the basics of statistics study material) \n",
        "\n",
        "\n",
        "\n",
        "\n",
        "\n",
        "\n",
        "\n",
        "\n",
        "\n"
      ]
    },
    {
      "cell_type": "markdown",
      "metadata": {
        "id": "8O90bDJn6IJf"
      },
      "source": [
        "**Observations:**"
      ]
    },
    {
      "cell_type": "markdown",
      "metadata": {
        "id": "5Sfmg2Qi6Kh3"
      },
      "source": [
        "* There is notably a large difference between 75th %tile and max values of predictors “residual sugar”, ” free sulfur dioxide”, ” total sulfur dioxide”. This indicates that some values of these 3 variables lie much farther from the general range of values( up to 75th %tile) \n",
        "* Thus, the observation suggest that there are extreme values i.e Outliers in our dataset. "
      ]
    },
    {
      "cell_type": "markdown",
      "metadata": {
        "id": "i75iSL0R9kdj"
      },
      "source": [
        "Exploring the Features/variables\n",
        "All the column names in the Dataset is variables"
      ]
    },
    {
      "cell_type": "code",
      "metadata": {
        "colab": {
          "base_uri": "https://localhost:8080/"
        },
        "id": "3ov3NPgu-L4o",
        "outputId": "9c767c60-ca78-4135-a6de-47cadd468c9d"
      },
      "source": [
        "white_wine_data.columns"
      ],
      "execution_count": 6,
      "outputs": [
        {
          "output_type": "execute_result",
          "data": {
            "text/plain": [
              "Index(['fixed acidity', 'volatile acidity', 'citric acid', 'residual sugar',\n",
              "       'chlorides', 'free sulfur dioxide', 'total sulfur dioxide', 'density',\n",
              "       'pH', 'sulphates', 'alcohol', 'quality'],\n",
              "      dtype='object')"
            ]
          },
          "metadata": {},
          "execution_count": 6
        }
      ]
    },
    {
      "cell_type": "markdown",
      "metadata": {
        "id": "OYD63YRs-mWT"
      },
      "source": [
        "**Target Variable**\n",
        "*   The target variable of the dataset is the feature of the dataset.It is the variable that is,or should be the output\n",
        "*   Here **quality** is the target variable as we're trying to know which of the two types of wines have better quality.\n",
        "\n"
      ]
    },
    {
      "cell_type": "markdown",
      "metadata": {
        "id": "oZym01MJ_tZa"
      },
      "source": [
        "**Input Variable**\n",
        "*   One or more variables that are used to determine (or predict) the 'Target Variable' are known as Input Variables. They are sometimes called Predictor Variable as well.\n",
        "*   In our example, the input variables are: 'fixed acidity', 'volatile acidity', 'citric acid', 'residual sugar', 'chlorides', 'free sulfur dioxide', 'total sulfur dioxide', 'density','pH', 'sulphates', and 'alcohol'\n",
        "*   All of these will help us predict the quality of the wine.\n",
        "\n",
        "\n",
        "\n"
      ]
    },
    {
      "cell_type": "markdown",
      "metadata": {
        "id": "5xgtozmkAz7M"
      },
      "source": [
        "Unique Values of Quality(Target Variable)"
      ]
    },
    {
      "cell_type": "code",
      "metadata": {
        "colab": {
          "base_uri": "https://localhost:8080/"
        },
        "id": "Zh9ONh_UyZtp",
        "outputId": "e4474c99-7c40-4080-a94a-72039fe3b6b1"
      },
      "source": [
        "white_wine_data['quality'].unique()#Display the unique values of quality column"
      ],
      "execution_count": 7,
      "outputs": [
        {
          "output_type": "execute_result",
          "data": {
            "text/plain": [
              "array([6, 5, 7, 8, 4, 3, 9])"
            ]
          },
          "metadata": {},
          "execution_count": 7
        }
      ]
    },
    {
      "cell_type": "code",
      "metadata": {
        "colab": {
          "base_uri": "https://localhost:8080/"
        },
        "id": "p53E303XBQOp",
        "outputId": "ea00de3c-47d1-4783-b984-dd314a4be289"
      },
      "source": [
        "white_wine_data['quality'].nunique()#Returns the number of unique values of the column quality"
      ],
      "execution_count": 8,
      "outputs": [
        {
          "output_type": "execute_result",
          "data": {
            "text/plain": [
              "7"
            ]
          },
          "metadata": {},
          "execution_count": 8
        }
      ]
    },
    {
      "cell_type": "markdown",
      "metadata": {
        "id": "RWxgPiE7BoEG"
      },
      "source": [
        "**Observations**\n",
        "*   Target/Dependent Variable is Discrete and categorical in nature\n",
        "*   'quality' score scale ranges from 1 to 10,1 is poor and 10 being the best.\n",
        "*   1,2 and 10 Quality ratings are not given by any observations.Only scores are given in the range of 3 to 9.\n",
        "\n",
        "\n",
        "\n"
      ]
    },
    {
      "cell_type": "markdown",
      "metadata": {
        "id": "Mm5JPo01DFXB"
      },
      "source": [
        "Frequency Counts of each 'quality' value\n"
      ]
    },
    {
      "cell_type": "code",
      "metadata": {
        "colab": {
          "base_uri": "https://localhost:8080/"
        },
        "id": "ex0igJ2-DRRy",
        "outputId": "de3cf923-5e4a-430d-a1c1-9b7d6c644c91"
      },
      "source": [
        "white_wine_data['quality'].value_counts()#counts the occurance of each value in the column"
      ],
      "execution_count": 9,
      "outputs": [
        {
          "output_type": "execute_result",
          "data": {
            "text/plain": [
              "6    2198\n",
              "5    1457\n",
              "7     880\n",
              "8     175\n",
              "4     163\n",
              "3      20\n",
              "9       5\n",
              "Name: quality, dtype: int64"
            ]
          },
          "metadata": {},
          "execution_count": 9
        }
      ]
    },
    {
      "cell_type": "markdown",
      "metadata": {
        "id": "1rOWF9JlECDG"
      },
      "source": [
        "**Observations**\n",
        "*   Most of the values lies in the categories of 6,5,7,8 and 4\n",
        "*   only few observations are made for the categorical range of 3 and 9\n",
        "\n"
      ]
    },
    {
      "cell_type": "markdown",
      "metadata": {
        "id": "HyS3bcjOEsvG"
      },
      "source": [
        "Renaming the Columns"
      ]
    },
    {
      "cell_type": "code",
      "metadata": {
        "colab": {
          "base_uri": "https://localhost:8080/",
          "height": 206
        },
        "id": "OxKp43IXE5iU",
        "outputId": "59094602-1d69-4e58-a211-a5aa90ed0909"
      },
      "source": [
        "white_wine_data.rename(columns= {'fixed acidity':'fixed_acidity', 'volatile acidity':'volatile_acidity', 'citric acid':'citric_acid', 'residual sugar':'residual_sugar',\n",
        "      'free sulfur dioxide':'free_sulfur_dioxide', 'total sulfur dioxide':'total_sulfur_dioxide',},inplace=True)\n",
        "white_wine_data.head()"
      ],
      "execution_count": 10,
      "outputs": [
        {
          "output_type": "execute_result",
          "data": {
            "text/html": [
              "<div>\n",
              "<style scoped>\n",
              "    .dataframe tbody tr th:only-of-type {\n",
              "        vertical-align: middle;\n",
              "    }\n",
              "\n",
              "    .dataframe tbody tr th {\n",
              "        vertical-align: top;\n",
              "    }\n",
              "\n",
              "    .dataframe thead th {\n",
              "        text-align: right;\n",
              "    }\n",
              "</style>\n",
              "<table border=\"1\" class=\"dataframe\">\n",
              "  <thead>\n",
              "    <tr style=\"text-align: right;\">\n",
              "      <th></th>\n",
              "      <th>fixed_acidity</th>\n",
              "      <th>volatile_acidity</th>\n",
              "      <th>citric_acid</th>\n",
              "      <th>residual_sugar</th>\n",
              "      <th>chlorides</th>\n",
              "      <th>free_sulfur_dioxide</th>\n",
              "      <th>total_sulfur_dioxide</th>\n",
              "      <th>density</th>\n",
              "      <th>pH</th>\n",
              "      <th>sulphates</th>\n",
              "      <th>alcohol</th>\n",
              "      <th>quality</th>\n",
              "    </tr>\n",
              "  </thead>\n",
              "  <tbody>\n",
              "    <tr>\n",
              "      <th>0</th>\n",
              "      <td>7.0</td>\n",
              "      <td>0.27</td>\n",
              "      <td>0.36</td>\n",
              "      <td>20.7</td>\n",
              "      <td>0.045</td>\n",
              "      <td>45.0</td>\n",
              "      <td>170.0</td>\n",
              "      <td>1.0010</td>\n",
              "      <td>3.00</td>\n",
              "      <td>0.45</td>\n",
              "      <td>8.8</td>\n",
              "      <td>6</td>\n",
              "    </tr>\n",
              "    <tr>\n",
              "      <th>1</th>\n",
              "      <td>6.3</td>\n",
              "      <td>0.30</td>\n",
              "      <td>0.34</td>\n",
              "      <td>1.6</td>\n",
              "      <td>0.049</td>\n",
              "      <td>14.0</td>\n",
              "      <td>132.0</td>\n",
              "      <td>0.9940</td>\n",
              "      <td>3.30</td>\n",
              "      <td>0.49</td>\n",
              "      <td>9.5</td>\n",
              "      <td>6</td>\n",
              "    </tr>\n",
              "    <tr>\n",
              "      <th>2</th>\n",
              "      <td>8.1</td>\n",
              "      <td>0.28</td>\n",
              "      <td>0.40</td>\n",
              "      <td>6.9</td>\n",
              "      <td>0.050</td>\n",
              "      <td>30.0</td>\n",
              "      <td>97.0</td>\n",
              "      <td>0.9951</td>\n",
              "      <td>3.26</td>\n",
              "      <td>0.44</td>\n",
              "      <td>10.1</td>\n",
              "      <td>6</td>\n",
              "    </tr>\n",
              "    <tr>\n",
              "      <th>3</th>\n",
              "      <td>7.2</td>\n",
              "      <td>0.23</td>\n",
              "      <td>0.32</td>\n",
              "      <td>8.5</td>\n",
              "      <td>0.058</td>\n",
              "      <td>47.0</td>\n",
              "      <td>186.0</td>\n",
              "      <td>0.9956</td>\n",
              "      <td>3.19</td>\n",
              "      <td>0.40</td>\n",
              "      <td>9.9</td>\n",
              "      <td>6</td>\n",
              "    </tr>\n",
              "    <tr>\n",
              "      <th>4</th>\n",
              "      <td>7.2</td>\n",
              "      <td>0.23</td>\n",
              "      <td>0.32</td>\n",
              "      <td>8.5</td>\n",
              "      <td>0.058</td>\n",
              "      <td>47.0</td>\n",
              "      <td>186.0</td>\n",
              "      <td>0.9956</td>\n",
              "      <td>3.19</td>\n",
              "      <td>0.40</td>\n",
              "      <td>9.9</td>\n",
              "      <td>6</td>\n",
              "    </tr>\n",
              "  </tbody>\n",
              "</table>\n",
              "</div>"
            ],
            "text/plain": [
              "   fixed_acidity  volatile_acidity  citric_acid  ...  sulphates  alcohol  quality\n",
              "0            7.0              0.27         0.36  ...       0.45      8.8        6\n",
              "1            6.3              0.30         0.34  ...       0.49      9.5        6\n",
              "2            8.1              0.28         0.40  ...       0.44     10.1        6\n",
              "3            7.2              0.23         0.32  ...       0.40      9.9        6\n",
              "4            7.2              0.23         0.32  ...       0.40      9.9        6\n",
              "\n",
              "[5 rows x 12 columns]"
            ]
          },
          "metadata": {},
          "execution_count": 10
        }
      ]
    },
    {
      "cell_type": "markdown",
      "metadata": {
        "id": "pqzUyXeCFokr"
      },
      "source": [
        "Checking for Missing Values"
      ]
    },
    {
      "cell_type": "code",
      "metadata": {
        "colab": {
          "base_uri": "https://localhost:8080/",
          "height": 444
        },
        "id": "UkXuQymjFs5C",
        "outputId": "e60133f3-4b0d-4fd7-91e4-ed2b5c3d6290"
      },
      "source": [
        "white_wine_data.isna()#returns the dataframe with boolean values indicating missing values."
      ],
      "execution_count": 11,
      "outputs": [
        {
          "output_type": "execute_result",
          "data": {
            "text/html": [
              "<div>\n",
              "<style scoped>\n",
              "    .dataframe tbody tr th:only-of-type {\n",
              "        vertical-align: middle;\n",
              "    }\n",
              "\n",
              "    .dataframe tbody tr th {\n",
              "        vertical-align: top;\n",
              "    }\n",
              "\n",
              "    .dataframe thead th {\n",
              "        text-align: right;\n",
              "    }\n",
              "</style>\n",
              "<table border=\"1\" class=\"dataframe\">\n",
              "  <thead>\n",
              "    <tr style=\"text-align: right;\">\n",
              "      <th></th>\n",
              "      <th>fixed_acidity</th>\n",
              "      <th>volatile_acidity</th>\n",
              "      <th>citric_acid</th>\n",
              "      <th>residual_sugar</th>\n",
              "      <th>chlorides</th>\n",
              "      <th>free_sulfur_dioxide</th>\n",
              "      <th>total_sulfur_dioxide</th>\n",
              "      <th>density</th>\n",
              "      <th>pH</th>\n",
              "      <th>sulphates</th>\n",
              "      <th>alcohol</th>\n",
              "      <th>quality</th>\n",
              "    </tr>\n",
              "  </thead>\n",
              "  <tbody>\n",
              "    <tr>\n",
              "      <th>0</th>\n",
              "      <td>False</td>\n",
              "      <td>False</td>\n",
              "      <td>False</td>\n",
              "      <td>False</td>\n",
              "      <td>False</td>\n",
              "      <td>False</td>\n",
              "      <td>False</td>\n",
              "      <td>False</td>\n",
              "      <td>False</td>\n",
              "      <td>False</td>\n",
              "      <td>False</td>\n",
              "      <td>False</td>\n",
              "    </tr>\n",
              "    <tr>\n",
              "      <th>1</th>\n",
              "      <td>False</td>\n",
              "      <td>False</td>\n",
              "      <td>False</td>\n",
              "      <td>False</td>\n",
              "      <td>False</td>\n",
              "      <td>False</td>\n",
              "      <td>False</td>\n",
              "      <td>False</td>\n",
              "      <td>False</td>\n",
              "      <td>False</td>\n",
              "      <td>False</td>\n",
              "      <td>False</td>\n",
              "    </tr>\n",
              "    <tr>\n",
              "      <th>2</th>\n",
              "      <td>False</td>\n",
              "      <td>False</td>\n",
              "      <td>False</td>\n",
              "      <td>False</td>\n",
              "      <td>False</td>\n",
              "      <td>False</td>\n",
              "      <td>False</td>\n",
              "      <td>False</td>\n",
              "      <td>False</td>\n",
              "      <td>False</td>\n",
              "      <td>False</td>\n",
              "      <td>False</td>\n",
              "    </tr>\n",
              "    <tr>\n",
              "      <th>3</th>\n",
              "      <td>False</td>\n",
              "      <td>False</td>\n",
              "      <td>False</td>\n",
              "      <td>False</td>\n",
              "      <td>False</td>\n",
              "      <td>False</td>\n",
              "      <td>False</td>\n",
              "      <td>False</td>\n",
              "      <td>False</td>\n",
              "      <td>False</td>\n",
              "      <td>False</td>\n",
              "      <td>False</td>\n",
              "    </tr>\n",
              "    <tr>\n",
              "      <th>4</th>\n",
              "      <td>False</td>\n",
              "      <td>False</td>\n",
              "      <td>False</td>\n",
              "      <td>False</td>\n",
              "      <td>False</td>\n",
              "      <td>False</td>\n",
              "      <td>False</td>\n",
              "      <td>False</td>\n",
              "      <td>False</td>\n",
              "      <td>False</td>\n",
              "      <td>False</td>\n",
              "      <td>False</td>\n",
              "    </tr>\n",
              "    <tr>\n",
              "      <th>...</th>\n",
              "      <td>...</td>\n",
              "      <td>...</td>\n",
              "      <td>...</td>\n",
              "      <td>...</td>\n",
              "      <td>...</td>\n",
              "      <td>...</td>\n",
              "      <td>...</td>\n",
              "      <td>...</td>\n",
              "      <td>...</td>\n",
              "      <td>...</td>\n",
              "      <td>...</td>\n",
              "      <td>...</td>\n",
              "    </tr>\n",
              "    <tr>\n",
              "      <th>4893</th>\n",
              "      <td>False</td>\n",
              "      <td>False</td>\n",
              "      <td>False</td>\n",
              "      <td>False</td>\n",
              "      <td>False</td>\n",
              "      <td>False</td>\n",
              "      <td>False</td>\n",
              "      <td>False</td>\n",
              "      <td>False</td>\n",
              "      <td>False</td>\n",
              "      <td>False</td>\n",
              "      <td>False</td>\n",
              "    </tr>\n",
              "    <tr>\n",
              "      <th>4894</th>\n",
              "      <td>False</td>\n",
              "      <td>False</td>\n",
              "      <td>False</td>\n",
              "      <td>False</td>\n",
              "      <td>False</td>\n",
              "      <td>False</td>\n",
              "      <td>False</td>\n",
              "      <td>False</td>\n",
              "      <td>False</td>\n",
              "      <td>False</td>\n",
              "      <td>False</td>\n",
              "      <td>False</td>\n",
              "    </tr>\n",
              "    <tr>\n",
              "      <th>4895</th>\n",
              "      <td>False</td>\n",
              "      <td>False</td>\n",
              "      <td>False</td>\n",
              "      <td>False</td>\n",
              "      <td>False</td>\n",
              "      <td>False</td>\n",
              "      <td>False</td>\n",
              "      <td>False</td>\n",
              "      <td>False</td>\n",
              "      <td>False</td>\n",
              "      <td>False</td>\n",
              "      <td>False</td>\n",
              "    </tr>\n",
              "    <tr>\n",
              "      <th>4896</th>\n",
              "      <td>False</td>\n",
              "      <td>False</td>\n",
              "      <td>False</td>\n",
              "      <td>False</td>\n",
              "      <td>False</td>\n",
              "      <td>False</td>\n",
              "      <td>False</td>\n",
              "      <td>False</td>\n",
              "      <td>False</td>\n",
              "      <td>False</td>\n",
              "      <td>False</td>\n",
              "      <td>False</td>\n",
              "    </tr>\n",
              "    <tr>\n",
              "      <th>4897</th>\n",
              "      <td>False</td>\n",
              "      <td>False</td>\n",
              "      <td>False</td>\n",
              "      <td>False</td>\n",
              "      <td>False</td>\n",
              "      <td>False</td>\n",
              "      <td>False</td>\n",
              "      <td>False</td>\n",
              "      <td>False</td>\n",
              "      <td>False</td>\n",
              "      <td>False</td>\n",
              "      <td>False</td>\n",
              "    </tr>\n",
              "  </tbody>\n",
              "</table>\n",
              "<p>4898 rows × 12 columns</p>\n",
              "</div>"
            ],
            "text/plain": [
              "      fixed_acidity  volatile_acidity  citric_acid  ...  sulphates  alcohol  quality\n",
              "0             False             False        False  ...      False    False    False\n",
              "1             False             False        False  ...      False    False    False\n",
              "2             False             False        False  ...      False    False    False\n",
              "3             False             False        False  ...      False    False    False\n",
              "4             False             False        False  ...      False    False    False\n",
              "...             ...               ...          ...  ...        ...      ...      ...\n",
              "4893          False             False        False  ...      False    False    False\n",
              "4894          False             False        False  ...      False    False    False\n",
              "4895          False             False        False  ...      False    False    False\n",
              "4896          False             False        False  ...      False    False    False\n",
              "4897          False             False        False  ...      False    False    False\n",
              "\n",
              "[4898 rows x 12 columns]"
            ]
          },
          "metadata": {},
          "execution_count": 11
        }
      ]
    },
    {
      "cell_type": "code",
      "metadata": {
        "colab": {
          "base_uri": "https://localhost:8080/"
        },
        "id": "4ULsQ1JhGBXX",
        "outputId": "0ee938fe-e5be-4153-de81-88c817e2dd8c"
      },
      "source": [
        "white_wine_data.isna().sum()#returns the number of missing values in each column"
      ],
      "execution_count": 12,
      "outputs": [
        {
          "output_type": "execute_result",
          "data": {
            "text/plain": [
              "fixed_acidity           0\n",
              "volatile_acidity        0\n",
              "citric_acid             0\n",
              "residual_sugar          0\n",
              "chlorides               0\n",
              "free_sulfur_dioxide     0\n",
              "total_sulfur_dioxide    0\n",
              "density                 0\n",
              "pH                      0\n",
              "sulphates               0\n",
              "alcohol                 0\n",
              "quality                 0\n",
              "dtype: int64"
            ]
          },
          "metadata": {},
          "execution_count": 12
        }
      ]
    },
    {
      "cell_type": "markdown",
      "metadata": {
        "id": "dJGF93T1GQdR"
      },
      "source": [
        "**Observation**  There are no missing values present in any of the columns"
      ]
    },
    {
      "cell_type": "markdown",
      "metadata": {
        "id": "pJ265a8BGto0"
      },
      "source": [
        "Display the  information about the data frame including the data types of each column, number of null values in each column and memory usage of the entire data using Info() function."
      ]
    },
    {
      "cell_type": "code",
      "metadata": {
        "colab": {
          "base_uri": "https://localhost:8080/"
        },
        "id": "JU_o7aViG35L",
        "outputId": "6568e44a-b093-4589-bcc2-08f65ac17e6e"
      },
      "source": [
        "white_wine_data.info()"
      ],
      "execution_count": 13,
      "outputs": [
        {
          "output_type": "stream",
          "name": "stdout",
          "text": [
            "<class 'pandas.core.frame.DataFrame'>\n",
            "RangeIndex: 4898 entries, 0 to 4897\n",
            "Data columns (total 12 columns):\n",
            " #   Column                Non-Null Count  Dtype  \n",
            "---  ------                --------------  -----  \n",
            " 0   fixed_acidity         4898 non-null   float64\n",
            " 1   volatile_acidity      4898 non-null   float64\n",
            " 2   citric_acid           4898 non-null   float64\n",
            " 3   residual_sugar        4898 non-null   float64\n",
            " 4   chlorides             4898 non-null   float64\n",
            " 5   free_sulfur_dioxide   4898 non-null   float64\n",
            " 6   total_sulfur_dioxide  4898 non-null   float64\n",
            " 7   density               4898 non-null   float64\n",
            " 8   pH                    4898 non-null   float64\n",
            " 9   sulphates             4898 non-null   float64\n",
            " 10  alcohol               4898 non-null   float64\n",
            " 11  quality               4898 non-null   int64  \n",
            "dtypes: float64(11), int64(1)\n",
            "memory usage: 459.3 KB\n"
          ]
        }
      ]
    },
    {
      "cell_type": "markdown",
      "metadata": {
        "id": "EowXlbsyHFmA"
      },
      "source": [
        "**Observations**\n",
        "*   The Data has only float and integer values\n",
        "*   There are no missing values\n",
        "\n"
      ]
    },
    {
      "cell_type": "markdown",
      "metadata": {
        "id": "eMY-jclxJSHO"
      },
      "source": [
        "Checking for the Duplicates\n",
        "\n",
        "*   Duplicates might or might not affect the quality of data. Before deciding if they should be removed, it is essential to understand why they might have occurred in the first place.\n",
        "\n"
      ]
    },
    {
      "cell_type": "code",
      "metadata": {
        "id": "MmHOPXLYHIZa",
        "colab": {
          "base_uri": "https://localhost:8080/"
        },
        "outputId": "791fcc44-4cdc-4165-b2aa-a854cd168d5c"
      },
      "source": [
        "duplicate = white_wine_data[white_wine_data.duplicated()]\n",
        "duplicate.shape"
      ],
      "execution_count": 14,
      "outputs": [
        {
          "output_type": "execute_result",
          "data": {
            "text/plain": [
              "(937, 12)"
            ]
          },
          "metadata": {},
          "execution_count": 14
        }
      ]
    },
    {
      "cell_type": "markdown",
      "metadata": {
        "id": "OgBlEo2jEhOD"
      },
      "source": [
        "**Observations**\n",
        "*   There are 937 duplicates. The quality ratings for the same/similar wine were given by different wine tasters so there is a possibility of similar reviews. We can thus keep these duplicates.\n",
        "\n",
        "\n"
      ]
    },
    {
      "cell_type": "markdown",
      "metadata": {
        "id": "koaNUz_kK4lu"
      },
      "source": [
        "**Data visualization pr graphical Representaion**"
      ]
    },
    {
      "cell_type": "code",
      "metadata": {
        "id": "0jTmJN0QLExC"
      },
      "source": [
        "#importing the libraries related to graphicalrepresentation\n",
        "import matplotlib.pyplot as plt\n",
        "import seaborn as sns"
      ],
      "execution_count": 15,
      "outputs": []
    },
    {
      "cell_type": "markdown",
      "metadata": {
        "id": "yO23qewxLcW7"
      },
      "source": [
        "Seperate the Target and input Variables"
      ]
    },
    {
      "cell_type": "code",
      "metadata": {
        "id": "c03zvzf6LnQL"
      },
      "source": [
        "Y = white_wine_data[\"quality\"]\n",
        "X = white_wine_data.drop(white_wine_data['quality'],inplace = True)"
      ],
      "execution_count": 16,
      "outputs": []
    },
    {
      "cell_type": "markdown",
      "metadata": {
        "id": "WakIACHCMAKi"
      },
      "source": [
        "\n",
        "*   X contains all the features except the 'quality' coloumn\n",
        "*   Y has the Quality coloumn"
      ]
    },
    {
      "cell_type": "markdown",
      "metadata": {
        "id": "-YbnP1T7MqrE"
      },
      "source": [
        "Let's plot a histogram now! On calling the hist( ) method on a DataFrame, you'll get histograms for all the Series."
      ]
    },
    {
      "cell_type": "code",
      "metadata": {
        "colab": {
          "base_uri": "https://localhost:8080/",
          "height": 716
        },
        "id": "dzVKxdoAMobJ",
        "outputId": "d591a17c-2687-4ea7-894c-6d7c6fab2a70"
      },
      "source": [
        "white_wine_data.hist(bins=10,figsize=(16,12))\n",
        "plt.show()"
      ],
      "execution_count": 17,
      "outputs": [
        {
          "output_type": "display_data",
          "data": {
            "image/png": "[encoded data removed]",
            "text/plain": [
              "<Figure size 1152x864 with 12 Axes>"
            ]
          },
          "metadata": {
            "needs_background": "light"
          }
        }
      ]
    },
    {
      "cell_type": "markdown",
      "metadata": {
        "id": "ivgPcIk-jQjn"
      },
      "source": [
        "**Observations:**"
      ]
    },
    {
      "cell_type": "markdown",
      "metadata": {
        "id": "uovDOBtdjVSj"
      },
      "source": [
        "* The distribution of the attribute “alcohol” seems to be positively skewed i.e the curve is shifted towards the left.\n",
        "* The attributes 'total sulpur dioxide' and 'pH' are quite normally distributed.\n",
        "* Now looking at the attribute quality, we can observe that the wines with average quality (i.e. quality rating 5 to 7) are more than wines with bad(1-4) or good(8-10) quality."
      ]
    },
    {
      "cell_type": "markdown",
      "metadata": {
        "id": "SRE4lXk892MM"
      },
      "source": [
        "**Correlation Matrix with Heatmap**"
      ]
    },
    {
      "cell_type": "markdown",
      "metadata": {
        "id": "X-Kq2-Mj94ha"
      },
      "source": [
        "**Correlation:**"
      ]
    },
    {
      "cell_type": "markdown",
      "metadata": {
        "id": "qYJkutW198L0"
      },
      "source": [
        "Correlation is a statistical measure. Data correlation is a way to understand the relationship between multiple values or features in your dataset.\n",
        "\n"
      ]
    },
    {
      "cell_type": "markdown",
      "metadata": {
        "id": "nwUUGzUygmkj"
      },
      "source": [
        "We can check how each feature is related to others using corr() function"
      ]
    },
    {
      "cell_type": "markdown",
      "metadata": {
        "id": "FflnJZFjh1Wg"
      },
      "source": [
        ""
      ]
    },
    {
      "cell_type": "code",
      "metadata": {
        "colab": {
          "base_uri": "https://localhost:8080/",
          "height": 446
        },
        "id": "kAl5qMbgh2_0",
        "outputId": "1a69152d-d429-4fb8-c9ed-af978a79a0ed"
      },
      "source": [
        "white_wine_data.corr()"
      ],
      "execution_count": 18,
      "outputs": [
        {
          "output_type": "execute_result",
          "data": {
            "text/html": [
              "<div>\n",
              "<style scoped>\n",
              "    .dataframe tbody tr th:only-of-type {\n",
              "        vertical-align: middle;\n",
              "    }\n",
              "\n",
              "    .dataframe tbody tr th {\n",
              "        vertical-align: top;\n",
              "    }\n",
              "\n",
              "    .dataframe thead th {\n",
              "        text-align: right;\n",
              "    }\n",
              "</style>\n",
              "<table border=\"1\" class=\"dataframe\">\n",
              "  <thead>\n",
              "    <tr style=\"text-align: right;\">\n",
              "      <th></th>\n",
              "      <th>fixed_acidity</th>\n",
              "      <th>volatile_acidity</th>\n",
              "      <th>citric_acid</th>\n",
              "      <th>residual_sugar</th>\n",
              "      <th>chlorides</th>\n",
              "      <th>free_sulfur_dioxide</th>\n",
              "      <th>total_sulfur_dioxide</th>\n",
              "      <th>density</th>\n",
              "      <th>pH</th>\n",
              "      <th>sulphates</th>\n",
              "      <th>alcohol</th>\n",
              "      <th>quality</th>\n",
              "    </tr>\n",
              "  </thead>\n",
              "  <tbody>\n",
              "    <tr>\n",
              "      <th>fixed_acidity</th>\n",
              "      <td>1.000000</td>\n",
              "      <td>-0.022366</td>\n",
              "      <td>0.288829</td>\n",
              "      <td>0.089149</td>\n",
              "      <td>0.022989</td>\n",
              "      <td>-0.049570</td>\n",
              "      <td>0.091279</td>\n",
              "      <td>0.265445</td>\n",
              "      <td>-0.426286</td>\n",
              "      <td>-0.016802</td>\n",
              "      <td>-0.121114</td>\n",
              "      <td>-0.113802</td>\n",
              "    </tr>\n",
              "    <tr>\n",
              "      <th>volatile_acidity</th>\n",
              "      <td>-0.022366</td>\n",
              "      <td>1.000000</td>\n",
              "      <td>-0.149342</td>\n",
              "      <td>0.064405</td>\n",
              "      <td>0.070619</td>\n",
              "      <td>-0.096878</td>\n",
              "      <td>0.089528</td>\n",
              "      <td>0.027241</td>\n",
              "      <td>-0.031950</td>\n",
              "      <td>-0.035923</td>\n",
              "      <td>0.067778</td>\n",
              "      <td>-0.194719</td>\n",
              "    </tr>\n",
              "    <tr>\n",
              "      <th>citric_acid</th>\n",
              "      <td>0.288829</td>\n",
              "      <td>-0.149342</td>\n",
              "      <td>1.000000</td>\n",
              "      <td>0.094425</td>\n",
              "      <td>0.114417</td>\n",
              "      <td>0.094170</td>\n",
              "      <td>0.121370</td>\n",
              "      <td>0.149626</td>\n",
              "      <td>-0.163895</td>\n",
              "      <td>0.062393</td>\n",
              "      <td>-0.075983</td>\n",
              "      <td>-0.009210</td>\n",
              "    </tr>\n",
              "    <tr>\n",
              "      <th>residual_sugar</th>\n",
              "      <td>0.089149</td>\n",
              "      <td>0.064405</td>\n",
              "      <td>0.094425</td>\n",
              "      <td>1.000000</td>\n",
              "      <td>0.088717</td>\n",
              "      <td>0.298749</td>\n",
              "      <td>0.401353</td>\n",
              "      <td>0.838904</td>\n",
              "      <td>-0.193489</td>\n",
              "      <td>-0.026417</td>\n",
              "      <td>-0.450448</td>\n",
              "      <td>-0.097735</td>\n",
              "    </tr>\n",
              "    <tr>\n",
              "      <th>chlorides</th>\n",
              "      <td>0.022989</td>\n",
              "      <td>0.070619</td>\n",
              "      <td>0.114417</td>\n",
              "      <td>0.088717</td>\n",
              "      <td>1.000000</td>\n",
              "      <td>0.101321</td>\n",
              "      <td>0.198795</td>\n",
              "      <td>0.257276</td>\n",
              "      <td>-0.090517</td>\n",
              "      <td>0.016955</td>\n",
              "      <td>-0.360216</td>\n",
              "      <td>-0.209989</td>\n",
              "    </tr>\n",
              "    <tr>\n",
              "      <th>free_sulfur_dioxide</th>\n",
              "      <td>-0.049570</td>\n",
              "      <td>-0.096878</td>\n",
              "      <td>0.094170</td>\n",
              "      <td>0.298749</td>\n",
              "      <td>0.101321</td>\n",
              "      <td>1.000000</td>\n",
              "      <td>0.615436</td>\n",
              "      <td>0.294107</td>\n",
              "      <td>-0.000242</td>\n",
              "      <td>0.059440</td>\n",
              "      <td>-0.250230</td>\n",
              "      <td>0.008171</td>\n",
              "    </tr>\n",
              "    <tr>\n",
              "      <th>total_sulfur_dioxide</th>\n",
              "      <td>0.091279</td>\n",
              "      <td>0.089528</td>\n",
              "      <td>0.121370</td>\n",
              "      <td>0.401353</td>\n",
              "      <td>0.198795</td>\n",
              "      <td>0.615436</td>\n",
              "      <td>1.000000</td>\n",
              "      <td>0.529914</td>\n",
              "      <td>0.002633</td>\n",
              "      <td>0.134951</td>\n",
              "      <td>-0.448902</td>\n",
              "      <td>-0.174857</td>\n",
              "    </tr>\n",
              "    <tr>\n",
              "      <th>density</th>\n",
              "      <td>0.265445</td>\n",
              "      <td>0.027241</td>\n",
              "      <td>0.149626</td>\n",
              "      <td>0.838904</td>\n",
              "      <td>0.257276</td>\n",
              "      <td>0.294107</td>\n",
              "      <td>0.529914</td>\n",
              "      <td>1.000000</td>\n",
              "      <td>-0.093109</td>\n",
              "      <td>0.074926</td>\n",
              "      <td>-0.780102</td>\n",
              "      <td>-0.307434</td>\n",
              "    </tr>\n",
              "    <tr>\n",
              "      <th>pH</th>\n",
              "      <td>-0.426286</td>\n",
              "      <td>-0.031950</td>\n",
              "      <td>-0.163895</td>\n",
              "      <td>-0.193489</td>\n",
              "      <td>-0.090517</td>\n",
              "      <td>-0.000242</td>\n",
              "      <td>0.002633</td>\n",
              "      <td>-0.093109</td>\n",
              "      <td>1.000000</td>\n",
              "      <td>0.155987</td>\n",
              "      <td>0.121290</td>\n",
              "      <td>0.099449</td>\n",
              "    </tr>\n",
              "    <tr>\n",
              "      <th>sulphates</th>\n",
              "      <td>-0.016802</td>\n",
              "      <td>-0.035923</td>\n",
              "      <td>0.062393</td>\n",
              "      <td>-0.026417</td>\n",
              "      <td>0.016955</td>\n",
              "      <td>0.059440</td>\n",
              "      <td>0.134951</td>\n",
              "      <td>0.074926</td>\n",
              "      <td>0.155987</td>\n",
              "      <td>1.000000</td>\n",
              "      <td>-0.017731</td>\n",
              "      <td>0.053769</td>\n",
              "    </tr>\n",
              "    <tr>\n",
              "      <th>alcohol</th>\n",
              "      <td>-0.121114</td>\n",
              "      <td>0.067778</td>\n",
              "      <td>-0.075983</td>\n",
              "      <td>-0.450448</td>\n",
              "      <td>-0.360216</td>\n",
              "      <td>-0.250230</td>\n",
              "      <td>-0.448902</td>\n",
              "      <td>-0.780102</td>\n",
              "      <td>0.121290</td>\n",
              "      <td>-0.017731</td>\n",
              "      <td>1.000000</td>\n",
              "      <td>0.435866</td>\n",
              "    </tr>\n",
              "    <tr>\n",
              "      <th>quality</th>\n",
              "      <td>-0.113802</td>\n",
              "      <td>-0.194719</td>\n",
              "      <td>-0.009210</td>\n",
              "      <td>-0.097735</td>\n",
              "      <td>-0.209989</td>\n",
              "      <td>0.008171</td>\n",
              "      <td>-0.174857</td>\n",
              "      <td>-0.307434</td>\n",
              "      <td>0.099449</td>\n",
              "      <td>0.053769</td>\n",
              "      <td>0.435866</td>\n",
              "      <td>1.000000</td>\n",
              "    </tr>\n",
              "  </tbody>\n",
              "</table>\n",
              "</div>"
            ],
            "text/plain": [
              "                      fixed_acidity  volatile_acidity  ...   alcohol   quality\n",
              "fixed_acidity              1.000000         -0.022366  ... -0.121114 -0.113802\n",
              "volatile_acidity          -0.022366          1.000000  ...  0.067778 -0.194719\n",
              "citric_acid                0.288829         -0.149342  ... -0.075983 -0.009210\n",
              "residual_sugar             0.089149          0.064405  ... -0.450448 -0.097735\n",
              "chlorides                  0.022989          0.070619  ... -0.360216 -0.209989\n",
              "free_sulfur_dioxide       -0.049570         -0.096878  ... -0.250230  0.008171\n",
              "total_sulfur_dioxide       0.091279          0.089528  ... -0.448902 -0.174857\n",
              "density                    0.265445          0.027241  ... -0.780102 -0.307434\n",
              "pH                        -0.426286         -0.031950  ...  0.121290  0.099449\n",
              "sulphates                 -0.016802         -0.035923  ... -0.017731  0.053769\n",
              "alcohol                   -0.121114          0.067778  ...  1.000000  0.435866\n",
              "quality                   -0.113802         -0.194719  ...  0.435866  1.000000\n",
              "\n",
              "[12 rows x 12 columns]"
            ]
          },
          "metadata": {},
          "execution_count": 18
        }
      ]
    },
    {
      "cell_type": "markdown",
      "metadata": {
        "id": "ZxYEYDVP-wg0"
      },
      "source": [
        "Creating a pictorial visualisation of the above correlation matrix using a heatmap helps in better understanding. We can do that using Seaborn's Heatmap function."
      ]
    },
    {
      "cell_type": "code",
      "metadata": {
        "colab": {
          "base_uri": "https://localhost:8080/",
          "height": 809
        },
        "id": "fl8ineQBiaL9",
        "outputId": "aa5f2f1d-ab1b-4ede-a6b5-4c641778078b"
      },
      "source": [
        "plt.figure(figsize=(16,12))\n",
        "sns.heatmap(white_wine_data.corr(),cmap='bwr',annot=True)"
      ],
      "execution_count": 19,
      "outputs": [
        {
          "output_type": "execute_result",
          "data": {
            "text/plain": [
              "<matplotlib.axes._subplots.AxesSubplot at 0x7facbf687110>"
            ]
          },
          "metadata": {},
          "execution_count": 19
        },
        {
          "output_type": "display_data",
          "data": {
            "image/png": "[encoded data removed]",
            "text/plain": [
              "<Figure size 1152x864 with 2 Axes>"
            ]
          },
          "metadata": {
            "needs_background": "light"
          }
        }
      ]
    },
    {
      "cell_type": "markdown",
      "metadata": {
        "id": "zonKDDCU_UJC"
      },
      "source": [
        "**Observations:**"
      ]
    },
    {
      "cell_type": "markdown",
      "metadata": {
        "id": "8paZ2Avq_WKn"
      },
      "source": [
        "* Alcohol has the highest positive correlation with wine quality.\n",
        "* There is a relatively high positive correlation between fixed_acidity and citric_acid, fixed_acidity and density.\n",
        "* There is a relatively high negative correlation between fixed_acidity and pH.\n",
        "* Density has a strong positive correlation with residual sugar, whereas it has a strong negative correlation with alcohol.\n",
        "* citric acid & volatile acidity have negative correlation.\n",
        "* free sulphur dioxide & total sulphur dioxide have positive correlation."
      ]
    },
    {
      "cell_type": "markdown",
      "metadata": {
        "id": "-Ropgb3s_pV5"
      },
      "source": [
        "**Pair Plot**"
      ]
    },
    {
      "cell_type": "markdown",
      "metadata": {
        "id": "X9clo29-_riB"
      },
      "source": [
        "The pair plot builds on two basic figures, the histogram and the scatter plot. The histogram on the diagonal allows us to see the distribution of a single variable while the scatter plots on the upper and lower triangles show the relationship (or lack thereof) between two variables.\n",
        "\n",
        "It plots every numerical attribute against every other.\n",
        "\n",
        "pairplot function of seaborn helps to achieve this"
      ]
    },
    {
      "cell_type": "code",
      "metadata": {
        "colab": {
          "base_uri": "https://localhost:8080/"
        },
        "id": "ae4oJ4uXoSUD",
        "outputId": "98fb8601-9ed8-4cc5-bd18-1ab4cbb6336f"
      },
      "source": [
        "sns.pairplot(white_wine_data)"
      ],
      "execution_count": null,
      "outputs": [
        {
          "output_type": "execute_result",
          "data": {
            "text/plain": [
              "<seaborn.axisgrid.PairGrid at 0x7facb6715c50>"
            ]
          },
          "metadata": {},
          "execution_count": 20
        }
      ]
    },
    {
      "cell_type": "markdown",
      "metadata": {
        "id": "_9nh-Z1a_9GU"
      },
      "source": [
        "The correlation between fixed_acidity and citric_acid is 0.288829. (you could find this value under the correlation matrix).\n",
        "\n",
        "\n",
        "Looking at scatterplot for this pair of variables, we can see the positive linear correlation between these two variables. We can observe the upward trend, and also the points are not too dispersed."
      ]
    },
    {
      "cell_type": "markdown",
      "metadata": {
        "id": "TlQ0h37eAKAj"
      },
      "source": [
        "**Box Plot**"
      ]
    },
    {
      "cell_type": "markdown",
      "metadata": {
        "id": "0V2uLZPnAMT9"
      },
      "source": [
        "A box plot is a great way to get a visual sense of an entire range of data. It can tell you about your outliers and what their values are. It can also tell you if your data is symmetrical, how tightly your data is grouped, and if and how your data is skewed.\n",
        "\n",
        "Box plots divides data into its quartiles. The “box” shows a user the data set between the first and third quartiles.\n",
        "\n",
        "It displays the five-number summary of a set of data. The five-number summary is:\n",
        "1. minimum\n",
        "2. first quartile (Q1)\n",
        "3. median\n",
        "4. third quartile (Q3)\n",
        "5. maximum"
      ]
    },
    {
      "cell_type": "code",
      "metadata": {
        "id": "r46tOmPorDCb"
      },
      "source": [
        "sns.boxplot(white_wine_data['quality'],white_wine_data['alcohol'],palette='GnBu_d')\n",
        "plt.title(\"Boxplot of quality and alcohol\")\n",
        "plt.show()"
      ],
      "execution_count": null,
      "outputs": []
    },
    {
      "cell_type": "markdown",
      "metadata": {
        "id": "eMKjZDMVBVmx"
      },
      "source": [
        "**Observation:**"
      ]
    },
    {
      "cell_type": "markdown",
      "metadata": {
        "id": "UE-0OKAmBXz3"
      },
      "source": [
        "* The above plot shows the increase in the quality of wine with an increase in alcohol. The quality of the wine is directly related to the amount of alcohol in the wine. More the alcohol in the wine, the better will be the quality.\n",
        "* Also, the points lying outside the whiskers(the lines extending from the rectangular box) are the outliers."
      ]
    },
    {
      "cell_type": "code",
      "metadata": {
        "id": "jav41HZ8GG6r"
      },
      "source": [
        "#Grouping the wine based on grade\n",
        "# Defining 'grade' of wine\n",
        "\n",
        "#Good wine\n",
        "white_wine_data['grade'] = 1 \n",
        "\n",
        "#Bad wine\n",
        "white_wine_data.grade[white_wine_data.quality < 6.5] = 0 \n",
        "\n",
        "#set plotsize and colors\n",
        "plt.figure(figsize = (6,6))\n",
        "colors = ['lightcoral', 'rosybrown']\n",
        "\n",
        "labels = white_wine_data.grade.value_counts().index\n",
        "plt.pie(white_wine_data.grade.value_counts(), autopct='%1.1f%%',colors=colors)\n",
        "plt.legend(labels, loc=\"Best\")\n",
        "plt.axis('equal')\n",
        "plt.title('White Wine Quality Distribution')\n",
        "plt.show()\n",
        "#Show mean quality of white wine and quality distribution\n",
        "\n",
        "print('The amount of good quality white wine is ',round(white_wine_data.grade.value_counts(normalize=True)[1]*100,1),'%.')\n",
        "print(\"mean white wine quality = \",white_wine_data[\"quality\"].mean())"
      ],
      "execution_count": null,
      "outputs": []
    },
    {
      "cell_type": "code",
      "metadata": {
        "id": "2G0eYl_OGON6"
      },
      "source": [
        "# plot to see how pH is varying in the grade of white wine\n",
        "plt.figure(figsize=(6,6))\n",
        "ax = sns.lineplot(x=\"pH\", y=\"quality\", hue=\"grade\", data=white_wine_data,markers=True)"
      ],
      "execution_count": null,
      "outputs": []
    }
  ]
}